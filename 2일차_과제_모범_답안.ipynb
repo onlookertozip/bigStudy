{
  "nbformat": 4,
  "nbformat_minor": 0,
  "metadata": {
    "colab": {
      "name": "2일차 과제-모범 답안.ipynb",
      "provenance": [],
      "collapsed_sections": []
    },
    "kernelspec": {
      "name": "python3",
      "display_name": "Python 3"
    }
  },
  "cells": [
    {
      "cell_type": "markdown",
      "metadata": {
        "id": "6VzRGIy4oHCq"
      },
      "source": [
        "# 2일차 과제-모범 답안"
      ]
    },
    {
      "cell_type": "markdown",
      "metadata": {
        "id": "1KZ6IlhMoMB5"
      },
      "source": [
        "샘플로 제공되어지는 다음 데이터 셋은 아이폰, 안드로이드 스마트폰을 소유한 전국의 15-49세 남녀 대상 설문조사 데이터와 이것을 분석용 데이터 셋으로 구축하는 과정을 보여준다. 샘플 데이터 셋을 만들고, 구축 과정 스크립트를 작성해 제출하시오.\n"
      ]
    },
    {
      "cell_type": "markdown",
      "metadata": {
        "id": "uPVYDHVKUKmj"
      },
      "source": [
        "# 데이터 셋 로드"
      ]
    },
    {
      "cell_type": "code",
      "metadata": {
        "id": "W00oKpTyPF3a"
      },
      "source": [
        "import pandas as pd"
      ],
      "execution_count": null,
      "outputs": []
    },
    {
      "cell_type": "code",
      "metadata": {
        "id": "lj_3BGchVUXa"
      },
      "source": [
        "스마트폰=pd.read_excel(\"phone.xlsx\")"
      ],
      "execution_count": null,
      "outputs": []
    },
    {
      "cell_type": "code",
      "metadata": {
        "colab": {
          "base_uri": "https://localhost:8080/"
        },
        "id": "JtjyUNkn5frj",
        "outputId": "fd859c9a-2cd4-4819-f4d5-c802ada90ca9"
      },
      "source": [
        "type(스마트폰)"
      ],
      "execution_count": null,
      "outputs": [
        {
          "output_type": "execute_result",
          "data": {
            "text/plain": [
              "pandas.core.frame.DataFrame"
            ]
          },
          "metadata": {
            "tags": []
          },
          "execution_count": 28
        }
      ]
    },
    {
      "cell_type": "markdown",
      "metadata": {
        "id": "MEaxaZfNW7Rq"
      },
      "source": [
        "# EDA"
      ]
    },
    {
      "cell_type": "code",
      "metadata": {
        "colab": {
          "base_uri": "https://localhost:8080/",
          "height": 333
        },
        "id": "2H6zNR-oW_7i",
        "outputId": "a7688028-fb03-4a60-bc7a-923b83aebb1f"
      },
      "source": [
        "스마트폰.head()"
      ],
      "execution_count": null,
      "outputs": [
        {
          "output_type": "execute_result",
          "data": {
            "text/html": [
              "<div>\n",
              "<style scoped>\n",
              "    .dataframe tbody tr th:only-of-type {\n",
              "        vertical-align: middle;\n",
              "    }\n",
              "\n",
              "    .dataframe tbody tr th {\n",
              "        vertical-align: top;\n",
              "    }\n",
              "\n",
              "    .dataframe thead th {\n",
              "        text-align: right;\n",
              "    }\n",
              "</style>\n",
              "<table border=\"1\" class=\"dataframe\">\n",
              "  <thead>\n",
              "    <tr style=\"text-align: right;\">\n",
              "      <th></th>\n",
              "      <th>Unnamed: 0</th>\n",
              "      <th>스마트폰 관련</th>\n",
              "      <th>Unnamed: 2</th>\n",
              "      <th>Unnamed: 3</th>\n",
              "      <th>사용자 관련</th>\n",
              "      <th>Unnamed: 5</th>\n",
              "      <th>Unnamed: 6</th>\n",
              "      <th>Unnamed: 7</th>\n",
              "      <th>Unnamed: 8</th>\n",
              "      <th>Unnamed: 9</th>\n",
              "    </tr>\n",
              "  </thead>\n",
              "  <tbody>\n",
              "    <tr>\n",
              "      <th>0</th>\n",
              "      <td>NaN</td>\n",
              "      <td>출시년도</td>\n",
              "      <td>구매시기</td>\n",
              "      <td>디스플레이 크기\\n(인치)</td>\n",
              "      <td>연령</td>\n",
              "      <td>키\\n(cm)</td>\n",
              "      <td>몸무게\\n(kg)</td>\n",
              "      <td>평균 스마트폰\\n사용시간\\n(분/일)</td>\n",
              "      <td>평균 컴퓨터\\n사용시간\\n(분/일)</td>\n",
              "      <td>데이터\\n사용량\\n(mb/일)</td>\n",
              "    </tr>\n",
              "    <tr>\n",
              "      <th>1</th>\n",
              "      <td>1.0</td>\n",
              "      <td>2015</td>\n",
              "      <td>2015</td>\n",
              "      <td>5</td>\n",
              "      <td>45</td>\n",
              "      <td>173</td>\n",
              "      <td>75</td>\n",
              "      <td>60</td>\n",
              "      <td>500</td>\n",
              "      <td>100</td>\n",
              "    </tr>\n",
              "    <tr>\n",
              "      <th>2</th>\n",
              "      <td>2.0</td>\n",
              "      <td>2014</td>\n",
              "      <td>2015</td>\n",
              "      <td>4.5</td>\n",
              "      <td>27</td>\n",
              "      <td>176</td>\n",
              "      <td>59</td>\n",
              "      <td>70</td>\n",
              "      <td>30</td>\n",
              "      <td>50</td>\n",
              "    </tr>\n",
              "    <tr>\n",
              "      <th>3</th>\n",
              "      <td>3.0</td>\n",
              "      <td>2015</td>\n",
              "      <td>2015</td>\n",
              "      <td>5</td>\n",
              "      <td>29</td>\n",
              "      <td>183</td>\n",
              "      <td>65</td>\n",
              "      <td>120</td>\n",
              "      <td>300</td>\n",
              "      <td>200</td>\n",
              "    </tr>\n",
              "    <tr>\n",
              "      <th>4</th>\n",
              "      <td>4.0</td>\n",
              "      <td>2015</td>\n",
              "      <td>2016</td>\n",
              "      <td>5</td>\n",
              "      <td>28</td>\n",
              "      <td>172</td>\n",
              "      <td>63</td>\n",
              "      <td>80</td>\n",
              "      <td>60</td>\n",
              "      <td>190</td>\n",
              "    </tr>\n",
              "  </tbody>\n",
              "</table>\n",
              "</div>"
            ],
            "text/plain": [
              "   Unnamed: 0 스마트폰 관련  ...           Unnamed: 8        Unnamed: 9\n",
              "0         NaN    출시년도  ...  평균 컴퓨터\\n사용시간\\n(분/일)  데이터\\n사용량\\n(mb/일)\n",
              "1         1.0    2015  ...                  500               100\n",
              "2         2.0    2014  ...                   30                50\n",
              "3         3.0    2015  ...                  300               200\n",
              "4         4.0    2015  ...                   60               190\n",
              "\n",
              "[5 rows x 10 columns]"
            ]
          },
          "metadata": {
            "tags": []
          },
          "execution_count": 3
        }
      ]
    },
    {
      "cell_type": "code",
      "metadata": {
        "colab": {
          "base_uri": "https://localhost:8080/"
        },
        "id": "LNkdG5uBX7dS",
        "outputId": "1e98ba76-384a-46e0-b8d2-dab61a1383a8"
      },
      "source": [
        "# 행 개수\n",
        "len(스마트폰)"
      ],
      "execution_count": null,
      "outputs": [
        {
          "output_type": "execute_result",
          "data": {
            "text/plain": [
              "25"
            ]
          },
          "metadata": {
            "tags": []
          },
          "execution_count": 4
        }
      ]
    },
    {
      "cell_type": "code",
      "metadata": {
        "colab": {
          "base_uri": "https://localhost:8080/"
        },
        "id": "yGIFQG4pYNxi",
        "outputId": "685f055b-5811-46b2-8e20-bb088e373c31"
      },
      "source": [
        "# 열 개수\n",
        "len(스마트폰.columns)"
      ],
      "execution_count": null,
      "outputs": [
        {
          "output_type": "execute_result",
          "data": {
            "text/plain": [
              "10"
            ]
          },
          "metadata": {
            "tags": []
          },
          "execution_count": 5
        }
      ]
    },
    {
      "cell_type": "code",
      "metadata": {
        "colab": {
          "base_uri": "https://localhost:8080/"
        },
        "id": "9oIZGXa2YgtC",
        "outputId": "5716236b-9cd7-4643-a80b-701c83faf53d"
      },
      "source": [
        "스마트폰.shape"
      ],
      "execution_count": null,
      "outputs": [
        {
          "output_type": "execute_result",
          "data": {
            "text/plain": [
              "(25, 10)"
            ]
          },
          "metadata": {
            "tags": []
          },
          "execution_count": 6
        }
      ]
    },
    {
      "cell_type": "code",
      "metadata": {
        "colab": {
          "base_uri": "https://localhost:8080/"
        },
        "id": "Jr1dzyXwYo0S",
        "outputId": "bb98768f-93f9-47c6-ad56-efc50ccf4b5e"
      },
      "source": [
        "# Null 값이 아닌 행 개수\n",
        "스마트폰.count()"
      ],
      "execution_count": null,
      "outputs": [
        {
          "output_type": "execute_result",
          "data": {
            "text/plain": [
              "Unnamed: 0    24\n",
              "스마트폰 관련       25\n",
              "Unnamed: 2    25\n",
              "Unnamed: 3    25\n",
              "사용자 관련        25\n",
              "Unnamed: 5    25\n",
              "Unnamed: 6    25\n",
              "Unnamed: 7    25\n",
              "Unnamed: 8    25\n",
              "Unnamed: 9    25\n",
              "dtype: int64"
            ]
          },
          "metadata": {
            "tags": []
          },
          "execution_count": 7
        }
      ]
    },
    {
      "cell_type": "code",
      "metadata": {
        "colab": {
          "base_uri": "https://localhost:8080/"
        },
        "id": "jGrBMrqwZC-7",
        "outputId": "39dc2f17-7a75-4672-9ef3-85506e3614b7"
      },
      "source": [
        "스마트폰['Unnamed: 0'].count()"
      ],
      "execution_count": null,
      "outputs": [
        {
          "output_type": "execute_result",
          "data": {
            "text/plain": [
              "24"
            ]
          },
          "metadata": {
            "tags": []
          },
          "execution_count": 8
        }
      ]
    },
    {
      "cell_type": "code",
      "metadata": {
        "id": "NBfrTEWwZR07",
        "colab": {
          "base_uri": "https://localhost:8080/",
          "height": 824
        },
        "outputId": "34256a43-d658-46d1-df3e-ac9a95eee8bc"
      },
      "source": [
        "# 그룹별 개수 구하기\n",
        "스마트폰.groupby('Unnamed: 0').size()\n",
        "스마트폰.groupby('Unnamed: 0').count()"
      ],
      "execution_count": null,
      "outputs": [
        {
          "output_type": "execute_result",
          "data": {
            "text/html": [
              "<div>\n",
              "<style scoped>\n",
              "    .dataframe tbody tr th:only-of-type {\n",
              "        vertical-align: middle;\n",
              "    }\n",
              "\n",
              "    .dataframe tbody tr th {\n",
              "        vertical-align: top;\n",
              "    }\n",
              "\n",
              "    .dataframe thead th {\n",
              "        text-align: right;\n",
              "    }\n",
              "</style>\n",
              "<table border=\"1\" class=\"dataframe\">\n",
              "  <thead>\n",
              "    <tr style=\"text-align: right;\">\n",
              "      <th></th>\n",
              "      <th>스마트폰 관련</th>\n",
              "      <th>Unnamed: 2</th>\n",
              "      <th>Unnamed: 3</th>\n",
              "      <th>사용자 관련</th>\n",
              "      <th>Unnamed: 5</th>\n",
              "      <th>Unnamed: 6</th>\n",
              "      <th>Unnamed: 7</th>\n",
              "      <th>Unnamed: 8</th>\n",
              "      <th>Unnamed: 9</th>\n",
              "    </tr>\n",
              "    <tr>\n",
              "      <th>Unnamed: 0</th>\n",
              "      <th></th>\n",
              "      <th></th>\n",
              "      <th></th>\n",
              "      <th></th>\n",
              "      <th></th>\n",
              "      <th></th>\n",
              "      <th></th>\n",
              "      <th></th>\n",
              "      <th></th>\n",
              "    </tr>\n",
              "  </thead>\n",
              "  <tbody>\n",
              "    <tr>\n",
              "      <th>1.0</th>\n",
              "      <td>1</td>\n",
              "      <td>1</td>\n",
              "      <td>1</td>\n",
              "      <td>1</td>\n",
              "      <td>1</td>\n",
              "      <td>1</td>\n",
              "      <td>1</td>\n",
              "      <td>1</td>\n",
              "      <td>1</td>\n",
              "    </tr>\n",
              "    <tr>\n",
              "      <th>2.0</th>\n",
              "      <td>1</td>\n",
              "      <td>1</td>\n",
              "      <td>1</td>\n",
              "      <td>1</td>\n",
              "      <td>1</td>\n",
              "      <td>1</td>\n",
              "      <td>1</td>\n",
              "      <td>1</td>\n",
              "      <td>1</td>\n",
              "    </tr>\n",
              "    <tr>\n",
              "      <th>3.0</th>\n",
              "      <td>1</td>\n",
              "      <td>1</td>\n",
              "      <td>1</td>\n",
              "      <td>1</td>\n",
              "      <td>1</td>\n",
              "      <td>1</td>\n",
              "      <td>1</td>\n",
              "      <td>1</td>\n",
              "      <td>1</td>\n",
              "    </tr>\n",
              "    <tr>\n",
              "      <th>4.0</th>\n",
              "      <td>1</td>\n",
              "      <td>1</td>\n",
              "      <td>1</td>\n",
              "      <td>1</td>\n",
              "      <td>1</td>\n",
              "      <td>1</td>\n",
              "      <td>1</td>\n",
              "      <td>1</td>\n",
              "      <td>1</td>\n",
              "    </tr>\n",
              "    <tr>\n",
              "      <th>5.0</th>\n",
              "      <td>1</td>\n",
              "      <td>1</td>\n",
              "      <td>1</td>\n",
              "      <td>1</td>\n",
              "      <td>1</td>\n",
              "      <td>1</td>\n",
              "      <td>1</td>\n",
              "      <td>1</td>\n",
              "      <td>1</td>\n",
              "    </tr>\n",
              "    <tr>\n",
              "      <th>6.0</th>\n",
              "      <td>1</td>\n",
              "      <td>1</td>\n",
              "      <td>1</td>\n",
              "      <td>1</td>\n",
              "      <td>1</td>\n",
              "      <td>1</td>\n",
              "      <td>1</td>\n",
              "      <td>1</td>\n",
              "      <td>1</td>\n",
              "    </tr>\n",
              "    <tr>\n",
              "      <th>7.0</th>\n",
              "      <td>1</td>\n",
              "      <td>1</td>\n",
              "      <td>1</td>\n",
              "      <td>1</td>\n",
              "      <td>1</td>\n",
              "      <td>1</td>\n",
              "      <td>1</td>\n",
              "      <td>1</td>\n",
              "      <td>1</td>\n",
              "    </tr>\n",
              "    <tr>\n",
              "      <th>8.0</th>\n",
              "      <td>1</td>\n",
              "      <td>1</td>\n",
              "      <td>1</td>\n",
              "      <td>1</td>\n",
              "      <td>1</td>\n",
              "      <td>1</td>\n",
              "      <td>1</td>\n",
              "      <td>1</td>\n",
              "      <td>1</td>\n",
              "    </tr>\n",
              "    <tr>\n",
              "      <th>9.0</th>\n",
              "      <td>1</td>\n",
              "      <td>1</td>\n",
              "      <td>1</td>\n",
              "      <td>1</td>\n",
              "      <td>1</td>\n",
              "      <td>1</td>\n",
              "      <td>1</td>\n",
              "      <td>1</td>\n",
              "      <td>1</td>\n",
              "    </tr>\n",
              "    <tr>\n",
              "      <th>10.0</th>\n",
              "      <td>1</td>\n",
              "      <td>1</td>\n",
              "      <td>1</td>\n",
              "      <td>1</td>\n",
              "      <td>1</td>\n",
              "      <td>1</td>\n",
              "      <td>1</td>\n",
              "      <td>1</td>\n",
              "      <td>1</td>\n",
              "    </tr>\n",
              "    <tr>\n",
              "      <th>11.0</th>\n",
              "      <td>1</td>\n",
              "      <td>1</td>\n",
              "      <td>1</td>\n",
              "      <td>1</td>\n",
              "      <td>1</td>\n",
              "      <td>1</td>\n",
              "      <td>1</td>\n",
              "      <td>1</td>\n",
              "      <td>1</td>\n",
              "    </tr>\n",
              "    <tr>\n",
              "      <th>12.0</th>\n",
              "      <td>1</td>\n",
              "      <td>1</td>\n",
              "      <td>1</td>\n",
              "      <td>1</td>\n",
              "      <td>1</td>\n",
              "      <td>1</td>\n",
              "      <td>1</td>\n",
              "      <td>1</td>\n",
              "      <td>1</td>\n",
              "    </tr>\n",
              "    <tr>\n",
              "      <th>13.0</th>\n",
              "      <td>1</td>\n",
              "      <td>1</td>\n",
              "      <td>1</td>\n",
              "      <td>1</td>\n",
              "      <td>1</td>\n",
              "      <td>1</td>\n",
              "      <td>1</td>\n",
              "      <td>1</td>\n",
              "      <td>1</td>\n",
              "    </tr>\n",
              "    <tr>\n",
              "      <th>14.0</th>\n",
              "      <td>1</td>\n",
              "      <td>1</td>\n",
              "      <td>1</td>\n",
              "      <td>1</td>\n",
              "      <td>1</td>\n",
              "      <td>1</td>\n",
              "      <td>1</td>\n",
              "      <td>1</td>\n",
              "      <td>1</td>\n",
              "    </tr>\n",
              "    <tr>\n",
              "      <th>15.0</th>\n",
              "      <td>1</td>\n",
              "      <td>1</td>\n",
              "      <td>1</td>\n",
              "      <td>1</td>\n",
              "      <td>1</td>\n",
              "      <td>1</td>\n",
              "      <td>1</td>\n",
              "      <td>1</td>\n",
              "      <td>1</td>\n",
              "    </tr>\n",
              "    <tr>\n",
              "      <th>16.0</th>\n",
              "      <td>1</td>\n",
              "      <td>1</td>\n",
              "      <td>1</td>\n",
              "      <td>1</td>\n",
              "      <td>1</td>\n",
              "      <td>1</td>\n",
              "      <td>1</td>\n",
              "      <td>1</td>\n",
              "      <td>1</td>\n",
              "    </tr>\n",
              "    <tr>\n",
              "      <th>17.0</th>\n",
              "      <td>1</td>\n",
              "      <td>1</td>\n",
              "      <td>1</td>\n",
              "      <td>1</td>\n",
              "      <td>1</td>\n",
              "      <td>1</td>\n",
              "      <td>1</td>\n",
              "      <td>1</td>\n",
              "      <td>1</td>\n",
              "    </tr>\n",
              "    <tr>\n",
              "      <th>18.0</th>\n",
              "      <td>1</td>\n",
              "      <td>1</td>\n",
              "      <td>1</td>\n",
              "      <td>1</td>\n",
              "      <td>1</td>\n",
              "      <td>1</td>\n",
              "      <td>1</td>\n",
              "      <td>1</td>\n",
              "      <td>1</td>\n",
              "    </tr>\n",
              "    <tr>\n",
              "      <th>19.0</th>\n",
              "      <td>1</td>\n",
              "      <td>1</td>\n",
              "      <td>1</td>\n",
              "      <td>1</td>\n",
              "      <td>1</td>\n",
              "      <td>1</td>\n",
              "      <td>1</td>\n",
              "      <td>1</td>\n",
              "      <td>1</td>\n",
              "    </tr>\n",
              "    <tr>\n",
              "      <th>20.0</th>\n",
              "      <td>1</td>\n",
              "      <td>1</td>\n",
              "      <td>1</td>\n",
              "      <td>1</td>\n",
              "      <td>1</td>\n",
              "      <td>1</td>\n",
              "      <td>1</td>\n",
              "      <td>1</td>\n",
              "      <td>1</td>\n",
              "    </tr>\n",
              "    <tr>\n",
              "      <th>21.0</th>\n",
              "      <td>1</td>\n",
              "      <td>1</td>\n",
              "      <td>1</td>\n",
              "      <td>1</td>\n",
              "      <td>1</td>\n",
              "      <td>1</td>\n",
              "      <td>1</td>\n",
              "      <td>1</td>\n",
              "      <td>1</td>\n",
              "    </tr>\n",
              "    <tr>\n",
              "      <th>22.0</th>\n",
              "      <td>1</td>\n",
              "      <td>1</td>\n",
              "      <td>1</td>\n",
              "      <td>1</td>\n",
              "      <td>1</td>\n",
              "      <td>1</td>\n",
              "      <td>1</td>\n",
              "      <td>1</td>\n",
              "      <td>1</td>\n",
              "    </tr>\n",
              "    <tr>\n",
              "      <th>23.0</th>\n",
              "      <td>1</td>\n",
              "      <td>1</td>\n",
              "      <td>1</td>\n",
              "      <td>1</td>\n",
              "      <td>1</td>\n",
              "      <td>1</td>\n",
              "      <td>1</td>\n",
              "      <td>1</td>\n",
              "      <td>1</td>\n",
              "    </tr>\n",
              "    <tr>\n",
              "      <th>24.0</th>\n",
              "      <td>1</td>\n",
              "      <td>1</td>\n",
              "      <td>1</td>\n",
              "      <td>1</td>\n",
              "      <td>1</td>\n",
              "      <td>1</td>\n",
              "      <td>1</td>\n",
              "      <td>1</td>\n",
              "      <td>1</td>\n",
              "    </tr>\n",
              "  </tbody>\n",
              "</table>\n",
              "</div>"
            ],
            "text/plain": [
              "            스마트폰 관련  Unnamed: 2  Unnamed: 3  ...  Unnamed: 7  Unnamed: 8  Unnamed: 9\n",
              "Unnamed: 0                                   ...                                    \n",
              "1.0               1           1           1  ...           1           1           1\n",
              "2.0               1           1           1  ...           1           1           1\n",
              "3.0               1           1           1  ...           1           1           1\n",
              "4.0               1           1           1  ...           1           1           1\n",
              "5.0               1           1           1  ...           1           1           1\n",
              "6.0               1           1           1  ...           1           1           1\n",
              "7.0               1           1           1  ...           1           1           1\n",
              "8.0               1           1           1  ...           1           1           1\n",
              "9.0               1           1           1  ...           1           1           1\n",
              "10.0              1           1           1  ...           1           1           1\n",
              "11.0              1           1           1  ...           1           1           1\n",
              "12.0              1           1           1  ...           1           1           1\n",
              "13.0              1           1           1  ...           1           1           1\n",
              "14.0              1           1           1  ...           1           1           1\n",
              "15.0              1           1           1  ...           1           1           1\n",
              "16.0              1           1           1  ...           1           1           1\n",
              "17.0              1           1           1  ...           1           1           1\n",
              "18.0              1           1           1  ...           1           1           1\n",
              "19.0              1           1           1  ...           1           1           1\n",
              "20.0              1           1           1  ...           1           1           1\n",
              "21.0              1           1           1  ...           1           1           1\n",
              "22.0              1           1           1  ...           1           1           1\n",
              "23.0              1           1           1  ...           1           1           1\n",
              "24.0              1           1           1  ...           1           1           1\n",
              "\n",
              "[24 rows x 9 columns]"
            ]
          },
          "metadata": {
            "tags": []
          },
          "execution_count": 9
        }
      ]
    },
    {
      "cell_type": "markdown",
      "metadata": {
        "id": "UX7GYYo6aa-O"
      },
      "source": [
        "# 필요없는 행 삭제 후 데이터 셋 저장"
      ]
    },
    {
      "cell_type": "code",
      "metadata": {
        "colab": {
          "base_uri": "https://localhost:8080/",
          "height": 282
        },
        "id": "l9tZo4l2ahvT",
        "outputId": "e943a27d-6b0b-4944-f092-f695923ca4ad"
      },
      "source": [
        "# 행 삭제\n",
        "스마트폰=스마트폰.drop(index=[0], axis=0)\n",
        "스마트폰.head()\n",
        "# 열 삭제 : 스마트폰=스마트폰.drop(columns=['co11','col2'], axis=1)\n",
        "# 조건에 맞는 행 삭제 : 스마트폰=스마트폰[스마트폰['co11'] != 15]"
      ],
      "execution_count": null,
      "outputs": [
        {
          "output_type": "execute_result",
          "data": {
            "text/html": [
              "<div>\n",
              "<style scoped>\n",
              "    .dataframe tbody tr th:only-of-type {\n",
              "        vertical-align: middle;\n",
              "    }\n",
              "\n",
              "    .dataframe tbody tr th {\n",
              "        vertical-align: top;\n",
              "    }\n",
              "\n",
              "    .dataframe thead th {\n",
              "        text-align: right;\n",
              "    }\n",
              "</style>\n",
              "<table border=\"1\" class=\"dataframe\">\n",
              "  <thead>\n",
              "    <tr style=\"text-align: right;\">\n",
              "      <th></th>\n",
              "      <th>Unnamed: 0</th>\n",
              "      <th>스마트폰 관련</th>\n",
              "      <th>Unnamed: 2</th>\n",
              "      <th>Unnamed: 3</th>\n",
              "      <th>사용자 관련</th>\n",
              "      <th>Unnamed: 5</th>\n",
              "      <th>Unnamed: 6</th>\n",
              "      <th>Unnamed: 7</th>\n",
              "      <th>Unnamed: 8</th>\n",
              "      <th>Unnamed: 9</th>\n",
              "    </tr>\n",
              "  </thead>\n",
              "  <tbody>\n",
              "    <tr>\n",
              "      <th>1</th>\n",
              "      <td>1.0</td>\n",
              "      <td>2015</td>\n",
              "      <td>2015</td>\n",
              "      <td>5</td>\n",
              "      <td>45</td>\n",
              "      <td>173</td>\n",
              "      <td>75</td>\n",
              "      <td>60</td>\n",
              "      <td>500</td>\n",
              "      <td>100</td>\n",
              "    </tr>\n",
              "    <tr>\n",
              "      <th>2</th>\n",
              "      <td>2.0</td>\n",
              "      <td>2014</td>\n",
              "      <td>2015</td>\n",
              "      <td>4.5</td>\n",
              "      <td>27</td>\n",
              "      <td>176</td>\n",
              "      <td>59</td>\n",
              "      <td>70</td>\n",
              "      <td>30</td>\n",
              "      <td>50</td>\n",
              "    </tr>\n",
              "    <tr>\n",
              "      <th>3</th>\n",
              "      <td>3.0</td>\n",
              "      <td>2015</td>\n",
              "      <td>2015</td>\n",
              "      <td>5</td>\n",
              "      <td>29</td>\n",
              "      <td>183</td>\n",
              "      <td>65</td>\n",
              "      <td>120</td>\n",
              "      <td>300</td>\n",
              "      <td>200</td>\n",
              "    </tr>\n",
              "    <tr>\n",
              "      <th>4</th>\n",
              "      <td>4.0</td>\n",
              "      <td>2015</td>\n",
              "      <td>2016</td>\n",
              "      <td>5</td>\n",
              "      <td>28</td>\n",
              "      <td>172</td>\n",
              "      <td>63</td>\n",
              "      <td>80</td>\n",
              "      <td>60</td>\n",
              "      <td>190</td>\n",
              "    </tr>\n",
              "    <tr>\n",
              "      <th>5</th>\n",
              "      <td>5.0</td>\n",
              "      <td>2015</td>\n",
              "      <td>2015</td>\n",
              "      <td>5</td>\n",
              "      <td>24</td>\n",
              "      <td>179</td>\n",
              "      <td>65</td>\n",
              "      <td>90</td>\n",
              "      <td>30</td>\n",
              "      <td>500</td>\n",
              "    </tr>\n",
              "  </tbody>\n",
              "</table>\n",
              "</div>"
            ],
            "text/plain": [
              "   Unnamed: 0 스마트폰 관련 Unnamed: 2  ... Unnamed: 7 Unnamed: 8 Unnamed: 9\n",
              "1         1.0    2015       2015  ...         60        500        100\n",
              "2         2.0    2014       2015  ...         70         30         50\n",
              "3         3.0    2015       2015  ...        120        300        200\n",
              "4         4.0    2015       2016  ...         80         60        190\n",
              "5         5.0    2015       2015  ...         90         30        500\n",
              "\n",
              "[5 rows x 10 columns]"
            ]
          },
          "metadata": {
            "tags": []
          },
          "execution_count": 8
        }
      ]
    },
    {
      "cell_type": "code",
      "metadata": {
        "colab": {
          "base_uri": "https://localhost:8080/"
        },
        "id": "FYPISPJ15rvL",
        "outputId": "65232574-5554-4e56-dd49-68029890af94"
      },
      "source": [
        "type(스마트폰)"
      ],
      "execution_count": null,
      "outputs": [
        {
          "output_type": "execute_result",
          "data": {
            "text/plain": [
              "pandas.core.frame.DataFrame"
            ]
          },
          "metadata": {
            "tags": []
          },
          "execution_count": 30
        }
      ]
    },
    {
      "cell_type": "code",
      "metadata": {
        "colab": {
          "base_uri": "https://localhost:8080/"
        },
        "id": "6IAwW3Z-c3l3",
        "outputId": "f7395c29-1b08-43fc-96dc-2ebb924b762b"
      },
      "source": [
        "스마트폰.shape"
      ],
      "execution_count": null,
      "outputs": [
        {
          "output_type": "execute_result",
          "data": {
            "text/plain": [
              "(24, 10)"
            ]
          },
          "metadata": {
            "tags": []
          },
          "execution_count": 11
        }
      ]
    },
    {
      "cell_type": "code",
      "metadata": {
        "id": "6XkWe6a9gC40"
      },
      "source": [
        "스마트폰.to_csv('스마트폰.csv')"
      ],
      "execution_count": null,
      "outputs": []
    },
    {
      "cell_type": "markdown",
      "metadata": {
        "id": "V8e_ZAmDid2G"
      },
      "source": [
        "# 데이터 셋 로드-csv"
      ]
    },
    {
      "cell_type": "code",
      "metadata": {
        "id": "uAsE3-h7ig6k"
      },
      "source": [
        "import pandas as pd"
      ],
      "execution_count": null,
      "outputs": []
    },
    {
      "cell_type": "code",
      "metadata": {
        "id": "4C6JeviJikUs"
      },
      "source": [
        "스마트폰_1=pd.read_csv('스마트폰_1.csv')"
      ],
      "execution_count": null,
      "outputs": []
    },
    {
      "cell_type": "code",
      "metadata": {
        "colab": {
          "base_uri": "https://localhost:8080/"
        },
        "id": "62eRLUili2VN",
        "outputId": "ea1aa498-5d12-4277-a4e5-4f7673a65658"
      },
      "source": [
        "스마트폰_1.shape"
      ],
      "execution_count": null,
      "outputs": [
        {
          "output_type": "execute_result",
          "data": {
            "text/plain": [
              "(24, 10)"
            ]
          },
          "metadata": {
            "tags": []
          },
          "execution_count": 30
        }
      ]
    },
    {
      "cell_type": "code",
      "metadata": {
        "colab": {
          "base_uri": "https://localhost:8080/",
          "height": 195
        },
        "id": "ycYHuBUJjPVT",
        "outputId": "65955053-7d9c-4ff9-ac96-61bb2906ccd9"
      },
      "source": [
        "스마트폰_1.head()"
      ],
      "execution_count": null,
      "outputs": [
        {
          "output_type": "execute_result",
          "data": {
            "text/html": [
              "<div>\n",
              "<style scoped>\n",
              "    .dataframe tbody tr th:only-of-type {\n",
              "        vertical-align: middle;\n",
              "    }\n",
              "\n",
              "    .dataframe tbody tr th {\n",
              "        vertical-align: top;\n",
              "    }\n",
              "\n",
              "    .dataframe thead th {\n",
              "        text-align: right;\n",
              "    }\n",
              "</style>\n",
              "<table border=\"1\" class=\"dataframe\">\n",
              "  <thead>\n",
              "    <tr style=\"text-align: right;\">\n",
              "      <th></th>\n",
              "      <th>순번</th>\n",
              "      <th>출시년도</th>\n",
              "      <th>v3</th>\n",
              "      <th>v4</th>\n",
              "      <th>v5</th>\n",
              "      <th>v6</th>\n",
              "      <th>연습</th>\n",
              "      <th>v8</th>\n",
              "      <th>v9</th>\n",
              "      <th>v10</th>\n",
              "    </tr>\n",
              "  </thead>\n",
              "  <tbody>\n",
              "    <tr>\n",
              "      <th>0</th>\n",
              "      <td>1</td>\n",
              "      <td>2015</td>\n",
              "      <td>2015</td>\n",
              "      <td>5.0</td>\n",
              "      <td>45</td>\n",
              "      <td>173</td>\n",
              "      <td>75</td>\n",
              "      <td>60</td>\n",
              "      <td>500</td>\n",
              "      <td>100</td>\n",
              "    </tr>\n",
              "    <tr>\n",
              "      <th>1</th>\n",
              "      <td>2</td>\n",
              "      <td>2014</td>\n",
              "      <td>2015</td>\n",
              "      <td>4.5</td>\n",
              "      <td>27</td>\n",
              "      <td>176</td>\n",
              "      <td>59</td>\n",
              "      <td>70</td>\n",
              "      <td>30</td>\n",
              "      <td>50</td>\n",
              "    </tr>\n",
              "    <tr>\n",
              "      <th>2</th>\n",
              "      <td>3</td>\n",
              "      <td>2015</td>\n",
              "      <td>2015</td>\n",
              "      <td>5.0</td>\n",
              "      <td>29</td>\n",
              "      <td>183</td>\n",
              "      <td>65</td>\n",
              "      <td>120</td>\n",
              "      <td>300</td>\n",
              "      <td>200</td>\n",
              "    </tr>\n",
              "    <tr>\n",
              "      <th>3</th>\n",
              "      <td>4</td>\n",
              "      <td>2015</td>\n",
              "      <td>2016</td>\n",
              "      <td>5.0</td>\n",
              "      <td>28</td>\n",
              "      <td>172</td>\n",
              "      <td>63</td>\n",
              "      <td>80</td>\n",
              "      <td>60</td>\n",
              "      <td>190</td>\n",
              "    </tr>\n",
              "    <tr>\n",
              "      <th>4</th>\n",
              "      <td>5</td>\n",
              "      <td>2015</td>\n",
              "      <td>2015</td>\n",
              "      <td>5.0</td>\n",
              "      <td>24</td>\n",
              "      <td>179</td>\n",
              "      <td>65</td>\n",
              "      <td>90</td>\n",
              "      <td>30</td>\n",
              "      <td>500</td>\n",
              "    </tr>\n",
              "  </tbody>\n",
              "</table>\n",
              "</div>"
            ],
            "text/plain": [
              "   순번  출시년도    v3   v4  v5   v6  연습   v8   v9  v10\n",
              "0   1  2015  2015  5.0  45  173  75   60  500  100\n",
              "1   2  2014  2015  4.5  27  176  59   70   30   50\n",
              "2   3  2015  2015  5.0  29  183  65  120  300  200\n",
              "3   4  2015  2016  5.0  28  172  63   80   60  190\n",
              "4   5  2015  2015  5.0  24  179  65   90   30  500"
            ]
          },
          "metadata": {
            "tags": []
          },
          "execution_count": 40
        }
      ]
    },
    {
      "cell_type": "markdown",
      "metadata": {
        "id": "NMjM5eFlljMO"
      },
      "source": [
        "# 열 이름 변경"
      ]
    },
    {
      "cell_type": "code",
      "metadata": {
        "id": "UCKm56a_lmV2"
      },
      "source": [
        "# 행,열 하나 하나에 대해서 이름을 변경\n",
        "스마트폰_1=스마트폰_1.rename(\n",
        "    {\n",
        "        '1':'순번',\n",
        "        '5.0':'출시년도',\n",
        "        'v7':'연습'\n",
        "    }, axis='columns'\n",
        ")"
      ],
      "execution_count": null,
      "outputs": []
    },
    {
      "cell_type": "code",
      "metadata": {
        "colab": {
          "base_uri": "https://localhost:8080/",
          "height": 195
        },
        "id": "BAjTGtpPnIQo",
        "outputId": "47e7cc3d-623f-45bb-d03e-67b753374569"
      },
      "source": [
        "스마트폰_1.head()"
      ],
      "execution_count": null,
      "outputs": [
        {
          "output_type": "execute_result",
          "data": {
            "text/html": [
              "<div>\n",
              "<style scoped>\n",
              "    .dataframe tbody tr th:only-of-type {\n",
              "        vertical-align: middle;\n",
              "    }\n",
              "\n",
              "    .dataframe tbody tr th {\n",
              "        vertical-align: top;\n",
              "    }\n",
              "\n",
              "    .dataframe thead th {\n",
              "        text-align: right;\n",
              "    }\n",
              "</style>\n",
              "<table border=\"1\" class=\"dataframe\">\n",
              "  <thead>\n",
              "    <tr style=\"text-align: right;\">\n",
              "      <th></th>\n",
              "      <th>순번</th>\n",
              "      <th>출시년도</th>\n",
              "      <th>v3</th>\n",
              "      <th>v4</th>\n",
              "      <th>v5</th>\n",
              "      <th>v6</th>\n",
              "      <th>연습</th>\n",
              "      <th>v8</th>\n",
              "      <th>v9</th>\n",
              "      <th>v10</th>\n",
              "    </tr>\n",
              "  </thead>\n",
              "  <tbody>\n",
              "    <tr>\n",
              "      <th>0</th>\n",
              "      <td>1</td>\n",
              "      <td>2015</td>\n",
              "      <td>2015</td>\n",
              "      <td>5.0</td>\n",
              "      <td>45</td>\n",
              "      <td>173</td>\n",
              "      <td>75</td>\n",
              "      <td>60</td>\n",
              "      <td>500</td>\n",
              "      <td>100</td>\n",
              "    </tr>\n",
              "    <tr>\n",
              "      <th>1</th>\n",
              "      <td>2</td>\n",
              "      <td>2014</td>\n",
              "      <td>2015</td>\n",
              "      <td>4.5</td>\n",
              "      <td>27</td>\n",
              "      <td>176</td>\n",
              "      <td>59</td>\n",
              "      <td>70</td>\n",
              "      <td>30</td>\n",
              "      <td>50</td>\n",
              "    </tr>\n",
              "    <tr>\n",
              "      <th>2</th>\n",
              "      <td>3</td>\n",
              "      <td>2015</td>\n",
              "      <td>2015</td>\n",
              "      <td>5.0</td>\n",
              "      <td>29</td>\n",
              "      <td>183</td>\n",
              "      <td>65</td>\n",
              "      <td>120</td>\n",
              "      <td>300</td>\n",
              "      <td>200</td>\n",
              "    </tr>\n",
              "    <tr>\n",
              "      <th>3</th>\n",
              "      <td>4</td>\n",
              "      <td>2015</td>\n",
              "      <td>2016</td>\n",
              "      <td>5.0</td>\n",
              "      <td>28</td>\n",
              "      <td>172</td>\n",
              "      <td>63</td>\n",
              "      <td>80</td>\n",
              "      <td>60</td>\n",
              "      <td>190</td>\n",
              "    </tr>\n",
              "    <tr>\n",
              "      <th>4</th>\n",
              "      <td>5</td>\n",
              "      <td>2015</td>\n",
              "      <td>2015</td>\n",
              "      <td>5.0</td>\n",
              "      <td>24</td>\n",
              "      <td>179</td>\n",
              "      <td>65</td>\n",
              "      <td>90</td>\n",
              "      <td>30</td>\n",
              "      <td>500</td>\n",
              "    </tr>\n",
              "  </tbody>\n",
              "</table>\n",
              "</div>"
            ],
            "text/plain": [
              "   순번  출시년도    v3   v4  v5   v6  연습   v8   v9  v10\n",
              "0   1  2015  2015  5.0  45  173  75   60  500  100\n",
              "1   2  2014  2015  4.5  27  176  59   70   30   50\n",
              "2   3  2015  2015  5.0  29  183  65  120  300  200\n",
              "3   4  2015  2016  5.0  28  172  63   80   60  190\n",
              "4   5  2015  2015  5.0  24  179  65   90   30  500"
            ]
          },
          "metadata": {
            "tags": []
          },
          "execution_count": 43
        }
      ]
    },
    {
      "cell_type": "code",
      "metadata": {
        "id": "sRP5Dysilvpt"
      },
      "source": [
        "# 모든 열에 대해서 한꺼번에 변경\n",
        "스마트폰_1.columns=['순번','출시년도',\"구매시기\", \"디스플레이\",\"연령\",\"키\",\"몸무게\",\"스마트폰사용시간\",\"컴퓨터사용시간\",\"데이터사용량\"]"
      ],
      "execution_count": null,
      "outputs": []
    },
    {
      "cell_type": "code",
      "metadata": {
        "colab": {
          "base_uri": "https://localhost:8080/",
          "height": 212
        },
        "id": "zNVjAkNioHPf",
        "outputId": "955ac766-b4b2-41f3-e763-dc73681f51fb"
      },
      "source": [
        "스마트폰_1.head()"
      ],
      "execution_count": null,
      "outputs": [
        {
          "output_type": "execute_result",
          "data": {
            "text/html": [
              "<div>\n",
              "<style scoped>\n",
              "    .dataframe tbody tr th:only-of-type {\n",
              "        vertical-align: middle;\n",
              "    }\n",
              "\n",
              "    .dataframe tbody tr th {\n",
              "        vertical-align: top;\n",
              "    }\n",
              "\n",
              "    .dataframe thead th {\n",
              "        text-align: right;\n",
              "    }\n",
              "</style>\n",
              "<table border=\"1\" class=\"dataframe\">\n",
              "  <thead>\n",
              "    <tr style=\"text-align: right;\">\n",
              "      <th></th>\n",
              "      <th>순번</th>\n",
              "      <th>출시년도</th>\n",
              "      <th>구매시기</th>\n",
              "      <th>디스플레이</th>\n",
              "      <th>연령</th>\n",
              "      <th>키</th>\n",
              "      <th>몸무게</th>\n",
              "      <th>스마트폰사용시간</th>\n",
              "      <th>컴퓨터사용시간</th>\n",
              "      <th>데이터사용량</th>\n",
              "    </tr>\n",
              "  </thead>\n",
              "  <tbody>\n",
              "    <tr>\n",
              "      <th>0</th>\n",
              "      <td>1</td>\n",
              "      <td>2015</td>\n",
              "      <td>2015</td>\n",
              "      <td>5.0</td>\n",
              "      <td>45</td>\n",
              "      <td>173</td>\n",
              "      <td>75</td>\n",
              "      <td>60</td>\n",
              "      <td>500</td>\n",
              "      <td>100</td>\n",
              "    </tr>\n",
              "    <tr>\n",
              "      <th>1</th>\n",
              "      <td>2</td>\n",
              "      <td>2014</td>\n",
              "      <td>2015</td>\n",
              "      <td>4.5</td>\n",
              "      <td>27</td>\n",
              "      <td>176</td>\n",
              "      <td>59</td>\n",
              "      <td>70</td>\n",
              "      <td>30</td>\n",
              "      <td>50</td>\n",
              "    </tr>\n",
              "    <tr>\n",
              "      <th>2</th>\n",
              "      <td>3</td>\n",
              "      <td>2015</td>\n",
              "      <td>2015</td>\n",
              "      <td>5.0</td>\n",
              "      <td>29</td>\n",
              "      <td>183</td>\n",
              "      <td>65</td>\n",
              "      <td>120</td>\n",
              "      <td>300</td>\n",
              "      <td>200</td>\n",
              "    </tr>\n",
              "    <tr>\n",
              "      <th>3</th>\n",
              "      <td>4</td>\n",
              "      <td>2015</td>\n",
              "      <td>2016</td>\n",
              "      <td>5.0</td>\n",
              "      <td>28</td>\n",
              "      <td>172</td>\n",
              "      <td>63</td>\n",
              "      <td>80</td>\n",
              "      <td>60</td>\n",
              "      <td>190</td>\n",
              "    </tr>\n",
              "    <tr>\n",
              "      <th>4</th>\n",
              "      <td>5</td>\n",
              "      <td>2015</td>\n",
              "      <td>2015</td>\n",
              "      <td>5.0</td>\n",
              "      <td>24</td>\n",
              "      <td>179</td>\n",
              "      <td>65</td>\n",
              "      <td>90</td>\n",
              "      <td>30</td>\n",
              "      <td>500</td>\n",
              "    </tr>\n",
              "  </tbody>\n",
              "</table>\n",
              "</div>"
            ],
            "text/plain": [
              "   순번  출시년도  구매시기  디스플레이  연령    키  몸무게  스마트폰사용시간  컴퓨터사용시간  데이터사용량\n",
              "0   1  2015  2015    5.0  45  173   75        60      500     100\n",
              "1   2  2014  2015    4.5  27  176   59        70       30      50\n",
              "2   3  2015  2015    5.0  29  183   65       120      300     200\n",
              "3   4  2015  2016    5.0  28  172   63        80       60     190\n",
              "4   5  2015  2015    5.0  24  179   65        90       30     500"
            ]
          },
          "metadata": {
            "tags": []
          },
          "execution_count": 51
        }
      ]
    },
    {
      "cell_type": "code",
      "metadata": {
        "id": "uMck7A9ToSKN"
      },
      "source": [
        "스마트폰.to_csv('스마트폰_1.csv')"
      ],
      "execution_count": null,
      "outputs": []
    },
    {
      "cell_type": "markdown",
      "metadata": {
        "id": "sTTWd5ykpFBZ"
      },
      "source": [
        "# 데이터 셋을 다시 적재"
      ]
    },
    {
      "cell_type": "code",
      "metadata": {
        "id": "2G8zW78cpY7O"
      },
      "source": [
        "import pandas as pd\n",
        "스마트폰=pd.read_csv('스마트폰.csv')"
      ],
      "execution_count": null,
      "outputs": []
    },
    {
      "cell_type": "code",
      "metadata": {
        "colab": {
          "base_uri": "https://localhost:8080/",
          "height": 212
        },
        "id": "T3_E1nKjsx_g",
        "outputId": "49e97e02-49b8-4754-8ef4-93122bc6fba9"
      },
      "source": [
        "스마트폰_1.head()"
      ],
      "execution_count": null,
      "outputs": [
        {
          "output_type": "execute_result",
          "data": {
            "text/html": [
              "<div>\n",
              "<style scoped>\n",
              "    .dataframe tbody tr th:only-of-type {\n",
              "        vertical-align: middle;\n",
              "    }\n",
              "\n",
              "    .dataframe tbody tr th {\n",
              "        vertical-align: top;\n",
              "    }\n",
              "\n",
              "    .dataframe thead th {\n",
              "        text-align: right;\n",
              "    }\n",
              "</style>\n",
              "<table border=\"1\" class=\"dataframe\">\n",
              "  <thead>\n",
              "    <tr style=\"text-align: right;\">\n",
              "      <th></th>\n",
              "      <th>순번</th>\n",
              "      <th>출시년도</th>\n",
              "      <th>구매시기</th>\n",
              "      <th>디스플레이</th>\n",
              "      <th>연령</th>\n",
              "      <th>키</th>\n",
              "      <th>몸무게</th>\n",
              "      <th>스마트폰사용시간</th>\n",
              "      <th>컴퓨터사용시간</th>\n",
              "      <th>데이터사용량</th>\n",
              "    </tr>\n",
              "  </thead>\n",
              "  <tbody>\n",
              "    <tr>\n",
              "      <th>0</th>\n",
              "      <td>1</td>\n",
              "      <td>2015</td>\n",
              "      <td>2015</td>\n",
              "      <td>5.0</td>\n",
              "      <td>45</td>\n",
              "      <td>173</td>\n",
              "      <td>75</td>\n",
              "      <td>60</td>\n",
              "      <td>500</td>\n",
              "      <td>100</td>\n",
              "    </tr>\n",
              "    <tr>\n",
              "      <th>1</th>\n",
              "      <td>2</td>\n",
              "      <td>2014</td>\n",
              "      <td>2015</td>\n",
              "      <td>4.5</td>\n",
              "      <td>27</td>\n",
              "      <td>176</td>\n",
              "      <td>59</td>\n",
              "      <td>70</td>\n",
              "      <td>30</td>\n",
              "      <td>50</td>\n",
              "    </tr>\n",
              "    <tr>\n",
              "      <th>2</th>\n",
              "      <td>3</td>\n",
              "      <td>2015</td>\n",
              "      <td>2015</td>\n",
              "      <td>5.0</td>\n",
              "      <td>29</td>\n",
              "      <td>183</td>\n",
              "      <td>65</td>\n",
              "      <td>120</td>\n",
              "      <td>300</td>\n",
              "      <td>200</td>\n",
              "    </tr>\n",
              "    <tr>\n",
              "      <th>3</th>\n",
              "      <td>4</td>\n",
              "      <td>2015</td>\n",
              "      <td>2016</td>\n",
              "      <td>5.0</td>\n",
              "      <td>28</td>\n",
              "      <td>172</td>\n",
              "      <td>63</td>\n",
              "      <td>80</td>\n",
              "      <td>60</td>\n",
              "      <td>190</td>\n",
              "    </tr>\n",
              "    <tr>\n",
              "      <th>4</th>\n",
              "      <td>5</td>\n",
              "      <td>2015</td>\n",
              "      <td>2015</td>\n",
              "      <td>5.0</td>\n",
              "      <td>24</td>\n",
              "      <td>179</td>\n",
              "      <td>65</td>\n",
              "      <td>90</td>\n",
              "      <td>30</td>\n",
              "      <td>500</td>\n",
              "    </tr>\n",
              "  </tbody>\n",
              "</table>\n",
              "</div>"
            ],
            "text/plain": [
              "   순번  출시년도  구매시기  디스플레이  연령    키  몸무게  스마트폰사용시간  컴퓨터사용시간  데이터사용량\n",
              "0   1  2015  2015    5.0  45  173   75        60      500     100\n",
              "1   2  2014  2015    4.5  27  176   59        70       30      50\n",
              "2   3  2015  2015    5.0  29  183   65       120      300     200\n",
              "3   4  2015  2016    5.0  28  172   63        80       60     190\n",
              "4   5  2015  2015    5.0  24  179   65        90       30     500"
            ]
          },
          "metadata": {
            "tags": []
          },
          "execution_count": 54
        }
      ]
    },
    {
      "cell_type": "code",
      "metadata": {
        "id": "4UkwrJ5IveN6",
        "colab": {
          "base_uri": "https://localhost:8080/",
          "height": 334
        },
        "outputId": "ed83334d-161c-42d5-d057-7870e4c494fe"
      },
      "source": [
        "스마트폰=스마트폰_1.drop(columns=['Unnamed: 0'], axis=1)"
      ],
      "execution_count": null,
      "outputs": [
        {
          "output_type": "error",
          "ename": "KeyError",
          "evalue": "ignored",
          "traceback": [
            "\u001b[0;31m---------------------------------------------------------------------------\u001b[0m",
            "\u001b[0;31mKeyError\u001b[0m                                  Traceback (most recent call last)",
            "\u001b[0;32m<ipython-input-53-56bfe13c55d3>\u001b[0m in \u001b[0;36m<module>\u001b[0;34m()\u001b[0m\n\u001b[0;32m----> 1\u001b[0;31m \u001b[0m스마트폰\u001b[0m\u001b[0;34m=\u001b[0m\u001b[0m스마트폰_1\u001b[0m\u001b[0;34m.\u001b[0m\u001b[0mdrop\u001b[0m\u001b[0;34m(\u001b[0m\u001b[0mcolumns\u001b[0m\u001b[0;34m=\u001b[0m\u001b[0;34m[\u001b[0m\u001b[0;34m'Unnamed: 0'\u001b[0m\u001b[0;34m]\u001b[0m\u001b[0;34m,\u001b[0m \u001b[0maxis\u001b[0m\u001b[0;34m=\u001b[0m\u001b[0;36m1\u001b[0m\u001b[0;34m)\u001b[0m\u001b[0;34m\u001b[0m\u001b[0;34m\u001b[0m\u001b[0m\n\u001b[0m",
            "\u001b[0;32m/usr/local/lib/python3.7/dist-packages/pandas/core/frame.py\u001b[0m in \u001b[0;36mdrop\u001b[0;34m(self, labels, axis, index, columns, level, inplace, errors)\u001b[0m\n\u001b[1;32m   4172\u001b[0m             \u001b[0mlevel\u001b[0m\u001b[0;34m=\u001b[0m\u001b[0mlevel\u001b[0m\u001b[0;34m,\u001b[0m\u001b[0;34m\u001b[0m\u001b[0;34m\u001b[0m\u001b[0m\n\u001b[1;32m   4173\u001b[0m             \u001b[0minplace\u001b[0m\u001b[0;34m=\u001b[0m\u001b[0minplace\u001b[0m\u001b[0;34m,\u001b[0m\u001b[0;34m\u001b[0m\u001b[0;34m\u001b[0m\u001b[0m\n\u001b[0;32m-> 4174\u001b[0;31m             \u001b[0merrors\u001b[0m\u001b[0;34m=\u001b[0m\u001b[0merrors\u001b[0m\u001b[0;34m,\u001b[0m\u001b[0;34m\u001b[0m\u001b[0;34m\u001b[0m\u001b[0m\n\u001b[0m\u001b[1;32m   4175\u001b[0m         )\n\u001b[1;32m   4176\u001b[0m \u001b[0;34m\u001b[0m\u001b[0m\n",
            "\u001b[0;32m/usr/local/lib/python3.7/dist-packages/pandas/core/generic.py\u001b[0m in \u001b[0;36mdrop\u001b[0;34m(self, labels, axis, index, columns, level, inplace, errors)\u001b[0m\n\u001b[1;32m   3887\u001b[0m         \u001b[0;32mfor\u001b[0m \u001b[0maxis\u001b[0m\u001b[0;34m,\u001b[0m \u001b[0mlabels\u001b[0m \u001b[0;32min\u001b[0m \u001b[0maxes\u001b[0m\u001b[0;34m.\u001b[0m\u001b[0mitems\u001b[0m\u001b[0;34m(\u001b[0m\u001b[0;34m)\u001b[0m\u001b[0;34m:\u001b[0m\u001b[0;34m\u001b[0m\u001b[0;34m\u001b[0m\u001b[0m\n\u001b[1;32m   3888\u001b[0m             \u001b[0;32mif\u001b[0m \u001b[0mlabels\u001b[0m \u001b[0;32mis\u001b[0m \u001b[0;32mnot\u001b[0m \u001b[0;32mNone\u001b[0m\u001b[0;34m:\u001b[0m\u001b[0;34m\u001b[0m\u001b[0;34m\u001b[0m\u001b[0m\n\u001b[0;32m-> 3889\u001b[0;31m                 \u001b[0mobj\u001b[0m \u001b[0;34m=\u001b[0m \u001b[0mobj\u001b[0m\u001b[0;34m.\u001b[0m\u001b[0m_drop_axis\u001b[0m\u001b[0;34m(\u001b[0m\u001b[0mlabels\u001b[0m\u001b[0;34m,\u001b[0m \u001b[0maxis\u001b[0m\u001b[0;34m,\u001b[0m \u001b[0mlevel\u001b[0m\u001b[0;34m=\u001b[0m\u001b[0mlevel\u001b[0m\u001b[0;34m,\u001b[0m \u001b[0merrors\u001b[0m\u001b[0;34m=\u001b[0m\u001b[0merrors\u001b[0m\u001b[0;34m)\u001b[0m\u001b[0;34m\u001b[0m\u001b[0;34m\u001b[0m\u001b[0m\n\u001b[0m\u001b[1;32m   3890\u001b[0m \u001b[0;34m\u001b[0m\u001b[0m\n\u001b[1;32m   3891\u001b[0m         \u001b[0;32mif\u001b[0m \u001b[0minplace\u001b[0m\u001b[0;34m:\u001b[0m\u001b[0;34m\u001b[0m\u001b[0;34m\u001b[0m\u001b[0m\n",
            "\u001b[0;32m/usr/local/lib/python3.7/dist-packages/pandas/core/generic.py\u001b[0m in \u001b[0;36m_drop_axis\u001b[0;34m(self, labels, axis, level, errors)\u001b[0m\n\u001b[1;32m   3921\u001b[0m                 \u001b[0mnew_axis\u001b[0m \u001b[0;34m=\u001b[0m \u001b[0maxis\u001b[0m\u001b[0;34m.\u001b[0m\u001b[0mdrop\u001b[0m\u001b[0;34m(\u001b[0m\u001b[0mlabels\u001b[0m\u001b[0;34m,\u001b[0m \u001b[0mlevel\u001b[0m\u001b[0;34m=\u001b[0m\u001b[0mlevel\u001b[0m\u001b[0;34m,\u001b[0m \u001b[0merrors\u001b[0m\u001b[0;34m=\u001b[0m\u001b[0merrors\u001b[0m\u001b[0;34m)\u001b[0m\u001b[0;34m\u001b[0m\u001b[0;34m\u001b[0m\u001b[0m\n\u001b[1;32m   3922\u001b[0m             \u001b[0;32melse\u001b[0m\u001b[0;34m:\u001b[0m\u001b[0;34m\u001b[0m\u001b[0;34m\u001b[0m\u001b[0m\n\u001b[0;32m-> 3923\u001b[0;31m                 \u001b[0mnew_axis\u001b[0m \u001b[0;34m=\u001b[0m \u001b[0maxis\u001b[0m\u001b[0;34m.\u001b[0m\u001b[0mdrop\u001b[0m\u001b[0;34m(\u001b[0m\u001b[0mlabels\u001b[0m\u001b[0;34m,\u001b[0m \u001b[0merrors\u001b[0m\u001b[0;34m=\u001b[0m\u001b[0merrors\u001b[0m\u001b[0;34m)\u001b[0m\u001b[0;34m\u001b[0m\u001b[0;34m\u001b[0m\u001b[0m\n\u001b[0m\u001b[1;32m   3924\u001b[0m             \u001b[0mresult\u001b[0m \u001b[0;34m=\u001b[0m \u001b[0mself\u001b[0m\u001b[0;34m.\u001b[0m\u001b[0mreindex\u001b[0m\u001b[0;34m(\u001b[0m\u001b[0;34m**\u001b[0m\u001b[0;34m{\u001b[0m\u001b[0maxis_name\u001b[0m\u001b[0;34m:\u001b[0m \u001b[0mnew_axis\u001b[0m\u001b[0;34m}\u001b[0m\u001b[0;34m)\u001b[0m\u001b[0;34m\u001b[0m\u001b[0;34m\u001b[0m\u001b[0m\n\u001b[1;32m   3925\u001b[0m \u001b[0;34m\u001b[0m\u001b[0m\n",
            "\u001b[0;32m/usr/local/lib/python3.7/dist-packages/pandas/core/indexes/base.py\u001b[0m in \u001b[0;36mdrop\u001b[0;34m(self, labels, errors)\u001b[0m\n\u001b[1;32m   5285\u001b[0m         \u001b[0;32mif\u001b[0m \u001b[0mmask\u001b[0m\u001b[0;34m.\u001b[0m\u001b[0many\u001b[0m\u001b[0;34m(\u001b[0m\u001b[0;34m)\u001b[0m\u001b[0;34m:\u001b[0m\u001b[0;34m\u001b[0m\u001b[0;34m\u001b[0m\u001b[0m\n\u001b[1;32m   5286\u001b[0m             \u001b[0;32mif\u001b[0m \u001b[0merrors\u001b[0m \u001b[0;34m!=\u001b[0m \u001b[0;34m\"ignore\"\u001b[0m\u001b[0;34m:\u001b[0m\u001b[0;34m\u001b[0m\u001b[0;34m\u001b[0m\u001b[0m\n\u001b[0;32m-> 5287\u001b[0;31m                 \u001b[0;32mraise\u001b[0m \u001b[0mKeyError\u001b[0m\u001b[0;34m(\u001b[0m\u001b[0;34mf\"{labels[mask]} not found in axis\"\u001b[0m\u001b[0;34m)\u001b[0m\u001b[0;34m\u001b[0m\u001b[0;34m\u001b[0m\u001b[0m\n\u001b[0m\u001b[1;32m   5288\u001b[0m             \u001b[0mindexer\u001b[0m \u001b[0;34m=\u001b[0m \u001b[0mindexer\u001b[0m\u001b[0;34m[\u001b[0m\u001b[0;34m~\u001b[0m\u001b[0mmask\u001b[0m\u001b[0;34m]\u001b[0m\u001b[0;34m\u001b[0m\u001b[0;34m\u001b[0m\u001b[0m\n\u001b[1;32m   5289\u001b[0m         \u001b[0;32mreturn\u001b[0m \u001b[0mself\u001b[0m\u001b[0;34m.\u001b[0m\u001b[0mdelete\u001b[0m\u001b[0;34m(\u001b[0m\u001b[0mindexer\u001b[0m\u001b[0;34m)\u001b[0m\u001b[0;34m\u001b[0m\u001b[0;34m\u001b[0m\u001b[0m\n",
            "\u001b[0;31mKeyError\u001b[0m: \"['Unnamed: 0'] not found in axis\""
          ]
        }
      ]
    },
    {
      "cell_type": "code",
      "metadata": {
        "colab": {
          "base_uri": "https://localhost:8080/",
          "height": 212
        },
        "id": "PNkLTWl6vswj",
        "outputId": "2424683c-0cfb-4024-b334-db21b12419af"
      },
      "source": [
        "스마트폰_1.head()"
      ],
      "execution_count": null,
      "outputs": [
        {
          "output_type": "execute_result",
          "data": {
            "text/html": [
              "<div>\n",
              "<style scoped>\n",
              "    .dataframe tbody tr th:only-of-type {\n",
              "        vertical-align: middle;\n",
              "    }\n",
              "\n",
              "    .dataframe tbody tr th {\n",
              "        vertical-align: top;\n",
              "    }\n",
              "\n",
              "    .dataframe thead th {\n",
              "        text-align: right;\n",
              "    }\n",
              "</style>\n",
              "<table border=\"1\" class=\"dataframe\">\n",
              "  <thead>\n",
              "    <tr style=\"text-align: right;\">\n",
              "      <th></th>\n",
              "      <th>순번</th>\n",
              "      <th>출시년도</th>\n",
              "      <th>구매시기</th>\n",
              "      <th>디스플레이</th>\n",
              "      <th>연령</th>\n",
              "      <th>키</th>\n",
              "      <th>몸무게</th>\n",
              "      <th>스마트폰사용시간</th>\n",
              "      <th>컴퓨터사용시간</th>\n",
              "      <th>데이터사용량</th>\n",
              "    </tr>\n",
              "  </thead>\n",
              "  <tbody>\n",
              "    <tr>\n",
              "      <th>0</th>\n",
              "      <td>1</td>\n",
              "      <td>2015</td>\n",
              "      <td>2015</td>\n",
              "      <td>5.0</td>\n",
              "      <td>45</td>\n",
              "      <td>173</td>\n",
              "      <td>75</td>\n",
              "      <td>60</td>\n",
              "      <td>500</td>\n",
              "      <td>100</td>\n",
              "    </tr>\n",
              "    <tr>\n",
              "      <th>1</th>\n",
              "      <td>2</td>\n",
              "      <td>2014</td>\n",
              "      <td>2015</td>\n",
              "      <td>4.5</td>\n",
              "      <td>27</td>\n",
              "      <td>176</td>\n",
              "      <td>59</td>\n",
              "      <td>70</td>\n",
              "      <td>30</td>\n",
              "      <td>50</td>\n",
              "    </tr>\n",
              "    <tr>\n",
              "      <th>2</th>\n",
              "      <td>3</td>\n",
              "      <td>2015</td>\n",
              "      <td>2015</td>\n",
              "      <td>5.0</td>\n",
              "      <td>29</td>\n",
              "      <td>183</td>\n",
              "      <td>65</td>\n",
              "      <td>120</td>\n",
              "      <td>300</td>\n",
              "      <td>200</td>\n",
              "    </tr>\n",
              "    <tr>\n",
              "      <th>3</th>\n",
              "      <td>4</td>\n",
              "      <td>2015</td>\n",
              "      <td>2016</td>\n",
              "      <td>5.0</td>\n",
              "      <td>28</td>\n",
              "      <td>172</td>\n",
              "      <td>63</td>\n",
              "      <td>80</td>\n",
              "      <td>60</td>\n",
              "      <td>190</td>\n",
              "    </tr>\n",
              "    <tr>\n",
              "      <th>4</th>\n",
              "      <td>5</td>\n",
              "      <td>2015</td>\n",
              "      <td>2015</td>\n",
              "      <td>5.0</td>\n",
              "      <td>24</td>\n",
              "      <td>179</td>\n",
              "      <td>65</td>\n",
              "      <td>90</td>\n",
              "      <td>30</td>\n",
              "      <td>500</td>\n",
              "    </tr>\n",
              "  </tbody>\n",
              "</table>\n",
              "</div>"
            ],
            "text/plain": [
              "   순번  출시년도  구매시기  디스플레이  연령    키  몸무게  스마트폰사용시간  컴퓨터사용시간  데이터사용량\n",
              "0   1  2015  2015    5.0  45  173   75        60      500     100\n",
              "1   2  2014  2015    4.5  27  176   59        70       30      50\n",
              "2   3  2015  2015    5.0  29  183   65       120      300     200\n",
              "3   4  2015  2016    5.0  28  172   63        80       60     190\n",
              "4   5  2015  2015    5.0  24  179   65        90       30     500"
            ]
          },
          "metadata": {
            "tags": []
          },
          "execution_count": 55
        }
      ]
    },
    {
      "cell_type": "markdown",
      "metadata": {
        "id": "Teb_ClcSpLj9"
      },
      "source": [
        "#분석 데이터 식별\n",
        "\n",
        "스마트폰$출시년도==2016\n",
        "\n",
        "스마트폰[,9] > 500"
      ]
    },
    {
      "cell_type": "code",
      "metadata": {
        "id": "0d3_IPaNwRbH"
      },
      "source": [
        "스마트폰출시년도조회=스마트폰_1.loc[\n",
        "                    (\n",
        "                        스마트폰_1['출시년도'] == 2016\n",
        "                    )\n",
        "]"
      ],
      "execution_count": null,
      "outputs": []
    },
    {
      "cell_type": "code",
      "metadata": {
        "colab": {
          "base_uri": "https://localhost:8080/"
        },
        "id": "-IXa3z9PxSRf",
        "outputId": "2f5a8458-4c03-4be8-a46f-8c8869049bf4"
      },
      "source": [
        "len(스마트폰출시년도조회)"
      ],
      "execution_count": null,
      "outputs": [
        {
          "output_type": "execute_result",
          "data": {
            "text/plain": [
              "8"
            ]
          },
          "metadata": {
            "tags": []
          },
          "execution_count": 42
        }
      ]
    },
    {
      "cell_type": "code",
      "metadata": {
        "colab": {
          "base_uri": "https://localhost:8080/",
          "height": 204
        },
        "id": "vtMu4KB5xLdY",
        "outputId": "7a3264e3-48ca-43e7-ea7a-ba20a090a1c7"
      },
      "source": [
        "스마트폰출시년도조회.head()"
      ],
      "execution_count": null,
      "outputs": [
        {
          "output_type": "execute_result",
          "data": {
            "text/html": [
              "<div>\n",
              "<style scoped>\n",
              "    .dataframe tbody tr th:only-of-type {\n",
              "        vertical-align: middle;\n",
              "    }\n",
              "\n",
              "    .dataframe tbody tr th {\n",
              "        vertical-align: top;\n",
              "    }\n",
              "\n",
              "    .dataframe thead th {\n",
              "        text-align: right;\n",
              "    }\n",
              "</style>\n",
              "<table border=\"1\" class=\"dataframe\">\n",
              "  <thead>\n",
              "    <tr style=\"text-align: right;\">\n",
              "      <th></th>\n",
              "      <th>순번</th>\n",
              "      <th>출시년도</th>\n",
              "      <th>구매시기</th>\n",
              "      <th>디스플레이</th>\n",
              "      <th>연령</th>\n",
              "      <th>키</th>\n",
              "      <th>몸무게</th>\n",
              "      <th>스마트폰사용시간</th>\n",
              "      <th>컴퓨터사용시간</th>\n",
              "      <th>데이터사용량</th>\n",
              "    </tr>\n",
              "  </thead>\n",
              "  <tbody>\n",
              "    <tr>\n",
              "      <th>5</th>\n",
              "      <td>6</td>\n",
              "      <td>2016</td>\n",
              "      <td>2016</td>\n",
              "      <td>5.5</td>\n",
              "      <td>34</td>\n",
              "      <td>175</td>\n",
              "      <td>73</td>\n",
              "      <td>80</td>\n",
              "      <td>480</td>\n",
              "      <td>160</td>\n",
              "    </tr>\n",
              "    <tr>\n",
              "      <th>6</th>\n",
              "      <td>7</td>\n",
              "      <td>2016</td>\n",
              "      <td>2016</td>\n",
              "      <td>6.0</td>\n",
              "      <td>40</td>\n",
              "      <td>169</td>\n",
              "      <td>77</td>\n",
              "      <td>60</td>\n",
              "      <td>300</td>\n",
              "      <td>170</td>\n",
              "    </tr>\n",
              "    <tr>\n",
              "      <th>13</th>\n",
              "      <td>14</td>\n",
              "      <td>2016</td>\n",
              "      <td>2016</td>\n",
              "      <td>6.0</td>\n",
              "      <td>41</td>\n",
              "      <td>181</td>\n",
              "      <td>88</td>\n",
              "      <td>60</td>\n",
              "      <td>120</td>\n",
              "      <td>130</td>\n",
              "    </tr>\n",
              "    <tr>\n",
              "      <th>16</th>\n",
              "      <td>17</td>\n",
              "      <td>2016</td>\n",
              "      <td>2016</td>\n",
              "      <td>5.5</td>\n",
              "      <td>35</td>\n",
              "      <td>184</td>\n",
              "      <td>72</td>\n",
              "      <td>90</td>\n",
              "      <td>90</td>\n",
              "      <td>70</td>\n",
              "    </tr>\n",
              "    <tr>\n",
              "      <th>17</th>\n",
              "      <td>18</td>\n",
              "      <td>2016</td>\n",
              "      <td>2016</td>\n",
              "      <td>6.0</td>\n",
              "      <td>34</td>\n",
              "      <td>176</td>\n",
              "      <td>71</td>\n",
              "      <td>90</td>\n",
              "      <td>60</td>\n",
              "      <td>130</td>\n",
              "    </tr>\n",
              "  </tbody>\n",
              "</table>\n",
              "</div>"
            ],
            "text/plain": [
              "    순번  출시년도  구매시기  디스플레이  연령    키  몸무게  스마트폰사용시간  컴퓨터사용시간  데이터사용량\n",
              "5    6  2016  2016    5.5  34  175   73        80      480     160\n",
              "6    7  2016  2016    6.0  40  169   77        60      300     170\n",
              "13  14  2016  2016    6.0  41  181   88        60      120     130\n",
              "16  17  2016  2016    5.5  35  184   72        90       90      70\n",
              "17  18  2016  2016    6.0  34  176   71        90       60     130"
            ]
          },
          "metadata": {
            "tags": []
          },
          "execution_count": 43
        }
      ]
    },
    {
      "cell_type": "code",
      "metadata": {
        "id": "FsLTxDruxsW4"
      },
      "source": [
        "스마트폰데이터사용량=스마트폰.loc[\n",
        "                    (\n",
        "                        스마트폰['데이터사용량'] > 500\n",
        "                    )\n",
        "]"
      ],
      "execution_count": null,
      "outputs": []
    },
    {
      "cell_type": "code",
      "metadata": {
        "colab": {
          "base_uri": "https://localhost:8080/"
        },
        "id": "lXn6kQdux2Bo",
        "outputId": "4ff007e2-c07e-474a-b4cf-7ee9dbf98513"
      },
      "source": [
        "len(스마트폰데이터사용량)"
      ],
      "execution_count": null,
      "outputs": [
        {
          "output_type": "execute_result",
          "data": {
            "text/plain": [
              "3"
            ]
          },
          "metadata": {
            "tags": []
          },
          "execution_count": 45
        }
      ]
    },
    {
      "cell_type": "code",
      "metadata": {
        "colab": {
          "base_uri": "https://localhost:8080/",
          "height": 142
        },
        "id": "knxvFKhsx5XS",
        "outputId": "40767973-c517-4725-a6ba-61f02b4b4018"
      },
      "source": [
        "스마트폰데이터사용량.head()"
      ],
      "execution_count": null,
      "outputs": [
        {
          "output_type": "execute_result",
          "data": {
            "text/html": [
              "<div>\n",
              "<style scoped>\n",
              "    .dataframe tbody tr th:only-of-type {\n",
              "        vertical-align: middle;\n",
              "    }\n",
              "\n",
              "    .dataframe tbody tr th {\n",
              "        vertical-align: top;\n",
              "    }\n",
              "\n",
              "    .dataframe thead th {\n",
              "        text-align: right;\n",
              "    }\n",
              "</style>\n",
              "<table border=\"1\" class=\"dataframe\">\n",
              "  <thead>\n",
              "    <tr style=\"text-align: right;\">\n",
              "      <th></th>\n",
              "      <th>순번</th>\n",
              "      <th>출시년도</th>\n",
              "      <th>구매시기</th>\n",
              "      <th>디스플레이</th>\n",
              "      <th>연령</th>\n",
              "      <th>키</th>\n",
              "      <th>몸무게</th>\n",
              "      <th>스마트폰사용시간</th>\n",
              "      <th>컴퓨터사용시간</th>\n",
              "      <th>데이터사용량</th>\n",
              "    </tr>\n",
              "  </thead>\n",
              "  <tbody>\n",
              "    <tr>\n",
              "      <th>18</th>\n",
              "      <td>19</td>\n",
              "      <td>2015</td>\n",
              "      <td>2015</td>\n",
              "      <td>4.5</td>\n",
              "      <td>29</td>\n",
              "      <td>188</td>\n",
              "      <td>83</td>\n",
              "      <td>140</td>\n",
              "      <td>240</td>\n",
              "      <td>600</td>\n",
              "    </tr>\n",
              "    <tr>\n",
              "      <th>22</th>\n",
              "      <td>23</td>\n",
              "      <td>2015</td>\n",
              "      <td>2015</td>\n",
              "      <td>5.0</td>\n",
              "      <td>26</td>\n",
              "      <td>179</td>\n",
              "      <td>80</td>\n",
              "      <td>180</td>\n",
              "      <td>30</td>\n",
              "      <td>1100</td>\n",
              "    </tr>\n",
              "    <tr>\n",
              "      <th>23</th>\n",
              "      <td>24</td>\n",
              "      <td>2016</td>\n",
              "      <td>2016</td>\n",
              "      <td>6.0</td>\n",
              "      <td>25</td>\n",
              "      <td>177</td>\n",
              "      <td>76</td>\n",
              "      <td>120</td>\n",
              "      <td>90</td>\n",
              "      <td>700</td>\n",
              "    </tr>\n",
              "  </tbody>\n",
              "</table>\n",
              "</div>"
            ],
            "text/plain": [
              "    순번  출시년도  구매시기  디스플레이  연령    키  몸무게  스마트폰사용시간  컴퓨터사용시간  데이터사용량\n",
              "18  19  2015  2015    4.5  29  188   83       140      240     600\n",
              "22  23  2015  2015    5.0  26  179   80       180       30    1100\n",
              "23  24  2016  2016    6.0  25  177   76       120       90     700"
            ]
          },
          "metadata": {
            "tags": []
          },
          "execution_count": 46
        }
      ]
    },
    {
      "cell_type": "markdown",
      "metadata": {
        "id": "gwneZMcptUJ1"
      },
      "source": [
        "Quiz 출시년도에 따른 연령별 스마트폰 사용시간 합계를 구하시오."
      ]
    },
    {
      "cell_type": "code",
      "metadata": {
        "colab": {
          "base_uri": "https://localhost:8080/"
        },
        "id": "AVJJRLLYtlIk",
        "outputId": "b0a8cc6e-9607-4a51-edd3-f76d7bc80dd5"
      },
      "source": [
        "스마트폰_1.groupby(['출시년도','연령'])['스마트폰사용시간'].sum()"
      ],
      "execution_count": null,
      "outputs": [
        {
          "output_type": "execute_result",
          "data": {
            "text/plain": [
              "출시년도  연령\n",
              "2014  27     70\n",
              "      30    100\n",
              "      32    130\n",
              "      40     50\n",
              "2015  24     90\n",
              "      26    180\n",
              "      28     80\n",
              "      29    260\n",
              "      32     70\n",
              "      35    110\n",
              "      37     90\n",
              "      40     70\n",
              "      42     40\n",
              "      45     60\n",
              "2016  25    180\n",
              "      30     50\n",
              "      34    170\n",
              "      35     90\n",
              "      40     60\n",
              "      41     60\n",
              "Name: 스마트폰사용시간, dtype: int64"
            ]
          },
          "metadata": {
            "tags": []
          },
          "execution_count": 57
        }
      ]
    },
    {
      "cell_type": "markdown",
      "metadata": {
        "id": "E-JfU3-5Sq_R"
      },
      "source": [
        "# 시각화"
      ]
    },
    {
      "cell_type": "code",
      "metadata": {
        "id": "BKgiX4GoJGj8"
      },
      "source": [
        "tips_sum_by_day = tips.groupby('day').tip.sum()\n",
        "titanic_csv.groupby(['Class','Gender']).mean()"
      ],
      "execution_count": null,
      "outputs": []
    },
    {
      "cell_type": "code",
      "metadata": {
        "id": "TMLibQHeIFC8"
      },
      "source": [
        "tips_sum_by_day = 스마트폰_1.groupby(['출시년도'])['스마트폰사용시간'].sum()"
      ],
      "execution_count": null,
      "outputs": []
    },
    {
      "cell_type": "code",
      "metadata": {
        "colab": {
          "base_uri": "https://localhost:8080/"
        },
        "id": "jiHwJdSvKCHx",
        "outputId": "cd3ca111-2e84-4545-bd88-6bb7e83a44d7"
      },
      "source": [
        "tips_sum_by_day"
      ],
      "execution_count": null,
      "outputs": [
        {
          "output_type": "execute_result",
          "data": {
            "text/plain": [
              "출시년도\n",
              "2014     350\n",
              "2015    1050\n",
              "2016     610\n",
              "Name: 스마트폰사용시간, dtype: int64"
            ]
          },
          "metadata": {
            "tags": []
          },
          "execution_count": 63
        }
      ]
    },
    {
      "cell_type": "code",
      "metadata": {
        "id": "uyVaWxGkKniM"
      },
      "source": [
        "label = ['2014 ', '2015', '2016']"
      ],
      "execution_count": null,
      "outputs": []
    },
    {
      "cell_type": "code",
      "metadata": {
        "id": "06vhuGglKuyG"
      },
      "source": [
        "import numpy as np\n",
        "index = np.arange(len(label))"
      ],
      "execution_count": null,
      "outputs": []
    },
    {
      "cell_type": "code",
      "metadata": {
        "colab": {
          "base_uri": "https://localhost:8080/",
          "height": 313
        },
        "id": "5uRXxsxuK0gg",
        "outputId": "54707703-8e51-48d1-ff16-829cfb08d28c"
      },
      "source": [
        "import matplotlib.pyplot as plt\n",
        "\n",
        "plt.bar(index, tips_sum_by_day)\n",
        "\n",
        "plt.title('Sum of Tips by Day', fontsize=20)\n",
        "\n",
        "plt.xlabel('Day', fontsize=18)\n",
        "\n",
        "plt.ylabel('Sum of Tips', fontsize=18)\n",
        "\n",
        "plt.xticks(index, label, fontsize=15)\n",
        "\n",
        "plt.show()"
      ],
      "execution_count": null,
      "outputs": [
        {
          "output_type": "display_data",
          "data": {
            "image/png": "[encoded data removed]",
            "text/plain": [
              "<Figure size 432x288 with 1 Axes>"
            ]
          },
          "metadata": {
            "tags": [],
            "needs_background": "light"
          }
        }
      ]
    },
    {
      "cell_type": "code",
      "metadata": {
        "colab": {
          "base_uri": "https://localhost:8080/",
          "height": 265
        },
        "id": "QolT7akXPlRw",
        "outputId": "6e750560-8eac-4c6d-e67e-be654641bd41"
      },
      "source": [
        "plt.bar(label, tips_sum_by_day, \n",
        "\n",
        "        color='red', # color\n",
        "\n",
        "        alpha=0.5) # transparency\n",
        "\n",
        "plt.show()"
      ],
      "execution_count": null,
      "outputs": [
        {
          "output_type": "display_data",
          "data": {
            "image/png": "[encoded data removed]",
            "text/plain": [
              "<Figure size 432x288 with 1 Axes>"
            ]
          },
          "metadata": {
            "tags": [],
            "needs_background": "light"
          }
        }
      ]
    },
    {
      "cell_type": "code",
      "metadata": {
        "colab": {
          "base_uri": "https://localhost:8080/",
          "height": 265
        },
        "id": "o-RAKNsMPppA",
        "outputId": "5311e0ce-1728-486e-b8bf-678ee8c75c66"
      },
      "source": [
        "plt.bar(label, tips_sum_by_day, \n",
        "\n",
        "        width=0.5, # default: 0.8\n",
        "\n",
        "        align='edge') # default: 'center'\n",
        "\n",
        "plt.show()"
      ],
      "execution_count": null,
      "outputs": [
        {
          "output_type": "display_data",
          "data": {
            "image/png": "[encoded data removed]",
            "text/plain": [
              "<Figure size 432x288 with 1 Axes>"
            ]
          },
          "metadata": {
            "tags": [],
            "needs_background": "light"
          }
        }
      ]
    },
    {
      "cell_type": "code",
      "metadata": {
        "colab": {
          "base_uri": "https://localhost:8080/",
          "height": 320
        },
        "id": "8adh2miVPs5y",
        "outputId": "1abf9528-8041-4280-cf97-a7caddee94d2"
      },
      "source": [
        "plt.bar(index, tips_sum_by_day)\n",
        "\n",
        "plt.xlabel('Day', fontsize=18)\n",
        "\n",
        "plt.xticks(index, label, fontsize=15, \n",
        "\n",
        "           rotation=90) # when X tick labels are long\n",
        "\n",
        "plt.show()"
      ],
      "execution_count": null,
      "outputs": [
        {
          "output_type": "display_data",
          "data": {
            "image/png": "[encoded data removed]",
            "text/plain": [
              "<Figure size 432x288 with 1 Axes>"
            ]
          },
          "metadata": {
            "tags": [],
            "needs_background": "light"
          }
        }
      ]
    },
    {
      "cell_type": "code",
      "metadata": {
        "colab": {
          "base_uri": "https://localhost:8080/",
          "height": 304
        },
        "id": "J8ATY-yzPwXi",
        "outputId": "4b67e857-29c1-411b-8138-89865b12557a"
      },
      "source": [
        "plt.barh(index, tips_sum_by_day)\n",
        "\n",
        "plt.title('Sum of Tips by Day', fontsize=18)\n",
        "\n",
        "plt.ylabel('Day', fontsize=15)\n",
        "\n",
        "plt.xlabel('Sum of Tips', fontsize=15)\n",
        "\n",
        "plt.yticks(index, label, fontsize=13, rotation=0)\n",
        "\n",
        "plt.show()"
      ],
      "execution_count": null,
      "outputs": [
        {
          "output_type": "display_data",
          "data": {
            "image/png": "[encoded data removed]",
            "text/plain": [
              "<Figure size 432x288 with 1 Axes>"
            ]
          },
          "metadata": {
            "tags": [],
            "needs_background": "light"
          }
        }
      ]
    },
    {
      "cell_type": "code",
      "metadata": {
        "id": "lX2XRyMKQLgW"
      },
      "source": [
        "plt.rcParams['figure.figsize'] = [12, 8]"
      ],
      "execution_count": null,
      "outputs": []
    },
    {
      "cell_type": "code",
      "metadata": {
        "colab": {
          "base_uri": "https://localhost:8080/"
        },
        "id": "-KXhbOmUQWZb",
        "outputId": "3a747936-0043-4109-b7e6-6607da3e6601"
      },
      "source": [
        "tips_sum_by_day.values"
      ],
      "execution_count": null,
      "outputs": [
        {
          "output_type": "execute_result",
          "data": {
            "text/plain": [
              "array([ 350, 1050,  610])"
            ]
          },
          "metadata": {
            "tags": []
          },
          "execution_count": 76
        }
      ]
    },
    {
      "cell_type": "code",
      "metadata": {
        "colab": {
          "base_uri": "https://localhost:8080/"
        },
        "id": "AZ-oWHSkQ3xY",
        "outputId": "f910db88-1eb3-47ce-82fb-00a16669ae2f"
      },
      "source": [
        "tips_sum_by_day.index"
      ],
      "execution_count": null,
      "outputs": [
        {
          "output_type": "execute_result",
          "data": {
            "text/plain": [
              "Int64Index([2014, 2015, 2016], dtype='int64', name='출시년도')"
            ]
          },
          "metadata": {
            "tags": []
          },
          "execution_count": 80
        }
      ]
    },
    {
      "cell_type": "code",
      "metadata": {
        "id": "JZ0PtT5KQM3I"
      },
      "source": [
        "group_names = tips_sum_by_day.index\n",
        "\n",
        "group_sizes = tips_sum_by_day.values\n",
        "\n",
        "group_colors = ['yellowgreen', 'lightskyblue', 'lightcoral']\n",
        "\n",
        "group_explodes = (0.1, 0, 0)"
      ],
      "execution_count": null,
      "outputs": []
    },
    {
      "cell_type": "code",
      "metadata": {
        "colab": {
          "base_uri": "https://localhost:8080/",
          "height": 461
        },
        "id": "xtSqIcicQrq7",
        "outputId": "4baf0b1b-d7c9-44a3-ad72-5078680fa3d6"
      },
      "source": [
        "plt.pie(group_sizes, \n",
        "\n",
        "        explode=group_explodes, \n",
        "\n",
        "        labels=group_names, \n",
        "\n",
        "        colors=group_colors, \n",
        "\n",
        "        autopct='%1.2f%%', # second decimal place\n",
        "\n",
        "        shadow=True, \n",
        "\n",
        "        startangle=90,\n",
        "\n",
        "        textprops={'fontsize': 14}) # text font size\n",
        "\n",
        "plt.axis('equal') #  equal length of X and Y axis\n",
        "\n",
        "plt.title('Pie Chart of Market Share', fontsize=20)\n",
        "\n",
        "plt.show()"
      ],
      "execution_count": null,
      "outputs": [
        {
          "output_type": "display_data",
          "data": {
            "image/png": "[encoded data removed]",
            "text/plain": [
              "<Figure size 864x576 with 1 Axes>"
            ]
          },
          "metadata": {
            "tags": []
          }
        }
      ]
    },
    {
      "cell_type": "code",
      "metadata": {
        "id": "WSPc9si8ROrc"
      },
      "source": [
        "import pandas as pd"
      ],
      "execution_count": null,
      "outputs": []
    },
    {
      "cell_type": "code",
      "metadata": {
        "colab": {
          "base_uri": "https://localhost:8080/",
          "height": 35
        },
        "id": "ZJlBOx0ORQwi",
        "outputId": "c7e5db67-c6a9-4a3e-e2ac-6126f16729a7"
      },
      "source": [
        "%precision 3"
      ],
      "execution_count": null,
      "outputs": [
        {
          "output_type": "execute_result",
          "data": {
            "application/vnd.google.colaboratory.intrinsic+json": {
              "type": "string"
            },
            "text/plain": [
              "'%.3f'"
            ]
          },
          "metadata": {
            "tags": []
          },
          "execution_count": 84
        }
      ]
    },
    {
      "cell_type": "code",
      "metadata": {
        "id": "nbOibVCCRSm2"
      },
      "source": [
        "from matplotlib import pyplot as plt"
      ],
      "execution_count": null,
      "outputs": []
    },
    {
      "cell_type": "code",
      "metadata": {
        "id": "LTry2HNRRUnY"
      },
      "source": [
        "%matplotlib inline"
      ],
      "execution_count": null,
      "outputs": []
    },
    {
      "cell_type": "code",
      "metadata": {
        "id": "nTIxZ9qnRgf9"
      },
      "source": [
        "Temp_data=스마트폰_1['데이터사용량']"
      ],
      "execution_count": null,
      "outputs": []
    },
    {
      "cell_type": "code",
      "metadata": {
        "colab": {
          "base_uri": "https://localhost:8080/",
          "height": 265
        },
        "id": "-3TCK02fRWk7",
        "outputId": "6b577f45-e784-4a14-d0e1-79497b47db47"
      },
      "source": [
        "n, bins, patches = plt.hist(Temp_data, bins=10)"
      ],
      "execution_count": null,
      "outputs": [
        {
          "output_type": "display_data",
          "data": {
            "image/png": "[encoded data removed]",
            "text/plain": [
              "<Figure size 432x288 with 1 Axes>"
            ]
          },
          "metadata": {
            "tags": [],
            "needs_background": "light"
          }
        }
      ]
    },
    {
      "cell_type": "code",
      "metadata": {
        "id": "HEAbHLQ0RvHW"
      },
      "source": [
        "plt.show()"
      ],
      "execution_count": null,
      "outputs": []
    },
    {
      "cell_type": "code",
      "metadata": {
        "colab": {
          "base_uri": "https://localhost:8080/",
          "height": 757
        },
        "id": "qr__FR8HRzFP",
        "outputId": "fe9bbdb2-dced-4741-fc59-30904c528a00"
      },
      "source": [
        "import seaborn as sns\n",
        "sns.distplot(Temp_data, bins=5, color='black', kde=False) # kde=커널밀도추정 No"
      ],
      "execution_count": null,
      "outputs": [
        {
          "output_type": "stream",
          "text": [
            "/usr/local/lib/python3.7/dist-packages/seaborn/distributions.py:2557: FutureWarning: `distplot` is a deprecated function and will be removed in a future version. Please adapt your code to use either `displot` (a figure-level function with similar flexibility) or `histplot` (an axes-level function for histograms).\n",
            "  warnings.warn(msg, FutureWarning)\n"
          ],
          "name": "stderr"
        },
        {
          "output_type": "execute_result",
          "data": {
            "text/plain": [
              "<matplotlib.axes._subplots.AxesSubplot at 0x7f65e94c1490>"
            ]
          },
          "metadata": {
            "tags": []
          },
          "execution_count": 95
        },
        {
          "output_type": "stream",
          "text": [
            "/usr/local/lib/python3.7/dist-packages/matplotlib/backends/backend_agg.py:214: RuntimeWarning: Glyph 45936 missing from current font.\n",
            "  font.set_text(s, 0.0, flags=flags)\n",
            "/usr/local/lib/python3.7/dist-packages/matplotlib/backends/backend_agg.py:214: RuntimeWarning: Glyph 51060 missing from current font.\n",
            "  font.set_text(s, 0.0, flags=flags)\n",
            "/usr/local/lib/python3.7/dist-packages/matplotlib/backends/backend_agg.py:214: RuntimeWarning: Glyph 53552 missing from current font.\n",
            "  font.set_text(s, 0.0, flags=flags)\n",
            "/usr/local/lib/python3.7/dist-packages/matplotlib/backends/backend_agg.py:214: RuntimeWarning: Glyph 49324 missing from current font.\n",
            "  font.set_text(s, 0.0, flags=flags)\n",
            "/usr/local/lib/python3.7/dist-packages/matplotlib/backends/backend_agg.py:214: RuntimeWarning: Glyph 50857 missing from current font.\n",
            "  font.set_text(s, 0.0, flags=flags)\n",
            "/usr/local/lib/python3.7/dist-packages/matplotlib/backends/backend_agg.py:214: RuntimeWarning: Glyph 47049 missing from current font.\n",
            "  font.set_text(s, 0.0, flags=flags)\n",
            "/usr/local/lib/python3.7/dist-packages/matplotlib/backends/backend_agg.py:183: RuntimeWarning: Glyph 45936 missing from current font.\n",
            "  font.set_text(s, 0, flags=flags)\n",
            "/usr/local/lib/python3.7/dist-packages/matplotlib/backends/backend_agg.py:183: RuntimeWarning: Glyph 51060 missing from current font.\n",
            "  font.set_text(s, 0, flags=flags)\n",
            "/usr/local/lib/python3.7/dist-packages/matplotlib/backends/backend_agg.py:183: RuntimeWarning: Glyph 53552 missing from current font.\n",
            "  font.set_text(s, 0, flags=flags)\n",
            "/usr/local/lib/python3.7/dist-packages/matplotlib/backends/backend_agg.py:183: RuntimeWarning: Glyph 49324 missing from current font.\n",
            "  font.set_text(s, 0, flags=flags)\n",
            "/usr/local/lib/python3.7/dist-packages/matplotlib/backends/backend_agg.py:183: RuntimeWarning: Glyph 50857 missing from current font.\n",
            "  font.set_text(s, 0, flags=flags)\n",
            "/usr/local/lib/python3.7/dist-packages/matplotlib/backends/backend_agg.py:183: RuntimeWarning: Glyph 47049 missing from current font.\n",
            "  font.set_text(s, 0, flags=flags)\n"
          ],
          "name": "stderr"
        },
        {
          "output_type": "display_data",
          "data": {
            "image/png": "[encoded data removed]",
            "text/plain": [
              "<Figure size 432x288 with 1 Axes>"
            ]
          },
          "metadata": {
            "tags": [],
            "needs_background": "light"
          }
        }
      ]
    },
    {
      "cell_type": "code",
      "metadata": {
        "colab": {
          "base_uri": "https://localhost:8080/",
          "height": 760
        },
        "id": "emV3Az-MSKrW",
        "outputId": "50300e07-ebcc-4a43-9548-c8563e197ac2"
      },
      "source": [
        "sns.distplot(Temp_data, bins=1, color='black', kde=False)"
      ],
      "execution_count": null,
      "outputs": [
        {
          "output_type": "stream",
          "text": [
            "/usr/local/lib/python3.7/dist-packages/seaborn/distributions.py:2557: FutureWarning: `distplot` is a deprecated function and will be removed in a future version. Please adapt your code to use either `displot` (a figure-level function with similar flexibility) or `histplot` (an axes-level function for histograms).\n",
            "  warnings.warn(msg, FutureWarning)\n"
          ],
          "name": "stderr"
        },
        {
          "output_type": "execute_result",
          "data": {
            "text/plain": [
              "<matplotlib.axes._subplots.AxesSubplot at 0x7f65e8c62950>"
            ]
          },
          "metadata": {
            "tags": []
          },
          "execution_count": 97
        },
        {
          "output_type": "stream",
          "text": [
            "/usr/local/lib/python3.7/dist-packages/matplotlib/backends/backend_agg.py:214: RuntimeWarning: Glyph 45936 missing from current font.\n",
            "  font.set_text(s, 0.0, flags=flags)\n",
            "/usr/local/lib/python3.7/dist-packages/matplotlib/backends/backend_agg.py:214: RuntimeWarning: Glyph 51060 missing from current font.\n",
            "  font.set_text(s, 0.0, flags=flags)\n",
            "/usr/local/lib/python3.7/dist-packages/matplotlib/backends/backend_agg.py:214: RuntimeWarning: Glyph 53552 missing from current font.\n",
            "  font.set_text(s, 0.0, flags=flags)\n",
            "/usr/local/lib/python3.7/dist-packages/matplotlib/backends/backend_agg.py:214: RuntimeWarning: Glyph 49324 missing from current font.\n",
            "  font.set_text(s, 0.0, flags=flags)\n",
            "/usr/local/lib/python3.7/dist-packages/matplotlib/backends/backend_agg.py:214: RuntimeWarning: Glyph 50857 missing from current font.\n",
            "  font.set_text(s, 0.0, flags=flags)\n",
            "/usr/local/lib/python3.7/dist-packages/matplotlib/backends/backend_agg.py:214: RuntimeWarning: Glyph 47049 missing from current font.\n",
            "  font.set_text(s, 0.0, flags=flags)\n",
            "/usr/local/lib/python3.7/dist-packages/matplotlib/backends/backend_agg.py:183: RuntimeWarning: Glyph 45936 missing from current font.\n",
            "  font.set_text(s, 0, flags=flags)\n",
            "/usr/local/lib/python3.7/dist-packages/matplotlib/backends/backend_agg.py:183: RuntimeWarning: Glyph 51060 missing from current font.\n",
            "  font.set_text(s, 0, flags=flags)\n",
            "/usr/local/lib/python3.7/dist-packages/matplotlib/backends/backend_agg.py:183: RuntimeWarning: Glyph 53552 missing from current font.\n",
            "  font.set_text(s, 0, flags=flags)\n",
            "/usr/local/lib/python3.7/dist-packages/matplotlib/backends/backend_agg.py:183: RuntimeWarning: Glyph 49324 missing from current font.\n",
            "  font.set_text(s, 0, flags=flags)\n",
            "/usr/local/lib/python3.7/dist-packages/matplotlib/backends/backend_agg.py:183: RuntimeWarning: Glyph 50857 missing from current font.\n",
            "  font.set_text(s, 0, flags=flags)\n",
            "/usr/local/lib/python3.7/dist-packages/matplotlib/backends/backend_agg.py:183: RuntimeWarning: Glyph 47049 missing from current font.\n",
            "  font.set_text(s, 0, flags=flags)\n"
          ],
          "name": "stderr"
        },
        {
          "output_type": "display_data",
          "data": {
            "image/png": "[encoded data removed]",
            "text/plain": [
              "<Figure size 432x288 with 1 Axes>"
            ]
          },
          "metadata": {
            "tags": [],
            "needs_background": "light"
          }
        }
      ]
    },
    {
      "cell_type": "code",
      "metadata": {
        "colab": {
          "base_uri": "https://localhost:8080/",
          "height": 757
        },
        "id": "qC-dggAuSPhQ",
        "outputId": "7b47295d-7d7b-43a0-fb91-6b431f21d495"
      },
      "source": [
        "sns.distplot(Temp_data, color='black')"
      ],
      "execution_count": null,
      "outputs": [
        {
          "output_type": "stream",
          "text": [
            "/usr/local/lib/python3.7/dist-packages/seaborn/distributions.py:2557: FutureWarning: `distplot` is a deprecated function and will be removed in a future version. Please adapt your code to use either `displot` (a figure-level function with similar flexibility) or `histplot` (an axes-level function for histograms).\n",
            "  warnings.warn(msg, FutureWarning)\n"
          ],
          "name": "stderr"
        },
        {
          "output_type": "execute_result",
          "data": {
            "text/plain": [
              "<matplotlib.axes._subplots.AxesSubplot at 0x7f65f78b3710>"
            ]
          },
          "metadata": {
            "tags": []
          },
          "execution_count": 98
        },
        {
          "output_type": "stream",
          "text": [
            "/usr/local/lib/python3.7/dist-packages/matplotlib/backends/backend_agg.py:214: RuntimeWarning: Glyph 45936 missing from current font.\n",
            "  font.set_text(s, 0.0, flags=flags)\n",
            "/usr/local/lib/python3.7/dist-packages/matplotlib/backends/backend_agg.py:214: RuntimeWarning: Glyph 51060 missing from current font.\n",
            "  font.set_text(s, 0.0, flags=flags)\n",
            "/usr/local/lib/python3.7/dist-packages/matplotlib/backends/backend_agg.py:214: RuntimeWarning: Glyph 53552 missing from current font.\n",
            "  font.set_text(s, 0.0, flags=flags)\n",
            "/usr/local/lib/python3.7/dist-packages/matplotlib/backends/backend_agg.py:214: RuntimeWarning: Glyph 49324 missing from current font.\n",
            "  font.set_text(s, 0.0, flags=flags)\n",
            "/usr/local/lib/python3.7/dist-packages/matplotlib/backends/backend_agg.py:214: RuntimeWarning: Glyph 50857 missing from current font.\n",
            "  font.set_text(s, 0.0, flags=flags)\n",
            "/usr/local/lib/python3.7/dist-packages/matplotlib/backends/backend_agg.py:214: RuntimeWarning: Glyph 47049 missing from current font.\n",
            "  font.set_text(s, 0.0, flags=flags)\n",
            "/usr/local/lib/python3.7/dist-packages/matplotlib/backends/backend_agg.py:183: RuntimeWarning: Glyph 45936 missing from current font.\n",
            "  font.set_text(s, 0, flags=flags)\n",
            "/usr/local/lib/python3.7/dist-packages/matplotlib/backends/backend_agg.py:183: RuntimeWarning: Glyph 51060 missing from current font.\n",
            "  font.set_text(s, 0, flags=flags)\n",
            "/usr/local/lib/python3.7/dist-packages/matplotlib/backends/backend_agg.py:183: RuntimeWarning: Glyph 53552 missing from current font.\n",
            "  font.set_text(s, 0, flags=flags)\n",
            "/usr/local/lib/python3.7/dist-packages/matplotlib/backends/backend_agg.py:183: RuntimeWarning: Glyph 49324 missing from current font.\n",
            "  font.set_text(s, 0, flags=flags)\n",
            "/usr/local/lib/python3.7/dist-packages/matplotlib/backends/backend_agg.py:183: RuntimeWarning: Glyph 50857 missing from current font.\n",
            "  font.set_text(s, 0, flags=flags)\n",
            "/usr/local/lib/python3.7/dist-packages/matplotlib/backends/backend_agg.py:183: RuntimeWarning: Glyph 47049 missing from current font.\n",
            "  font.set_text(s, 0, flags=flags)\n"
          ],
          "name": "stderr"
        },
        {
          "output_type": "display_data",
          "data": {
            "image/png": "[encoded data removed]",
            "text/plain": [
              "<Figure size 432x288 with 1 Axes>"
            ]
          },
          "metadata": {
            "tags": [],
            "needs_background": "light"
          }
        }
      ]
    },
    {
      "cell_type": "code",
      "metadata": {
        "colab": {
          "base_uri": "https://localhost:8080/",
          "height": 282
        },
        "id": "KXnb4U6nSb6k",
        "outputId": "798eb5e5-17e5-4bc7-e4d3-86d06628c260"
      },
      "source": [
        "sns.boxplot(data=Temp_data, color='gray')"
      ],
      "execution_count": null,
      "outputs": [
        {
          "output_type": "execute_result",
          "data": {
            "text/plain": [
              "<matplotlib.axes._subplots.AxesSubplot at 0x7f65e94c1990>"
            ]
          },
          "metadata": {
            "tags": []
          },
          "execution_count": 99
        },
        {
          "output_type": "display_data",
          "data": {
            "image/png": "[encoded data removed]",
            "text/plain": [
              "<Figure size 432x288 with 1 Axes>"
            ]
          },
          "metadata": {
            "tags": [],
            "needs_background": "light"
          }
        }
      ]
    },
    {
      "cell_type": "markdown",
      "metadata": {
        "id": "L8gcdvy2yi_5"
      },
      "source": [
        "# 분석 데이터 변환\n",
        "일일 데이터 사용량을 5개의 군집으 로 나누어 평활한다."
      ]
    },
    {
      "cell_type": "code",
      "metadata": {
        "id": "5m1kYbeP4Nf5"
      },
      "source": [
        "from sklearn.cluster import KMeans"
      ],
      "execution_count": null,
      "outputs": []
    },
    {
      "cell_type": "code",
      "metadata": {
        "id": "L8BzyPmU9ZvE"
      },
      "source": [
        "# 클러스터 생성\n",
        "\n",
        "kms=KMeans(n_clusters=5)"
      ],
      "execution_count": null,
      "outputs": []
    },
    {
      "cell_type": "code",
      "metadata": {
        "id": "kK4h1ssV-6lc"
      },
      "source": [
        "스마트폰데이터사용량=스마트폰.loc[\n",
        "                    (\n",
        "                        스마트폰['데이터사용량'] != 0\n",
        "                    )\n",
        "]"
      ],
      "execution_count": null,
      "outputs": []
    },
    {
      "cell_type": "code",
      "metadata": {
        "colab": {
          "base_uri": "https://localhost:8080/"
        },
        "id": "MSUad9Rr_nZE",
        "outputId": "bbc22720-92b1-4ace-e840-bf7b1cfcdf72"
      },
      "source": [
        "len(스마트폰데이터사용량)"
      ],
      "execution_count": null,
      "outputs": [
        {
          "output_type": "execute_result",
          "data": {
            "text/plain": [
              "22"
            ]
          },
          "metadata": {
            "tags": []
          },
          "execution_count": 72
        }
      ]
    },
    {
      "cell_type": "code",
      "metadata": {
        "colab": {
          "base_uri": "https://localhost:8080/"
        },
        "id": "L22hM_Td9lzF",
        "outputId": "26bbf8f2-7ea1-4177-8c83-5c2d541e0e60"
      },
      "source": [
        "kms.fit(스마트폰데이터사용량)"
      ],
      "execution_count": null,
      "outputs": [
        {
          "output_type": "execute_result",
          "data": {
            "text/plain": [
              "KMeans(algorithm='auto', copy_x=True, init='k-means++', max_iter=300,\n",
              "       n_clusters=5, n_init=10, n_jobs=None, precompute_distances='auto',\n",
              "       random_state=None, tol=0.0001, verbose=0)"
            ]
          },
          "metadata": {
            "tags": []
          },
          "execution_count": 73
        }
      ]
    },
    {
      "cell_type": "code",
      "metadata": {
        "colab": {
          "base_uri": "https://localhost:8080/"
        },
        "id": "u88Hneu7AOYj",
        "outputId": "e5f9e00a-f4e3-43e0-ea21-67d48b9aa8dd"
      },
      "source": [
        "kms"
      ],
      "execution_count": null,
      "outputs": [
        {
          "output_type": "execute_result",
          "data": {
            "text/plain": [
              "KMeans(algorithm='auto', copy_x=True, init='k-means++', max_iter=300,\n",
              "       n_clusters=5, n_init=10, n_jobs=None, precompute_distances='auto',\n",
              "       random_state=None, tol=0.0001, verbose=0)"
            ]
          },
          "metadata": {
            "tags": []
          },
          "execution_count": 74
        }
      ]
    },
    {
      "cell_type": "code",
      "metadata": {
        "colab": {
          "base_uri": "https://localhost:8080/"
        },
        "id": "pmCjpkiFATcw",
        "outputId": "ad2ae2e5-c9fa-4ca1-9fab-643735b0c93d"
      },
      "source": [
        "kms.labels_"
      ],
      "execution_count": null,
      "outputs": [
        {
          "output_type": "execute_result",
          "data": {
            "text/plain": [
              "array([2, 0, 3, 2, 2, 0, 3, 2, 3, 2, 0, 0, 0, 0, 0, 0, 1, 0, 3, 3, 4, 1],\n",
              "      dtype=int32)"
            ]
          },
          "metadata": {
            "tags": []
          },
          "execution_count": 75
        }
      ]
    },
    {
      "cell_type": "code",
      "metadata": {
        "colab": {
          "base_uri": "https://localhost:8080/"
        },
        "id": "Hmz0VyuCAjC6",
        "outputId": "7159fbc3-00ce-4230-e1ed-7e0c1615b663"
      },
      "source": [
        "kms.predict(스마트폰데이터사용량)"
      ],
      "execution_count": null,
      "outputs": [
        {
          "output_type": "execute_result",
          "data": {
            "text/plain": [
              "array([2, 0, 3, 2, 2, 0, 3, 2, 3, 2, 0, 0, 0, 0, 0, 0, 1, 0, 3, 3, 4, 1],\n",
              "      dtype=int32)"
            ]
          },
          "metadata": {
            "tags": []
          },
          "execution_count": 76
        }
      ]
    },
    {
      "cell_type": "code",
      "metadata": {
        "colab": {
          "base_uri": "https://localhost:8080/"
        },
        "id": "dF2YgVaTA9gV",
        "outputId": "c04aea69-9c2b-4312-9d09-649a86628896"
      },
      "source": [
        "center=kms.cluster_centers_\n",
        "print(center)"
      ],
      "execution_count": null,
      "outputs": [
        {
          "output_type": "stream",
          "text": [
            "[[  13.88888889 2015.33333333 2015.44444444    5.44444444   35.33333333\n",
            "   176.66666667   74.88888889   66.66666667   86.66666667  110.        ]\n",
            " [  21.5        2015.5        2015.5           5.25         27.\n",
            "   182.5          79.5         130.          165.          650.        ]\n",
            " [   7.6        2015.4        2015.4           5.4          36.4\n",
            "   175.           72.8          78.          384.          152.        ]\n",
            " [  13.6        2014.8        2014.8           5.           28.6\n",
            "   176.           67.6          90.          120.          360.        ]\n",
            " [  23.         2015.         2015.            5.           26.\n",
            "   179.           80.          180.           30.         1100.        ]]\n"
          ],
          "name": "stdout"
        }
      ]
    },
    {
      "cell_type": "code",
      "metadata": {
        "id": "KgVtEM2RBTRU"
      },
      "source": [
        "스마트폰_cbind=pd.concat([스마트폰, pd.DataFrame(kms.cluster_centers_)], axis=1)"
      ],
      "execution_count": null,
      "outputs": []
    },
    {
      "cell_type": "code",
      "metadata": {
        "colab": {
          "base_uri": "https://localhost:8080/",
          "height": 212
        },
        "id": "PM89zqVAIhl0",
        "outputId": "4122940b-0254-4bbc-82e3-3a0e936fa0a1"
      },
      "source": [
        "스마트폰_cbind.head()"
      ],
      "execution_count": null,
      "outputs": [
        {
          "output_type": "execute_result",
          "data": {
            "text/html": [
              "<div>\n",
              "<style scoped>\n",
              "    .dataframe tbody tr th:only-of-type {\n",
              "        vertical-align: middle;\n",
              "    }\n",
              "\n",
              "    .dataframe tbody tr th {\n",
              "        vertical-align: top;\n",
              "    }\n",
              "\n",
              "    .dataframe thead th {\n",
              "        text-align: right;\n",
              "    }\n",
              "</style>\n",
              "<table border=\"1\" class=\"dataframe\">\n",
              "  <thead>\n",
              "    <tr style=\"text-align: right;\">\n",
              "      <th></th>\n",
              "      <th>순번</th>\n",
              "      <th>출시년도</th>\n",
              "      <th>구매시기</th>\n",
              "      <th>디스플레이</th>\n",
              "      <th>연령</th>\n",
              "      <th>키</th>\n",
              "      <th>몸무게</th>\n",
              "      <th>스마트폰사용시간</th>\n",
              "      <th>컴퓨터사용시간</th>\n",
              "      <th>데이터사용량</th>\n",
              "      <th>0</th>\n",
              "      <th>1</th>\n",
              "      <th>2</th>\n",
              "      <th>3</th>\n",
              "      <th>4</th>\n",
              "      <th>5</th>\n",
              "      <th>6</th>\n",
              "      <th>7</th>\n",
              "      <th>8</th>\n",
              "      <th>9</th>\n",
              "    </tr>\n",
              "  </thead>\n",
              "  <tbody>\n",
              "    <tr>\n",
              "      <th>0</th>\n",
              "      <td>3</td>\n",
              "      <td>2015</td>\n",
              "      <td>2015</td>\n",
              "      <td>5.0</td>\n",
              "      <td>29</td>\n",
              "      <td>183</td>\n",
              "      <td>65</td>\n",
              "      <td>120</td>\n",
              "      <td>300</td>\n",
              "      <td>200</td>\n",
              "      <td>13.888889</td>\n",
              "      <td>2015.333333</td>\n",
              "      <td>2015.444444</td>\n",
              "      <td>5.444444</td>\n",
              "      <td>35.333333</td>\n",
              "      <td>176.666667</td>\n",
              "      <td>74.888889</td>\n",
              "      <td>66.666667</td>\n",
              "      <td>86.666667</td>\n",
              "      <td>110.0</td>\n",
              "    </tr>\n",
              "    <tr>\n",
              "      <th>1</th>\n",
              "      <td>4</td>\n",
              "      <td>2015</td>\n",
              "      <td>2016</td>\n",
              "      <td>5.0</td>\n",
              "      <td>28</td>\n",
              "      <td>172</td>\n",
              "      <td>63</td>\n",
              "      <td>80</td>\n",
              "      <td>60</td>\n",
              "      <td>190</td>\n",
              "      <td>21.500000</td>\n",
              "      <td>2015.500000</td>\n",
              "      <td>2015.500000</td>\n",
              "      <td>5.250000</td>\n",
              "      <td>27.000000</td>\n",
              "      <td>182.500000</td>\n",
              "      <td>79.500000</td>\n",
              "      <td>130.000000</td>\n",
              "      <td>165.000000</td>\n",
              "      <td>650.0</td>\n",
              "    </tr>\n",
              "    <tr>\n",
              "      <th>2</th>\n",
              "      <td>5</td>\n",
              "      <td>2015</td>\n",
              "      <td>2015</td>\n",
              "      <td>5.0</td>\n",
              "      <td>24</td>\n",
              "      <td>179</td>\n",
              "      <td>65</td>\n",
              "      <td>90</td>\n",
              "      <td>30</td>\n",
              "      <td>500</td>\n",
              "      <td>7.600000</td>\n",
              "      <td>2015.400000</td>\n",
              "      <td>2015.400000</td>\n",
              "      <td>5.400000</td>\n",
              "      <td>36.400000</td>\n",
              "      <td>175.000000</td>\n",
              "      <td>72.800000</td>\n",
              "      <td>78.000000</td>\n",
              "      <td>384.000000</td>\n",
              "      <td>152.0</td>\n",
              "    </tr>\n",
              "    <tr>\n",
              "      <th>3</th>\n",
              "      <td>6</td>\n",
              "      <td>2016</td>\n",
              "      <td>2016</td>\n",
              "      <td>5.5</td>\n",
              "      <td>34</td>\n",
              "      <td>175</td>\n",
              "      <td>73</td>\n",
              "      <td>80</td>\n",
              "      <td>480</td>\n",
              "      <td>160</td>\n",
              "      <td>13.600000</td>\n",
              "      <td>2014.800000</td>\n",
              "      <td>2014.800000</td>\n",
              "      <td>5.000000</td>\n",
              "      <td>28.600000</td>\n",
              "      <td>176.000000</td>\n",
              "      <td>67.600000</td>\n",
              "      <td>90.000000</td>\n",
              "      <td>120.000000</td>\n",
              "      <td>360.0</td>\n",
              "    </tr>\n",
              "    <tr>\n",
              "      <th>4</th>\n",
              "      <td>7</td>\n",
              "      <td>2016</td>\n",
              "      <td>2016</td>\n",
              "      <td>6.0</td>\n",
              "      <td>40</td>\n",
              "      <td>169</td>\n",
              "      <td>77</td>\n",
              "      <td>60</td>\n",
              "      <td>300</td>\n",
              "      <td>170</td>\n",
              "      <td>23.000000</td>\n",
              "      <td>2015.000000</td>\n",
              "      <td>2015.000000</td>\n",
              "      <td>5.000000</td>\n",
              "      <td>26.000000</td>\n",
              "      <td>179.000000</td>\n",
              "      <td>80.000000</td>\n",
              "      <td>180.000000</td>\n",
              "      <td>30.000000</td>\n",
              "      <td>1100.0</td>\n",
              "    </tr>\n",
              "  </tbody>\n",
              "</table>\n",
              "</div>"
            ],
            "text/plain": [
              "   순번  출시년도  구매시기  디스플레이  ...          6           7           8       9\n",
              "0   3  2015  2015    5.0  ...  74.888889   66.666667   86.666667   110.0\n",
              "1   4  2015  2016    5.0  ...  79.500000  130.000000  165.000000   650.0\n",
              "2   5  2015  2015    5.0  ...  72.800000   78.000000  384.000000   152.0\n",
              "3   6  2016  2016    5.5  ...  67.600000   90.000000  120.000000   360.0\n",
              "4   7  2016  2016    6.0  ...  80.000000  180.000000   30.000000  1100.0\n",
              "\n",
              "[5 rows x 20 columns]"
            ]
          },
          "metadata": {
            "tags": []
          },
          "execution_count": 89
        }
      ]
    },
    {
      "cell_type": "code",
      "metadata": {
        "id": "nKfnoz-kHNHb"
      },
      "source": [
        "스마트폰_cbind=pd.concat([스마트폰, pd.DataFrame(kms.labels_)], axis=1)"
      ],
      "execution_count": null,
      "outputs": []
    },
    {
      "cell_type": "code",
      "metadata": {
        "colab": {
          "base_uri": "https://localhost:8080/",
          "height": 195
        },
        "id": "nmkqhNn0IlJP",
        "outputId": "4b433c4e-3f86-4dcc-9bfc-09f039ec9fc7"
      },
      "source": [
        "스마트폰_cbind.head()"
      ],
      "execution_count": null,
      "outputs": [
        {
          "output_type": "execute_result",
          "data": {
            "text/html": [
              "<div>\n",
              "<style scoped>\n",
              "    .dataframe tbody tr th:only-of-type {\n",
              "        vertical-align: middle;\n",
              "    }\n",
              "\n",
              "    .dataframe tbody tr th {\n",
              "        vertical-align: top;\n",
              "    }\n",
              "\n",
              "    .dataframe thead th {\n",
              "        text-align: right;\n",
              "    }\n",
              "</style>\n",
              "<table border=\"1\" class=\"dataframe\">\n",
              "  <thead>\n",
              "    <tr style=\"text-align: right;\">\n",
              "      <th></th>\n",
              "      <th>순번</th>\n",
              "      <th>출시년도</th>\n",
              "      <th>구매시기</th>\n",
              "      <th>디스플레이</th>\n",
              "      <th>연령</th>\n",
              "      <th>키</th>\n",
              "      <th>몸무게</th>\n",
              "      <th>스마트폰사용시간</th>\n",
              "      <th>컴퓨터사용시간</th>\n",
              "      <th>데이터사용량</th>\n",
              "      <th>0</th>\n",
              "    </tr>\n",
              "  </thead>\n",
              "  <tbody>\n",
              "    <tr>\n",
              "      <th>0</th>\n",
              "      <td>3</td>\n",
              "      <td>2015</td>\n",
              "      <td>2015</td>\n",
              "      <td>5.0</td>\n",
              "      <td>29</td>\n",
              "      <td>183</td>\n",
              "      <td>65</td>\n",
              "      <td>120</td>\n",
              "      <td>300</td>\n",
              "      <td>200</td>\n",
              "      <td>2</td>\n",
              "    </tr>\n",
              "    <tr>\n",
              "      <th>1</th>\n",
              "      <td>4</td>\n",
              "      <td>2015</td>\n",
              "      <td>2016</td>\n",
              "      <td>5.0</td>\n",
              "      <td>28</td>\n",
              "      <td>172</td>\n",
              "      <td>63</td>\n",
              "      <td>80</td>\n",
              "      <td>60</td>\n",
              "      <td>190</td>\n",
              "      <td>0</td>\n",
              "    </tr>\n",
              "    <tr>\n",
              "      <th>2</th>\n",
              "      <td>5</td>\n",
              "      <td>2015</td>\n",
              "      <td>2015</td>\n",
              "      <td>5.0</td>\n",
              "      <td>24</td>\n",
              "      <td>179</td>\n",
              "      <td>65</td>\n",
              "      <td>90</td>\n",
              "      <td>30</td>\n",
              "      <td>500</td>\n",
              "      <td>3</td>\n",
              "    </tr>\n",
              "    <tr>\n",
              "      <th>3</th>\n",
              "      <td>6</td>\n",
              "      <td>2016</td>\n",
              "      <td>2016</td>\n",
              "      <td>5.5</td>\n",
              "      <td>34</td>\n",
              "      <td>175</td>\n",
              "      <td>73</td>\n",
              "      <td>80</td>\n",
              "      <td>480</td>\n",
              "      <td>160</td>\n",
              "      <td>2</td>\n",
              "    </tr>\n",
              "    <tr>\n",
              "      <th>4</th>\n",
              "      <td>7</td>\n",
              "      <td>2016</td>\n",
              "      <td>2016</td>\n",
              "      <td>6.0</td>\n",
              "      <td>40</td>\n",
              "      <td>169</td>\n",
              "      <td>77</td>\n",
              "      <td>60</td>\n",
              "      <td>300</td>\n",
              "      <td>170</td>\n",
              "      <td>2</td>\n",
              "    </tr>\n",
              "  </tbody>\n",
              "</table>\n",
              "</div>"
            ],
            "text/plain": [
              "   순번  출시년도  구매시기  디스플레이  연령    키  몸무게  스마트폰사용시간  컴퓨터사용시간  데이터사용량  0\n",
              "0   3  2015  2015    5.0  29  183   65       120      300     200  2\n",
              "1   4  2015  2016    5.0  28  172   63        80       60     190  0\n",
              "2   5  2015  2015    5.0  24  179   65        90       30     500  3\n",
              "3   6  2016  2016    5.5  34  175   73        80      480     160  2\n",
              "4   7  2016  2016    6.0  40  169   77        60      300     170  2"
            ]
          },
          "metadata": {
            "tags": []
          },
          "execution_count": 91
        }
      ]
    },
    {
      "cell_type": "code",
      "metadata": {
        "id": "HLiSjL3wEJbT"
      },
      "source": [
        "스마트폰_cbind['cluster'] = kms.labels_"
      ],
      "execution_count": null,
      "outputs": []
    },
    {
      "cell_type": "code",
      "metadata": {
        "colab": {
          "base_uri": "https://localhost:8080/",
          "height": 195
        },
        "id": "IUWFH8qYClQd",
        "outputId": "12dd4ced-636b-4070-fa69-a748b202e1c3"
      },
      "source": [
        "스마트폰_cbind.head()"
      ],
      "execution_count": null,
      "outputs": [
        {
          "output_type": "execute_result",
          "data": {
            "text/html": [
              "<div>\n",
              "<style scoped>\n",
              "    .dataframe tbody tr th:only-of-type {\n",
              "        vertical-align: middle;\n",
              "    }\n",
              "\n",
              "    .dataframe tbody tr th {\n",
              "        vertical-align: top;\n",
              "    }\n",
              "\n",
              "    .dataframe thead th {\n",
              "        text-align: right;\n",
              "    }\n",
              "</style>\n",
              "<table border=\"1\" class=\"dataframe\">\n",
              "  <thead>\n",
              "    <tr style=\"text-align: right;\">\n",
              "      <th></th>\n",
              "      <th>순번</th>\n",
              "      <th>출시년도</th>\n",
              "      <th>구매시기</th>\n",
              "      <th>디스플레이</th>\n",
              "      <th>연령</th>\n",
              "      <th>키</th>\n",
              "      <th>몸무게</th>\n",
              "      <th>스마트폰사용시간</th>\n",
              "      <th>컴퓨터사용시간</th>\n",
              "      <th>데이터사용량</th>\n",
              "      <th>0</th>\n",
              "      <th>cluster</th>\n",
              "    </tr>\n",
              "  </thead>\n",
              "  <tbody>\n",
              "    <tr>\n",
              "      <th>0</th>\n",
              "      <td>3</td>\n",
              "      <td>2015</td>\n",
              "      <td>2015</td>\n",
              "      <td>5.0</td>\n",
              "      <td>29</td>\n",
              "      <td>183</td>\n",
              "      <td>65</td>\n",
              "      <td>120</td>\n",
              "      <td>300</td>\n",
              "      <td>200</td>\n",
              "      <td>2</td>\n",
              "      <td>2</td>\n",
              "    </tr>\n",
              "    <tr>\n",
              "      <th>1</th>\n",
              "      <td>4</td>\n",
              "      <td>2015</td>\n",
              "      <td>2016</td>\n",
              "      <td>5.0</td>\n",
              "      <td>28</td>\n",
              "      <td>172</td>\n",
              "      <td>63</td>\n",
              "      <td>80</td>\n",
              "      <td>60</td>\n",
              "      <td>190</td>\n",
              "      <td>0</td>\n",
              "      <td>0</td>\n",
              "    </tr>\n",
              "    <tr>\n",
              "      <th>2</th>\n",
              "      <td>5</td>\n",
              "      <td>2015</td>\n",
              "      <td>2015</td>\n",
              "      <td>5.0</td>\n",
              "      <td>24</td>\n",
              "      <td>179</td>\n",
              "      <td>65</td>\n",
              "      <td>90</td>\n",
              "      <td>30</td>\n",
              "      <td>500</td>\n",
              "      <td>3</td>\n",
              "      <td>3</td>\n",
              "    </tr>\n",
              "    <tr>\n",
              "      <th>3</th>\n",
              "      <td>6</td>\n",
              "      <td>2016</td>\n",
              "      <td>2016</td>\n",
              "      <td>5.5</td>\n",
              "      <td>34</td>\n",
              "      <td>175</td>\n",
              "      <td>73</td>\n",
              "      <td>80</td>\n",
              "      <td>480</td>\n",
              "      <td>160</td>\n",
              "      <td>2</td>\n",
              "      <td>2</td>\n",
              "    </tr>\n",
              "    <tr>\n",
              "      <th>4</th>\n",
              "      <td>7</td>\n",
              "      <td>2016</td>\n",
              "      <td>2016</td>\n",
              "      <td>6.0</td>\n",
              "      <td>40</td>\n",
              "      <td>169</td>\n",
              "      <td>77</td>\n",
              "      <td>60</td>\n",
              "      <td>300</td>\n",
              "      <td>170</td>\n",
              "      <td>2</td>\n",
              "      <td>2</td>\n",
              "    </tr>\n",
              "  </tbody>\n",
              "</table>\n",
              "</div>"
            ],
            "text/plain": [
              "   순번  출시년도  구매시기  디스플레이  연령    키  몸무게  스마트폰사용시간  컴퓨터사용시간  데이터사용량  0  cluster\n",
              "0   3  2015  2015    5.0  29  183   65       120      300     200  2        2\n",
              "1   4  2015  2016    5.0  28  172   63        80       60     190  0        0\n",
              "2   5  2015  2015    5.0  24  179   65        90       30     500  3        3\n",
              "3   6  2016  2016    5.5  34  175   73        80      480     160  2        2\n",
              "4   7  2016  2016    6.0  40  169   77        60      300     170  2        2"
            ]
          },
          "metadata": {
            "tags": []
          },
          "execution_count": 93
        }
      ]
    },
    {
      "cell_type": "code",
      "metadata": {
        "colab": {
          "base_uri": "https://localhost:8080/",
          "height": 1000
        },
        "id": "8TgiPhLqJxWW",
        "outputId": "06f07d04-439e-401a-b50a-282ce0007da6"
      },
      "source": [
        "# 위의 데이터를 시각화처리( seaborn 사용) - 각 클러스터별 다른 색으로 , 150개의 사이즈로 출력\n",
        "import seaborn as sns\n",
        "\n",
        "sns.lmplot( '연령' , '데이터사용량', data=스마트폰_cbind, fit_reg=False, scatter_kws={\"s\":150},hue=\"cluster\" )\n",
        "plt.title('K-Means exam')"
      ],
      "execution_count": null,
      "outputs": [
        {
          "output_type": "stream",
          "text": [
            "/usr/local/lib/python3.7/dist-packages/seaborn/_decorators.py:43: FutureWarning: Pass the following variables as keyword args: x, y. From version 0.12, the only valid positional argument will be `data`, and passing other arguments without an explicit keyword will result in an error or misinterpretation.\n",
            "  FutureWarning\n",
            "/usr/local/lib/python3.7/dist-packages/matplotlib/backends/backend_agg.py:214: RuntimeWarning: Glyph 50672 missing from current font.\n",
            "  font.set_text(s, 0.0, flags=flags)\n",
            "/usr/local/lib/python3.7/dist-packages/matplotlib/backends/backend_agg.py:214: RuntimeWarning: Glyph 47161 missing from current font.\n",
            "  font.set_text(s, 0.0, flags=flags)\n",
            "/usr/local/lib/python3.7/dist-packages/matplotlib/backends/backend_agg.py:183: RuntimeWarning: Glyph 50672 missing from current font.\n",
            "  font.set_text(s, 0, flags=flags)\n",
            "/usr/local/lib/python3.7/dist-packages/matplotlib/backends/backend_agg.py:183: RuntimeWarning: Glyph 47161 missing from current font.\n",
            "  font.set_text(s, 0, flags=flags)\n",
            "/usr/local/lib/python3.7/dist-packages/matplotlib/backends/backend_agg.py:214: RuntimeWarning: Glyph 45936 missing from current font.\n",
            "  font.set_text(s, 0.0, flags=flags)\n",
            "/usr/local/lib/python3.7/dist-packages/matplotlib/backends/backend_agg.py:214: RuntimeWarning: Glyph 51060 missing from current font.\n",
            "  font.set_text(s, 0.0, flags=flags)\n",
            "/usr/local/lib/python3.7/dist-packages/matplotlib/backends/backend_agg.py:214: RuntimeWarning: Glyph 53552 missing from current font.\n",
            "  font.set_text(s, 0.0, flags=flags)\n",
            "/usr/local/lib/python3.7/dist-packages/matplotlib/backends/backend_agg.py:214: RuntimeWarning: Glyph 49324 missing from current font.\n",
            "  font.set_text(s, 0.0, flags=flags)\n",
            "/usr/local/lib/python3.7/dist-packages/matplotlib/backends/backend_agg.py:214: RuntimeWarning: Glyph 50857 missing from current font.\n",
            "  font.set_text(s, 0.0, flags=flags)\n",
            "/usr/local/lib/python3.7/dist-packages/matplotlib/backends/backend_agg.py:214: RuntimeWarning: Glyph 47049 missing from current font.\n",
            "  font.set_text(s, 0.0, flags=flags)\n",
            "/usr/local/lib/python3.7/dist-packages/matplotlib/backends/backend_agg.py:183: RuntimeWarning: Glyph 45936 missing from current font.\n",
            "  font.set_text(s, 0, flags=flags)\n",
            "/usr/local/lib/python3.7/dist-packages/matplotlib/backends/backend_agg.py:183: RuntimeWarning: Glyph 51060 missing from current font.\n",
            "  font.set_text(s, 0, flags=flags)\n",
            "/usr/local/lib/python3.7/dist-packages/matplotlib/backends/backend_agg.py:183: RuntimeWarning: Glyph 53552 missing from current font.\n",
            "  font.set_text(s, 0, flags=flags)\n",
            "/usr/local/lib/python3.7/dist-packages/matplotlib/backends/backend_agg.py:183: RuntimeWarning: Glyph 49324 missing from current font.\n",
            "  font.set_text(s, 0, flags=flags)\n",
            "/usr/local/lib/python3.7/dist-packages/matplotlib/backends/backend_agg.py:183: RuntimeWarning: Glyph 50857 missing from current font.\n",
            "  font.set_text(s, 0, flags=flags)\n",
            "/usr/local/lib/python3.7/dist-packages/matplotlib/backends/backend_agg.py:183: RuntimeWarning: Glyph 47049 missing from current font.\n",
            "  font.set_text(s, 0, flags=flags)\n"
          ],
          "name": "stderr"
        },
        {
          "output_type": "execute_result",
          "data": {
            "text/plain": [
              "Text(0.5, 1.0, 'K-Means exam')"
            ]
          },
          "metadata": {
            "tags": []
          },
          "execution_count": 98
        },
        {
          "output_type": "display_data",
          "data": {
            "image/png": "[encoded data removed]",
            "text/plain": [
              "<Figure size 402.375x360 with 1 Axes>"
            ]
          },
          "metadata": {
            "tags": [],
            "needs_background": "light"
          }
        }
      ]
    },
    {
      "cell_type": "code",
      "metadata": {
        "id": "v0rVqeHiIspd"
      },
      "source": [
        "스마트폰_cbind.to_csv(\"스마트폰_cbind.csv\")"
      ],
      "execution_count": null,
      "outputs": []
    },
    {
      "cell_type": "markdown",
      "metadata": {
        "id": "kjMoOutyJMJq"
      },
      "source": [
        "## 데이터 정제 절차 수행하기"
      ]
    },
    {
      "cell_type": "markdown",
      "metadata": {
        "id": "OSNk9-n1OwkH"
      },
      "source": [
        "예시 데이터 집합에서 3개의 변수값을 제거해 결측치를 지닌 데이터 집합을 만들고 이를 정제한다."
      ]
    },
    {
      "cell_type": "code",
      "metadata": {
        "id": "9Rc0Dq1ePkwQ"
      },
      "source": [
        "스마트폰=pd.read_csv('스마트폰.csv')"
      ],
      "execution_count": null,
      "outputs": []
    },
    {
      "cell_type": "code",
      "metadata": {
        "colab": {
          "base_uri": "https://localhost:8080/",
          "height": 195
        },
        "id": "v7U6XJBtJQSg",
        "outputId": "c411bbc0-8b26-4b5d-e95b-f17d3d69a1c6"
      },
      "source": [
        "스마트폰.head()"
      ],
      "execution_count": null,
      "outputs": [
        {
          "output_type": "execute_result",
          "data": {
            "text/html": [
              "<div>\n",
              "<style scoped>\n",
              "    .dataframe tbody tr th:only-of-type {\n",
              "        vertical-align: middle;\n",
              "    }\n",
              "\n",
              "    .dataframe tbody tr th {\n",
              "        vertical-align: top;\n",
              "    }\n",
              "\n",
              "    .dataframe thead th {\n",
              "        text-align: right;\n",
              "    }\n",
              "</style>\n",
              "<table border=\"1\" class=\"dataframe\">\n",
              "  <thead>\n",
              "    <tr style=\"text-align: right;\">\n",
              "      <th></th>\n",
              "      <th>순번</th>\n",
              "      <th>출시년도</th>\n",
              "      <th>구매시기</th>\n",
              "      <th>디스플레이</th>\n",
              "      <th>연령</th>\n",
              "      <th>키</th>\n",
              "      <th>몸무게</th>\n",
              "      <th>스마트폰사용시간</th>\n",
              "      <th>컴퓨터사용시간</th>\n",
              "      <th>데이터사용량</th>\n",
              "    </tr>\n",
              "  </thead>\n",
              "  <tbody>\n",
              "    <tr>\n",
              "      <th>0</th>\n",
              "      <td>3</td>\n",
              "      <td>2015</td>\n",
              "      <td>2015</td>\n",
              "      <td>5.0</td>\n",
              "      <td>29</td>\n",
              "      <td>183</td>\n",
              "      <td>65</td>\n",
              "      <td>120</td>\n",
              "      <td>300</td>\n",
              "      <td>200</td>\n",
              "    </tr>\n",
              "    <tr>\n",
              "      <th>1</th>\n",
              "      <td>4</td>\n",
              "      <td>2015</td>\n",
              "      <td>2016</td>\n",
              "      <td>5.0</td>\n",
              "      <td>28</td>\n",
              "      <td>172</td>\n",
              "      <td>63</td>\n",
              "      <td>80</td>\n",
              "      <td>60</td>\n",
              "      <td>190</td>\n",
              "    </tr>\n",
              "    <tr>\n",
              "      <th>2</th>\n",
              "      <td>5</td>\n",
              "      <td>2015</td>\n",
              "      <td>2015</td>\n",
              "      <td>5.0</td>\n",
              "      <td>24</td>\n",
              "      <td>179</td>\n",
              "      <td>65</td>\n",
              "      <td>90</td>\n",
              "      <td>30</td>\n",
              "      <td>500</td>\n",
              "    </tr>\n",
              "    <tr>\n",
              "      <th>3</th>\n",
              "      <td>6</td>\n",
              "      <td>2016</td>\n",
              "      <td>2016</td>\n",
              "      <td>5.5</td>\n",
              "      <td>34</td>\n",
              "      <td>175</td>\n",
              "      <td>73</td>\n",
              "      <td>80</td>\n",
              "      <td>480</td>\n",
              "      <td>160</td>\n",
              "    </tr>\n",
              "    <tr>\n",
              "      <th>4</th>\n",
              "      <td>7</td>\n",
              "      <td>2016</td>\n",
              "      <td>2016</td>\n",
              "      <td>6.0</td>\n",
              "      <td>40</td>\n",
              "      <td>169</td>\n",
              "      <td>77</td>\n",
              "      <td>60</td>\n",
              "      <td>300</td>\n",
              "      <td>170</td>\n",
              "    </tr>\n",
              "  </tbody>\n",
              "</table>\n",
              "</div>"
            ],
            "text/plain": [
              "   순번  출시년도  구매시기  디스플레이  연령    키  몸무게  스마트폰사용시간  컴퓨터사용시간  데이터사용량\n",
              "0   3  2015  2015    5.0  29  183   65       120      300     200\n",
              "1   4  2015  2016    5.0  28  172   63        80       60     190\n",
              "2   5  2015  2015    5.0  24  179   65        90       30     500\n",
              "3   6  2016  2016    5.5  34  175   73        80      480     160\n",
              "4   7  2016  2016    6.0  40  169   77        60      300     170"
            ]
          },
          "metadata": {
            "tags": []
          },
          "execution_count": 95
        }
      ]
    },
    {
      "cell_type": "markdown",
      "metadata": {
        "id": "F_iH4wKrOM_k"
      },
      "source": [
        "### 결측치 조회"
      ]
    },
    {
      "cell_type": "code",
      "metadata": {
        "colab": {
          "base_uri": "https://localhost:8080/",
          "height": 47
        },
        "id": "XNGKAjZpJjgg",
        "outputId": "c84e4ac8-7c1b-4ac8-ec40-21e17dfe819d"
      },
      "source": [
        "스마트폰[스마트폰['데이터사용량'].isnull()].head(5)"
      ],
      "execution_count": null,
      "outputs": [
        {
          "output_type": "execute_result",
          "data": {
            "text/html": [
              "<div>\n",
              "<style scoped>\n",
              "    .dataframe tbody tr th:only-of-type {\n",
              "        vertical-align: middle;\n",
              "    }\n",
              "\n",
              "    .dataframe tbody tr th {\n",
              "        vertical-align: top;\n",
              "    }\n",
              "\n",
              "    .dataframe thead th {\n",
              "        text-align: right;\n",
              "    }\n",
              "</style>\n",
              "<table border=\"1\" class=\"dataframe\">\n",
              "  <thead>\n",
              "    <tr style=\"text-align: right;\">\n",
              "      <th></th>\n",
              "      <th>순번</th>\n",
              "      <th>출시년도</th>\n",
              "      <th>구매시기</th>\n",
              "      <th>디스플레이</th>\n",
              "      <th>연령</th>\n",
              "      <th>키</th>\n",
              "      <th>몸무게</th>\n",
              "      <th>스마트폰사용시간</th>\n",
              "      <th>컴퓨터사용시간</th>\n",
              "      <th>데이터사용량</th>\n",
              "    </tr>\n",
              "  </thead>\n",
              "  <tbody>\n",
              "  </tbody>\n",
              "</table>\n",
              "</div>"
            ],
            "text/plain": [
              "Empty DataFrame\n",
              "Columns: [순번, 출시년도, 구매시기, 디스플레이, 연령, 키, 몸무게, 스마트폰사용시간, 컴퓨터사용시간, 데이터사용량]\n",
              "Index: []"
            ]
          },
          "metadata": {
            "tags": []
          },
          "execution_count": 107
        }
      ]
    },
    {
      "cell_type": "code",
      "metadata": {
        "colab": {
          "base_uri": "https://localhost:8080/",
          "height": 195
        },
        "id": "69aoKHGeOcVK",
        "outputId": "12b91351-cedc-4d71-8583-c0e46998e57e"
      },
      "source": [
        "스마트폰.isnull().head(5)"
      ],
      "execution_count": null,
      "outputs": [
        {
          "output_type": "execute_result",
          "data": {
            "text/html": [
              "<div>\n",
              "<style scoped>\n",
              "    .dataframe tbody tr th:only-of-type {\n",
              "        vertical-align: middle;\n",
              "    }\n",
              "\n",
              "    .dataframe tbody tr th {\n",
              "        vertical-align: top;\n",
              "    }\n",
              "\n",
              "    .dataframe thead th {\n",
              "        text-align: right;\n",
              "    }\n",
              "</style>\n",
              "<table border=\"1\" class=\"dataframe\">\n",
              "  <thead>\n",
              "    <tr style=\"text-align: right;\">\n",
              "      <th></th>\n",
              "      <th>순번</th>\n",
              "      <th>출시년도</th>\n",
              "      <th>구매시기</th>\n",
              "      <th>디스플레이</th>\n",
              "      <th>연령</th>\n",
              "      <th>키</th>\n",
              "      <th>몸무게</th>\n",
              "      <th>스마트폰사용시간</th>\n",
              "      <th>컴퓨터사용시간</th>\n",
              "      <th>데이터사용량</th>\n",
              "    </tr>\n",
              "  </thead>\n",
              "  <tbody>\n",
              "    <tr>\n",
              "      <th>0</th>\n",
              "      <td>False</td>\n",
              "      <td>False</td>\n",
              "      <td>False</td>\n",
              "      <td>False</td>\n",
              "      <td>False</td>\n",
              "      <td>False</td>\n",
              "      <td>False</td>\n",
              "      <td>False</td>\n",
              "      <td>False</td>\n",
              "      <td>False</td>\n",
              "    </tr>\n",
              "    <tr>\n",
              "      <th>1</th>\n",
              "      <td>False</td>\n",
              "      <td>False</td>\n",
              "      <td>False</td>\n",
              "      <td>False</td>\n",
              "      <td>False</td>\n",
              "      <td>False</td>\n",
              "      <td>False</td>\n",
              "      <td>False</td>\n",
              "      <td>False</td>\n",
              "      <td>False</td>\n",
              "    </tr>\n",
              "    <tr>\n",
              "      <th>2</th>\n",
              "      <td>False</td>\n",
              "      <td>False</td>\n",
              "      <td>False</td>\n",
              "      <td>False</td>\n",
              "      <td>False</td>\n",
              "      <td>False</td>\n",
              "      <td>False</td>\n",
              "      <td>False</td>\n",
              "      <td>False</td>\n",
              "      <td>False</td>\n",
              "    </tr>\n",
              "    <tr>\n",
              "      <th>3</th>\n",
              "      <td>False</td>\n",
              "      <td>False</td>\n",
              "      <td>False</td>\n",
              "      <td>False</td>\n",
              "      <td>False</td>\n",
              "      <td>False</td>\n",
              "      <td>False</td>\n",
              "      <td>False</td>\n",
              "      <td>False</td>\n",
              "      <td>False</td>\n",
              "    </tr>\n",
              "    <tr>\n",
              "      <th>4</th>\n",
              "      <td>False</td>\n",
              "      <td>False</td>\n",
              "      <td>False</td>\n",
              "      <td>False</td>\n",
              "      <td>False</td>\n",
              "      <td>False</td>\n",
              "      <td>False</td>\n",
              "      <td>False</td>\n",
              "      <td>False</td>\n",
              "      <td>False</td>\n",
              "    </tr>\n",
              "  </tbody>\n",
              "</table>\n",
              "</div>"
            ],
            "text/plain": [
              "      순번   출시년도   구매시기  디스플레이     연령      키    몸무게  스마트폰사용시간  컴퓨터사용시간  데이터사용량\n",
              "0  False  False  False  False  False  False  False     False    False   False\n",
              "1  False  False  False  False  False  False  False     False    False   False\n",
              "2  False  False  False  False  False  False  False     False    False   False\n",
              "3  False  False  False  False  False  False  False     False    False   False\n",
              "4  False  False  False  False  False  False  False     False    False   False"
            ]
          },
          "metadata": {
            "tags": []
          },
          "execution_count": 109
        }
      ]
    },
    {
      "cell_type": "markdown",
      "metadata": {
        "id": "z1JW6PBoPA8p"
      },
      "source": [
        "## # 샘플제거-결측치 제거"
      ]
    }
  ]
}