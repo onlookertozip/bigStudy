{
 "cells": [
  {
   "cell_type": "markdown",
   "metadata": {},
   "source": [
    "# 미니프로젝트 개요-Case1"
   ]
  },
  {
   "cell_type": "markdown",
   "metadata": {},
   "source": [
    "#### 작성자\n",
    "#### 작성일"
   ]
  },
  {
   "cell_type": "markdown",
   "metadata": {},
   "source": [
    "그래픽 한글 처리"
   ]
  },
  {
   "cell_type": "code",
   "execution_count": null,
   "metadata": {},
   "outputs": [],
   "source": [
    "!apt-get install -y fonts-nanum"
   ]
  },
  {
   "cell_type": "code",
   "execution_count": null,
   "metadata": {},
   "outputs": [],
   "source": [
    "!fc-cache -fv"
   ]
  },
  {
   "cell_type": "code",
   "execution_count": null,
   "metadata": {},
   "outputs": [],
   "source": [
    "!rm ~/.cache/matplotlib -rf"
   ]
  },
  {
   "cell_type": "code",
   "execution_count": 95,
   "metadata": {},
   "outputs": [],
   "source": [
    "import matplotlib.pyplot as plt\n",
    "plt.rc('font', family='NanumBarunGothic') "
   ]
  },
  {
   "cell_type": "markdown",
   "metadata": {},
   "source": [
    "## 1.Gathering Data"
   ]
  },
  {
   "cell_type": "markdown",
   "metadata": {},
   "source": [
    "### https://pythondojang.bitbucket.io/weather/observation/currentweather.html 에서 도시별 현재날씨 확인하기"
   ]
  },
  {
   "cell_type": "code",
   "execution_count": 61,
   "metadata": {},
   "outputs": [
    {
     "data": {
      "text/plain": [
       "[['서울', '맑음', '25.6', '30'],\n",
       " ['백령도', '구름조금', '18.4', '62'],\n",
       " ['인천', '맑음', '20.8', '54'],\n",
       " ['수원', '구름조금', '25.0', '41'],\n",
       " ['동두천', '\\xa0', '24.9', '34'],\n",
       " ['파주', '\\xa0', '25.1', '39'],\n",
       " ['강화', '\\xa0', '20.0', '56'],\n",
       " ['양평', '\\xa0', '25.5', '32'],\n",
       " ['이천', '\\xa0', '25.6', '28'],\n",
       " ['북춘천', '구름조금', '24.6', '36'],\n",
       " ['북강릉', '맑음', '19.9', '56'],\n",
       " ['울릉도', '구름많음', '16.8', '77'],\n",
       " ['속초', '\\xa0', '19.1', '75'],\n",
       " ['철원', '\\xa0', '23.9', '37'],\n",
       " ['대관령', '\\xa0', '17.9', '49'],\n",
       " ['춘천', '\\xa0', '25.7', '39'],\n",
       " ['강릉', '\\xa0', '22.7', '41'],\n",
       " ['동해', '\\xa0', '19.5', '77'],\n",
       " ['원주', '\\xa0', '23.4', '36'],\n",
       " ['영월', '\\xa0', '24.2', '34'],\n",
       " ['인제', '\\xa0', '24.3', '31'],\n",
       " ['홍천', '\\xa0', '25.4', '25'],\n",
       " ['태백', '\\xa0', '19.6', '43'],\n",
       " ['정선군', '\\xa0', '23.0', '32'],\n",
       " ['서산', '맑음', '23.6', '49'],\n",
       " ['청주', '구름조금', '24.3', '33'],\n",
       " ['대전', '맑음', '25.1', '37'],\n",
       " ['충주', '\\xa0', '24.4', '32'],\n",
       " ['추풍령', '\\xa0', '23.0', '35'],\n",
       " ['홍성(예)', '\\xa0', '24.3', '46'],\n",
       " ['제천', '\\xa0', '24.2', '32'],\n",
       " ['보은', '\\xa0', '23.7', '28'],\n",
       " ['천안', '\\xa0', '23.5', '35'],\n",
       " ['보령', '\\xa0', '21.4', '56'],\n",
       " ['부여', '\\xa0', '23.9', '37'],\n",
       " ['금산', '\\xa0', '23.7', '30'],\n",
       " ['전주', '구름조금', '24.9', '44'],\n",
       " ['광주', '구름조금', '24.0', '35'],\n",
       " ['목포', '맑음', '22.8', '51'],\n",
       " ['여수', '맑음', '22.8', '49'],\n",
       " ['흑산도', '박무', '19.2', '93'],\n",
       " ['군산', '\\xa0', '21.8', '55'],\n",
       " ['완도', '\\xa0', '23.2', '45'],\n",
       " ['고창', '\\xa0', '22.7', '53'],\n",
       " ['순천', '\\xa0', '22.5', '40'],\n",
       " ['진도(첨찰산)', '\\xa0', '22.2', '48'],\n",
       " ['부안', '\\xa0', '22.9', '44'],\n",
       " ['임실', '\\xa0', '22.8', '40'],\n",
       " ['정읍', '\\xa0', '23.8', '47'],\n",
       " ['남원', '\\xa0', '23.8', '35'],\n",
       " ['장수', '\\xa0', '22.0', '33'],\n",
       " ['고창군', '\\xa0', '23.7', '48'],\n",
       " ['영광군', '\\xa0', '22.4', '40'],\n",
       " ['순창군', '\\xa0', '23.5', '38'],\n",
       " ['보성군', '\\xa0', '23.7', '34'],\n",
       " ['강진군', '\\xa0', '24.1', '33'],\n",
       " ['장흥', '\\xa0', '25.5', '33'],\n",
       " ['해남', '\\xa0', '24.6', '40'],\n",
       " ['고흥', '\\xa0', '24.4', '34'],\n",
       " ['광양시', '\\xa0', '24.6', '43'],\n",
       " ['진도군', '\\xa0', '21.9', '58'],\n",
       " ['제주', '맑음', '20.7', '60'],\n",
       " ['고산', '\\xa0', '19.1', '74'],\n",
       " ['성산', '\\xa0', '23.1', '33'],\n",
       " ['서귀포', '\\xa0', '24.0', '43'],\n",
       " ['안동', '구름많음', '25.0', '32'],\n",
       " ['포항', '구름많음', '19.0', '83'],\n",
       " ['대구', '구름많음', '25.7', '31'],\n",
       " ['울산', '뇌전 끝', '19.7', '70'],\n",
       " ['창원', '구름조금', '20.6', '63'],\n",
       " ['부산', '구름많음', '20.2', '66'],\n",
       " ['울진', '\\xa0', '17.6', '84'],\n",
       " ['상주', '\\xa0', '25.0', '32'],\n",
       " ['통영', '\\xa0', '20.0', '71'],\n",
       " ['진주', '\\xa0', '23.8', '30'],\n",
       " ['김해시', '\\xa0', '21.9', '60'],\n",
       " ['북창원', '\\xa0', '22.8', '50'],\n",
       " ['양산시', '\\xa0', '21.4', '63'],\n",
       " ['의령군', '\\xa0', '25.1', '40'],\n",
       " ['함양군', '\\xa0', '23.3', '38'],\n",
       " ['봉화', '\\xa0', '22.0', '38'],\n",
       " ['영주', '\\xa0', '23.0', '36'],\n",
       " ['문경', '\\xa0', '25.5', '26'],\n",
       " ['청송군', '\\xa0', '17.9', '71'],\n",
       " ['영덕', '\\xa0', '19.4', '57'],\n",
       " ['의성', '\\xa0', '25.7', '25'],\n",
       " ['구미', '\\xa0', '25.7', '32'],\n",
       " ['영천', '\\xa0', '21.8', '47'],\n",
       " ['경주시', '\\xa0', '23.8', '49'],\n",
       " ['거창', '\\xa0', '22.7', '38'],\n",
       " ['합천', '\\xa0', '25.1', '32'],\n",
       " ['밀양', '\\xa0', '24.7', '34'],\n",
       " ['산청', '\\xa0', '24.8', '41'],\n",
       " ['거제', '\\xa0', '23.1', '57'],\n",
       " ['남해', '\\xa0', '24.5', '40']]"
      ]
     },
     "execution_count": 61,
     "metadata": {},
     "output_type": "execute_result"
    }
   ],
   "source": [
    "import requests                  # 웹 페이지의 HTML을 가져오는 모듈\n",
    "from bs4 import BeautifulSoup    # HTML을 파싱하는 모듈\n",
    " \n",
    "# 웹 페이지를 가져온 뒤 BeautifulSoup 객체로 만듦\n",
    "response = requests.get('https://pythondojang.bitbucket.io/weather/observation/currentweather.html')\n",
    "soup = BeautifulSoup(response.content, 'html.parser')\n",
    " \n",
    "table = soup.find('table', { 'class': 'table_develop3' })    # <table class=\"table_develop3\">을 찾음\n",
    "data = []                            # 데이터를 저장할 리스트 생성\n",
    "for tr in table.find_all('tr'):      # 모든 <tr> 태그를 찾아서 반복(각 지점의 데이터를 가져옴)\n",
    "    tds = list(tr.find_all('td'))    # 모든 <td> 태그를 찾아서 리스트로 만듦\n",
    "                                     # (각 날씨 값을 리스트로 만듦)\n",
    "    for td in tds:                   # <td> 태그 리스트 반복(각 날씨 값을 가져옴)\n",
    "        if td.find('a'):             # <td> 안에 <a> 태그가 있으면(지점인지 확인)\n",
    "            point = td.find('a').text    # <a> 태그 안에서 지점을 가져옴\n",
    "            weather = tds[1].text # 날씨 \n",
    "            temperature = tds[5].text    # <td> 태그 리스트의 여섯 번째(인덱스 5)에서 기온을 가져옴\n",
    "            humidity = tds[9].text       # <td> 태그 리스트의 열 번째(인덱스 9)에서 습도를 가져옴\n",
    "            data.append([point, weather, temperature, humidity])    # data 리스트에 지점, 기온, 습도를 추가\n",
    " \n",
    "data    # data 표시. 주피터 노트북에서는 print를 사용하지 않아도 변수의 값이 표시됨"
   ]
  },
  {
   "cell_type": "markdown",
   "metadata": {},
   "source": [
    "### 데이터를 csv 파일에 저장"
   ]
  },
  {
   "cell_type": "code",
   "execution_count": 63,
   "metadata": {},
   "outputs": [
    {
     "data": {
      "text/html": [
       "<div>\n",
       "<style scoped>\n",
       "    .dataframe tbody tr th:only-of-type {\n",
       "        vertical-align: middle;\n",
       "    }\n",
       "\n",
       "    .dataframe tbody tr th {\n",
       "        vertical-align: top;\n",
       "    }\n",
       "\n",
       "    .dataframe thead th {\n",
       "        text-align: right;\n",
       "    }\n",
       "</style>\n",
       "<table border=\"1\" class=\"dataframe\">\n",
       "  <thead>\n",
       "    <tr style=\"text-align: right;\">\n",
       "      <th></th>\n",
       "      <th>지점</th>\n",
       "      <th>현재일기</th>\n",
       "      <th>현재기온</th>\n",
       "      <th>습도</th>\n",
       "    </tr>\n",
       "  </thead>\n",
       "  <tbody>\n",
       "    <tr>\n",
       "      <th>0</th>\n",
       "      <td>서울</td>\n",
       "      <td>맑음</td>\n",
       "      <td>25.6</td>\n",
       "      <td>30</td>\n",
       "    </tr>\n",
       "    <tr>\n",
       "      <th>1</th>\n",
       "      <td>백령도</td>\n",
       "      <td>구름조금</td>\n",
       "      <td>18.4</td>\n",
       "      <td>62</td>\n",
       "    </tr>\n",
       "    <tr>\n",
       "      <th>2</th>\n",
       "      <td>인천</td>\n",
       "      <td>맑음</td>\n",
       "      <td>20.8</td>\n",
       "      <td>54</td>\n",
       "    </tr>\n",
       "    <tr>\n",
       "      <th>3</th>\n",
       "      <td>수원</td>\n",
       "      <td>구름조금</td>\n",
       "      <td>25.0</td>\n",
       "      <td>41</td>\n",
       "    </tr>\n",
       "    <tr>\n",
       "      <th>4</th>\n",
       "      <td>동두천</td>\n",
       "      <td></td>\n",
       "      <td>24.9</td>\n",
       "      <td>34</td>\n",
       "    </tr>\n",
       "    <tr>\n",
       "      <th>...</th>\n",
       "      <td>...</td>\n",
       "      <td>...</td>\n",
       "      <td>...</td>\n",
       "      <td>...</td>\n",
       "    </tr>\n",
       "    <tr>\n",
       "      <th>90</th>\n",
       "      <td>합천</td>\n",
       "      <td></td>\n",
       "      <td>25.1</td>\n",
       "      <td>32</td>\n",
       "    </tr>\n",
       "    <tr>\n",
       "      <th>91</th>\n",
       "      <td>밀양</td>\n",
       "      <td></td>\n",
       "      <td>24.7</td>\n",
       "      <td>34</td>\n",
       "    </tr>\n",
       "    <tr>\n",
       "      <th>92</th>\n",
       "      <td>산청</td>\n",
       "      <td></td>\n",
       "      <td>24.8</td>\n",
       "      <td>41</td>\n",
       "    </tr>\n",
       "    <tr>\n",
       "      <th>93</th>\n",
       "      <td>거제</td>\n",
       "      <td></td>\n",
       "      <td>23.1</td>\n",
       "      <td>57</td>\n",
       "    </tr>\n",
       "    <tr>\n",
       "      <th>94</th>\n",
       "      <td>남해</td>\n",
       "      <td></td>\n",
       "      <td>24.5</td>\n",
       "      <td>40</td>\n",
       "    </tr>\n",
       "  </tbody>\n",
       "</table>\n",
       "<p>95 rows × 4 columns</p>\n",
       "</div>"
      ],
      "text/plain": [
       "     지점  현재일기  현재기온  습도\n",
       "0    서울    맑음  25.6  30\n",
       "1   백령도  구름조금  18.4  62\n",
       "2    인천    맑음  20.8  54\n",
       "3    수원  구름조금  25.0  41\n",
       "4   동두천        24.9  34\n",
       "..  ...   ...   ...  ..\n",
       "90   합천        25.1  32\n",
       "91   밀양        24.7  34\n",
       "92   산청        24.8  41\n",
       "93   거제        23.1  57\n",
       "94   남해        24.5  40\n",
       "\n",
       "[95 rows x 4 columns]"
      ]
     },
     "execution_count": 63,
     "metadata": {},
     "output_type": "execute_result"
    }
   ],
   "source": [
    "import pandas as pd\n",
    "\n",
    "cn=['지점','현재일기','현재기온','습도']\n",
    "w_list=pd.DataFrame(data, columns=cn)\n",
    "w_list"
   ]
  },
  {
   "cell_type": "code",
   "execution_count": 64,
   "metadata": {},
   "outputs": [],
   "source": [
    "w_list.to_csv('Test.csv',encoding='utf-8-sig') #utf-8로 한글 저장 잘 됨"
   ]
  },
  {
   "cell_type": "markdown",
   "metadata": {},
   "source": [
    "w_list.to_csv('Test.csv',encoding='euc-kr') #한글 저장 잘 됨"
   ]
  },
  {
   "cell_type": "markdown",
   "metadata": {},
   "source": [
    "w_list.to_csv('Test.csv',encoding='utf-8') #한글 깨짐"
   ]
  },
  {
   "cell_type": "markdown",
   "metadata": {},
   "source": [
    "### csv 파일 불러오기"
   ]
  },
  {
   "cell_type": "code",
   "execution_count": 65,
   "metadata": {},
   "outputs": [],
   "source": [
    "import pandas as pd"
   ]
  },
  {
   "cell_type": "code",
   "execution_count": 66,
   "metadata": {},
   "outputs": [
    {
     "data": {
      "text/html": [
       "<div>\n",
       "<style scoped>\n",
       "    .dataframe tbody tr th:only-of-type {\n",
       "        vertical-align: middle;\n",
       "    }\n",
       "\n",
       "    .dataframe tbody tr th {\n",
       "        vertical-align: top;\n",
       "    }\n",
       "\n",
       "    .dataframe thead th {\n",
       "        text-align: right;\n",
       "    }\n",
       "</style>\n",
       "<table border=\"1\" class=\"dataframe\">\n",
       "  <thead>\n",
       "    <tr style=\"text-align: right;\">\n",
       "      <th></th>\n",
       "      <th>Unnamed: 0</th>\n",
       "      <th>지점</th>\n",
       "      <th>현재일기</th>\n",
       "      <th>현재기온</th>\n",
       "      <th>습도</th>\n",
       "    </tr>\n",
       "  </thead>\n",
       "  <tbody>\n",
       "    <tr>\n",
       "      <th>0</th>\n",
       "      <td>0</td>\n",
       "      <td>서울</td>\n",
       "      <td>맑음</td>\n",
       "      <td>25.6</td>\n",
       "      <td>30</td>\n",
       "    </tr>\n",
       "    <tr>\n",
       "      <th>1</th>\n",
       "      <td>1</td>\n",
       "      <td>백령도</td>\n",
       "      <td>구름조금</td>\n",
       "      <td>18.4</td>\n",
       "      <td>62</td>\n",
       "    </tr>\n",
       "    <tr>\n",
       "      <th>2</th>\n",
       "      <td>2</td>\n",
       "      <td>인천</td>\n",
       "      <td>맑음</td>\n",
       "      <td>20.8</td>\n",
       "      <td>54</td>\n",
       "    </tr>\n",
       "    <tr>\n",
       "      <th>3</th>\n",
       "      <td>3</td>\n",
       "      <td>수원</td>\n",
       "      <td>구름조금</td>\n",
       "      <td>25.0</td>\n",
       "      <td>41</td>\n",
       "    </tr>\n",
       "    <tr>\n",
       "      <th>4</th>\n",
       "      <td>4</td>\n",
       "      <td>동두천</td>\n",
       "      <td></td>\n",
       "      <td>24.9</td>\n",
       "      <td>34</td>\n",
       "    </tr>\n",
       "  </tbody>\n",
       "</table>\n",
       "</div>"
      ],
      "text/plain": [
       "   Unnamed: 0   지점  현재일기  현재기온  습도\n",
       "0           0   서울    맑음  25.6  30\n",
       "1           1  백령도  구름조금  18.4  62\n",
       "2           2   인천    맑음  20.8  54\n",
       "3           3   수원  구름조금  25.0  41\n",
       "4           4  동두천        24.9  34"
      ]
     },
     "execution_count": 66,
     "metadata": {},
     "output_type": "execute_result"
    }
   ],
   "source": [
    "weather=pd.read_csv('Test.csv')\n",
    "weather.head()"
   ]
  },
  {
   "cell_type": "markdown",
   "metadata": {},
   "source": [
    "### 열이름 변경"
   ]
  },
  {
   "cell_type": "code",
   "execution_count": 67,
   "metadata": {},
   "outputs": [],
   "source": [
    "weather=weather.rename(\n",
    "    {'Unnamed: 0':'순번'},axis='columns'\n",
    ")"
   ]
  },
  {
   "cell_type": "code",
   "execution_count": 68,
   "metadata": {},
   "outputs": [
    {
     "data": {
      "text/html": [
       "<div>\n",
       "<style scoped>\n",
       "    .dataframe tbody tr th:only-of-type {\n",
       "        vertical-align: middle;\n",
       "    }\n",
       "\n",
       "    .dataframe tbody tr th {\n",
       "        vertical-align: top;\n",
       "    }\n",
       "\n",
       "    .dataframe thead th {\n",
       "        text-align: right;\n",
       "    }\n",
       "</style>\n",
       "<table border=\"1\" class=\"dataframe\">\n",
       "  <thead>\n",
       "    <tr style=\"text-align: right;\">\n",
       "      <th></th>\n",
       "      <th>순번</th>\n",
       "      <th>지점</th>\n",
       "      <th>현재일기</th>\n",
       "      <th>현재기온</th>\n",
       "      <th>습도</th>\n",
       "    </tr>\n",
       "  </thead>\n",
       "  <tbody>\n",
       "    <tr>\n",
       "      <th>0</th>\n",
       "      <td>0</td>\n",
       "      <td>서울</td>\n",
       "      <td>맑음</td>\n",
       "      <td>25.6</td>\n",
       "      <td>30</td>\n",
       "    </tr>\n",
       "    <tr>\n",
       "      <th>1</th>\n",
       "      <td>1</td>\n",
       "      <td>백령도</td>\n",
       "      <td>구름조금</td>\n",
       "      <td>18.4</td>\n",
       "      <td>62</td>\n",
       "    </tr>\n",
       "    <tr>\n",
       "      <th>2</th>\n",
       "      <td>2</td>\n",
       "      <td>인천</td>\n",
       "      <td>맑음</td>\n",
       "      <td>20.8</td>\n",
       "      <td>54</td>\n",
       "    </tr>\n",
       "    <tr>\n",
       "      <th>3</th>\n",
       "      <td>3</td>\n",
       "      <td>수원</td>\n",
       "      <td>구름조금</td>\n",
       "      <td>25.0</td>\n",
       "      <td>41</td>\n",
       "    </tr>\n",
       "    <tr>\n",
       "      <th>4</th>\n",
       "      <td>4</td>\n",
       "      <td>동두천</td>\n",
       "      <td></td>\n",
       "      <td>24.9</td>\n",
       "      <td>34</td>\n",
       "    </tr>\n",
       "  </tbody>\n",
       "</table>\n",
       "</div>"
      ],
      "text/plain": [
       "   순번   지점  현재일기  현재기온  습도\n",
       "0   0   서울    맑음  25.6  30\n",
       "1   1  백령도  구름조금  18.4  62\n",
       "2   2   인천    맑음  20.8  54\n",
       "3   3   수원  구름조금  25.0  41\n",
       "4   4  동두천        24.9  34"
      ]
     },
     "execution_count": 68,
     "metadata": {},
     "output_type": "execute_result"
    }
   ],
   "source": [
    "weather.head()"
   ]
  },
  {
   "cell_type": "markdown",
   "metadata": {},
   "source": [
    "#### 열 위치 변경"
   ]
  },
  {
   "cell_type": "code",
   "execution_count": 71,
   "metadata": {},
   "outputs": [
    {
     "data": {
      "text/html": [
       "<div>\n",
       "<style scoped>\n",
       "    .dataframe tbody tr th:only-of-type {\n",
       "        vertical-align: middle;\n",
       "    }\n",
       "\n",
       "    .dataframe tbody tr th {\n",
       "        vertical-align: top;\n",
       "    }\n",
       "\n",
       "    .dataframe thead th {\n",
       "        text-align: right;\n",
       "    }\n",
       "</style>\n",
       "<table border=\"1\" class=\"dataframe\">\n",
       "  <thead>\n",
       "    <tr style=\"text-align: right;\">\n",
       "      <th></th>\n",
       "      <th>순번</th>\n",
       "      <th>지점</th>\n",
       "      <th>현재기온</th>\n",
       "      <th>습도</th>\n",
       "      <th>현재일기</th>\n",
       "    </tr>\n",
       "  </thead>\n",
       "  <tbody>\n",
       "    <tr>\n",
       "      <th>0</th>\n",
       "      <td>0</td>\n",
       "      <td>서울</td>\n",
       "      <td>25.6</td>\n",
       "      <td>30</td>\n",
       "      <td>맑음</td>\n",
       "    </tr>\n",
       "    <tr>\n",
       "      <th>1</th>\n",
       "      <td>1</td>\n",
       "      <td>백령도</td>\n",
       "      <td>18.4</td>\n",
       "      <td>62</td>\n",
       "      <td>구름조금</td>\n",
       "    </tr>\n",
       "    <tr>\n",
       "      <th>2</th>\n",
       "      <td>2</td>\n",
       "      <td>인천</td>\n",
       "      <td>20.8</td>\n",
       "      <td>54</td>\n",
       "      <td>맑음</td>\n",
       "    </tr>\n",
       "    <tr>\n",
       "      <th>3</th>\n",
       "      <td>3</td>\n",
       "      <td>수원</td>\n",
       "      <td>25.0</td>\n",
       "      <td>41</td>\n",
       "      <td>구름조금</td>\n",
       "    </tr>\n",
       "    <tr>\n",
       "      <th>4</th>\n",
       "      <td>4</td>\n",
       "      <td>동두천</td>\n",
       "      <td>24.9</td>\n",
       "      <td>34</td>\n",
       "      <td></td>\n",
       "    </tr>\n",
       "    <tr>\n",
       "      <th>...</th>\n",
       "      <td>...</td>\n",
       "      <td>...</td>\n",
       "      <td>...</td>\n",
       "      <td>...</td>\n",
       "      <td>...</td>\n",
       "    </tr>\n",
       "    <tr>\n",
       "      <th>90</th>\n",
       "      <td>90</td>\n",
       "      <td>합천</td>\n",
       "      <td>25.1</td>\n",
       "      <td>32</td>\n",
       "      <td></td>\n",
       "    </tr>\n",
       "    <tr>\n",
       "      <th>91</th>\n",
       "      <td>91</td>\n",
       "      <td>밀양</td>\n",
       "      <td>24.7</td>\n",
       "      <td>34</td>\n",
       "      <td></td>\n",
       "    </tr>\n",
       "    <tr>\n",
       "      <th>92</th>\n",
       "      <td>92</td>\n",
       "      <td>산청</td>\n",
       "      <td>24.8</td>\n",
       "      <td>41</td>\n",
       "      <td></td>\n",
       "    </tr>\n",
       "    <tr>\n",
       "      <th>93</th>\n",
       "      <td>93</td>\n",
       "      <td>거제</td>\n",
       "      <td>23.1</td>\n",
       "      <td>57</td>\n",
       "      <td></td>\n",
       "    </tr>\n",
       "    <tr>\n",
       "      <th>94</th>\n",
       "      <td>94</td>\n",
       "      <td>남해</td>\n",
       "      <td>24.5</td>\n",
       "      <td>40</td>\n",
       "      <td></td>\n",
       "    </tr>\n",
       "  </tbody>\n",
       "</table>\n",
       "<p>95 rows × 5 columns</p>\n",
       "</div>"
      ],
      "text/plain": [
       "    순번   지점  현재기온  습도  현재일기\n",
       "0    0   서울  25.6  30    맑음\n",
       "1    1  백령도  18.4  62  구름조금\n",
       "2    2   인천  20.8  54    맑음\n",
       "3    3   수원  25.0  41  구름조금\n",
       "4    4  동두천  24.9  34      \n",
       "..  ..  ...   ...  ..   ...\n",
       "90  90   합천  25.1  32      \n",
       "91  91   밀양  24.7  34      \n",
       "92  92   산청  24.8  41      \n",
       "93  93   거제  23.1  57      \n",
       "94  94   남해  24.5  40      \n",
       "\n",
       "[95 rows x 5 columns]"
      ]
     },
     "execution_count": 71,
     "metadata": {},
     "output_type": "execute_result"
    }
   ],
   "source": [
    "weather=weather[['순번', '지점', '현재기온', '습도', '현재일기']]\n",
    "weather"
   ]
  },
  {
   "cell_type": "markdown",
   "metadata": {},
   "source": [
    "## 2. 이상치 결측치 확인"
   ]
  },
  {
   "cell_type": "code",
   "execution_count": 72,
   "metadata": {},
   "outputs": [
    {
     "name": "stdout",
     "output_type": "stream",
     "text": [
      "행, 열 :  (95, 5)\n"
     ]
    }
   ],
   "source": [
    "print(\"행, 열 : \", weather.shape)"
   ]
  },
  {
   "cell_type": "markdown",
   "metadata": {},
   "source": [
    "#### 결측치 확인"
   ]
  },
  {
   "cell_type": "markdown",
   "metadata": {},
   "source": [
    "X에 대한 결측치 확인"
   ]
  },
  {
   "cell_type": "code",
   "execution_count": 82,
   "metadata": {},
   "outputs": [],
   "source": [
    "X_null=weather.iloc[:,1:4].isnull().sum()"
   ]
  },
  {
   "cell_type": "code",
   "execution_count": 83,
   "metadata": {},
   "outputs": [
    {
     "name": "stdout",
     "output_type": "stream",
     "text": [
      "결측치가 없습니다.\n",
      "\n"
     ]
    }
   ],
   "source": [
    "if X_null.sum()==0:\n",
    "    print(\"결측치가 없습니다.\\n\")\n",
    "else:\n",
    "    print(\"결측치가 있습니다.\\n\")\n",
    "    print(X_null,\"\\n\")"
   ]
  },
  {
   "cell_type": "markdown",
   "metadata": {},
   "source": [
    "y에 대한 결측치 확인"
   ]
  },
  {
   "cell_type": "code",
   "execution_count": 84,
   "metadata": {},
   "outputs": [],
   "source": [
    "y_null=weather.iloc[:,4:].isnull"
   ]
  },
  {
   "cell_type": "code",
   "execution_count": 85,
   "metadata": {},
   "outputs": [
    {
     "name": "stdout",
     "output_type": "stream",
     "text": [
      "결측치가 있습니다.\n",
      "\n",
      "<bound method DataFrame.isnull of     현재일기\n",
      "0     맑음\n",
      "1   구름조금\n",
      "2     맑음\n",
      "3   구름조금\n",
      "4       \n",
      "..   ...\n",
      "90      \n",
      "91      \n",
      "92      \n",
      "93      \n",
      "94      \n",
      "\n",
      "[95 rows x 1 columns]> \n",
      "\n"
     ]
    }
   ],
   "source": [
    "if y_null==0:\n",
    "    print(\"결측치가 없습니다.\\n\")\n",
    "else:\n",
    "    print(\"결측치가 있습니다.\\n\")\n",
    "    print(y_null,\"\\n\")"
   ]
  },
  {
   "cell_type": "markdown",
   "metadata": {},
   "source": [
    "#### 이상치 확인은 해 보시길 바랄게요!!!"
   ]
  },
  {
   "cell_type": "code",
   "execution_count": 97,
   "metadata": {},
   "outputs": [
    {
     "data": {
      "text/plain": [
       "<AxesSubplot:>"
      ]
     },
     "execution_count": 97,
     "metadata": {},
     "output_type": "execute_result"
    },
    {
     "name": "stderr",
     "output_type": "stream",
     "text": [
      "/usr/local/lib/python3.7/site-packages/matplotlib/backends/backend_agg.py:238: RuntimeWarning: Glyph 8722 missing from current font.\n",
      "  font.set_text(s, 0.0, flags=flags)\n",
      "/usr/local/lib/python3.7/site-packages/matplotlib/backends/backend_agg.py:201: RuntimeWarning: Glyph 8722 missing from current font.\n",
      "  font.set_text(s, 0, flags=flags)\n"
     ]
    },
    {
     "data": {
      "image/png": "[encoded data removed]",
      "text/plain": [
       "<Figure size 1440x720 with 1 Axes>"
      ]
     },
     "metadata": {
      "needs_background": "light"
     },
     "output_type": "display_data"
    }
   ],
   "source": [
    "weather.loc[:-1].plot.box(figsize=(20,10))"
   ]
  },
  {
   "cell_type": "markdown",
   "metadata": {},
   "source": [
    "## 3. EDA 상관분석"
   ]
  },
  {
   "cell_type": "code",
   "execution_count": 88,
   "metadata": {},
   "outputs": [],
   "source": [
    "corr=weather[:-1].corr()"
   ]
  },
  {
   "cell_type": "code",
   "execution_count": 96,
   "metadata": {},
   "outputs": [
    {
     "data": {
      "text/plain": [
       "<AxesSubplot:>"
      ]
     },
     "execution_count": 96,
     "metadata": {},
     "output_type": "execute_result"
    },
    {
     "data": {
      "image/png": "[encoded data removed]",
      "text/plain": [
       "<Figure size 1440x720 with 2 Axes>"
      ]
     },
     "metadata": {
      "needs_background": "light"
     },
     "output_type": "display_data"
    }
   ],
   "source": [
    "import seaborn as sns\n",
    "import matplotlib.pyplot as plt\n",
    "\n",
    "%matplotlib inline\n",
    "\n",
    "plt.figure(figsize=(20,10))\n",
    "sns.heatmap(corr, cmap = \"RdYlGn\", annot = True, vmin=0, vmax=1) "
   ]
  },
  {
   "cell_type": "markdown",
   "metadata": {},
   "source": [
    "## 4. 특징 추출"
   ]
  },
  {
   "cell_type": "code",
   "execution_count": 99,
   "metadata": {},
   "outputs": [
    {
     "data": {
      "text/plain": [
       "(<AxesSubplot:title={'center':'현재기온'}>, Text(0.5, 1.0, '현재기온'))"
      ]
     },
     "execution_count": 99,
     "metadata": {},
     "output_type": "execute_result"
    },
    {
     "data": {
      "image/png": "[encoded data removed]",
      "text/plain": [
       "<Figure size 432x288 with 1 Axes>"
      ]
     },
     "metadata": {
      "needs_background": "light"
     },
     "output_type": "display_data"
    }
   ],
   "source": [
    "weather.loc[:,'현재기온'].plot.box(), plt.title(\"현재기온\")"
   ]
  },
  {
   "cell_type": "code",
   "execution_count": 100,
   "metadata": {},
   "outputs": [
    {
     "data": {
      "text/plain": [
       "(<AxesSubplot:title={'center':'현재기온'}>, Text(0.5, 1.0, '현재기온'))"
      ]
     },
     "execution_count": 100,
     "metadata": {},
     "output_type": "execute_result"
    },
    {
     "data": {
      "image/png": "[encoded data removed]",
      "text/plain": [
       "<Figure size 432x288 with 1 Axes>"
      ]
     },
     "metadata": {
      "needs_background": "light"
     },
     "output_type": "display_data"
    }
   ],
   "source": [
    "weather.loc[:,'습도'].plot.box(), plt.title(\"현재기온\")"
   ]
  },
  {
   "cell_type": "code",
   "execution_count": null,
   "metadata": {},
   "outputs": [],
   "source": []
  },
  {
   "cell_type": "code",
   "execution_count": null,
   "metadata": {},
   "outputs": [],
   "source": []
  },
  {
   "cell_type": "code",
   "execution_count": null,
   "metadata": {},
   "outputs": [],
   "source": []
  },
  {
   "cell_type": "code",
   "execution_count": null,
   "metadata": {},
   "outputs": [],
   "source": []
  },
  {
   "cell_type": "code",
   "execution_count": null,
   "metadata": {},
   "outputs": [],
   "source": []
  },
  {
   "cell_type": "code",
   "execution_count": null,
   "metadata": {},
   "outputs": [],
   "source": []
  },
  {
   "cell_type": "code",
   "execution_count": null,
   "metadata": {},
   "outputs": [],
   "source": []
  }
 ],
 "metadata": {
  "kernelspec": {
   "display_name": "Python 3",
   "language": "python",
   "name": "python3"
  },
  "language_info": {
   "codemirror_mode": {
    "name": "ipython",
    "version": 3
   },
   "file_extension": ".py",
   "mimetype": "text/x-python",
   "name": "python",
   "nbconvert_exporter": "python",
   "pygments_lexer": "ipython3",
   "version": "3.7.4"
  }
 },
 "nbformat": 4,
 "nbformat_minor": 4
}
