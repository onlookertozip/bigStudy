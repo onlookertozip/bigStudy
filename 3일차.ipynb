{
 "cells": [
  {
   "cell_type": "markdown",
   "metadata": {},
   "source": [
    "# Standardizing and Scripting"
   ]
  },
  {
   "attachments": {},
   "cell_type": "markdown",
   "metadata": {},
   "source": [
    "## 특성 스케일"
   ]
  },
  {
   "cell_type": "code",
   "execution_count": 1,
   "metadata": {},
   "outputs": [
    {
     "data": {
      "text/plain": [
       "array([[0.        ],\n",
       "       [0.28571429],\n",
       "       [0.35714286],\n",
       "       [0.42857143],\n",
       "       [1.        ]])"
      ]
     },
     "execution_count": 1,
     "metadata": {},
     "output_type": "execute_result"
    }
   ],
   "source": [
    "# 라이브러리를 임포트합니다.\n",
    "import numpy as np\n",
    "from sklearn import preprocessing\n",
    "\n",
    "# 특성을 만듭니다.\n",
    "feature = np.array([[-500.5],\n",
    "                    [-100.1],\n",
    "                    [0],\n",
    "                    [100.1],\n",
    "                    [900.9]])\n",
    "\n",
    "# 스케일러 객체를 만듭니다.\n",
    "minmax_scale = preprocessing.MinMaxScaler(feature_range=(0, 1))\n",
    "\n",
    "# 특성의 스케일을 변환합니다.\n",
    "scaled_feature = minmax_scale.fit_transform(feature)\n",
    "\n",
    "# 특성을 출력합니다.\n",
    "scaled_feature"
   ]
  },
  {
   "cell_type": "code",
   "execution_count": 2,
   "metadata": {},
   "outputs": [
    {
     "data": {
      "text/plain": [
       "array([[0. ],\n",
       "       [0.8],\n",
       "       [1. ]])"
      ]
     },
     "execution_count": 2,
     "metadata": {},
     "output_type": "execute_result"
    }
   ],
   "source": [
    "# 훈련 세트를 변환합니다.\n",
    "preprocessing.MinMaxScaler().fit_transform(feature[:3])"
   ]
  },
  {
   "cell_type": "code",
   "execution_count": 3,
   "metadata": {},
   "outputs": [
    {
     "data": {
      "text/plain": [
       "array([[0.],\n",
       "       [1.]])"
      ]
     },
     "execution_count": 3,
     "metadata": {},
     "output_type": "execute_result"
    }
   ],
   "source": [
    "# 테스트 세트를 변환합니다.\n",
    "preprocessing.MinMaxScaler().fit_transform(feature[3:])"
   ]
  },
  {
   "cell_type": "code",
   "execution_count": 4,
   "metadata": {},
   "outputs": [
    {
     "data": {
      "text/plain": [
       "array([[0. ],\n",
       "       [0.8],\n",
       "       [1. ]])"
      ]
     },
     "execution_count": 4,
     "metadata": {},
     "output_type": "execute_result"
    }
   ],
   "source": [
    "# 훈련 세트로 변환기를 학습합니다.\n",
    "scaler = preprocessing.MinMaxScaler().fit(feature[:3])\n",
    "scaler.transform(feature[:3])"
   ]
  },
  {
   "cell_type": "code",
   "execution_count": 5,
   "metadata": {},
   "outputs": [
    {
     "data": {
      "text/plain": [
       "array([[1.2],\n",
       "       [2.8]])"
      ]
     },
     "execution_count": 5,
     "metadata": {},
     "output_type": "execute_result"
    }
   ],
   "source": [
    "# 훈련 세트에서 학습한 변환기로 테스트 세트를 변환합니다.\n",
    "scaler.transform(feature[3:])"
   ]
  },
  {
   "cell_type": "markdown",
   "metadata": {},
   "source": [
    "## 특성 표준화"
   ]
  },
  {
   "cell_type": "code",
   "execution_count": 6,
   "metadata": {},
   "outputs": [
    {
     "data": {
      "text/plain": [
       "array([[-0.76058269],\n",
       "       [-0.54177196],\n",
       "       [-0.35009716],\n",
       "       [-0.32271504],\n",
       "       [ 1.97516685]])"
      ]
     },
     "execution_count": 6,
     "metadata": {},
     "output_type": "execute_result"
    }
   ],
   "source": [
    "# 라이브러리를 임포트합니다.\n",
    "import numpy as np\n",
    "from sklearn import preprocessing\n",
    "\n",
    "# 특성을 만듭니다.\n",
    "x = np.array([[-1000.1],\n",
    "              [-200.2],\n",
    "              [500.5],\n",
    "              [600.6],\n",
    "              [9000.9]])\n",
    "\n",
    "# 변환기 객체를 만듭니다.\n",
    "scaler = preprocessing.StandardScaler()\n",
    "\n",
    "# 특성을 변환합니다.\n",
    "standardized = scaler.fit_transform(x)\n",
    "\n",
    "# 특성을 출력합니다.\n",
    "standardized"
   ]
  },
  {
   "cell_type": "code",
   "execution_count": 7,
   "metadata": {},
   "outputs": [
    {
     "name": "stdout",
     "output_type": "stream",
     "text": [
      "평균 Mean: 0\n",
      "표준 편차 Standard deviation: 1.0\n"
     ]
    }
   ],
   "source": [
    "# 평균과 표준 편차를 출력합니다.\n",
    "print(\"평균 Mean:\", round(standardized.mean()))\n",
    "print(\"표준 편차 Standard deviation:\", standardized.std())"
   ]
  },
  {
   "cell_type": "code",
   "execution_count": 8,
   "metadata": {},
   "outputs": [
    {
     "data": {
      "text/plain": [
       "array([[-1.87387612],\n",
       "       [-0.875     ],\n",
       "       [ 0.        ],\n",
       "       [ 0.125     ],\n",
       "       [10.61488511]])"
      ]
     },
     "execution_count": 8,
     "metadata": {},
     "output_type": "execute_result"
    }
   ],
   "source": [
    "# 변환기 객체를 만듭니다.\n",
    "robust_scaler = preprocessing.RobustScaler()\n",
    "\n",
    "# 특성을 변환합니다.\n",
    "robust_scaler.fit_transform(x)"
   ]
  },
  {
   "cell_type": "code",
   "execution_count": 9,
   "metadata": {},
   "outputs": [
    {
     "data": {
      "text/plain": [
       "array([[-1.87387612],\n",
       "       [-0.875     ],\n",
       "       [ 0.        ],\n",
       "       [ 0.125     ],\n",
       "       [10.61488511]])"
      ]
     },
     "execution_count": 9,
     "metadata": {},
     "output_type": "execute_result"
    }
   ],
   "source": [
    "interquatile_range = x[3] - x[1]\n",
    "(x - np.median(x)) / interquatile_range"
   ]
  },
  {
   "cell_type": "code",
   "execution_count": 10,
   "metadata": {},
   "outputs": [
    {
     "name": "stderr",
     "output_type": "stream",
     "text": [
      "/usr/local/lib/python3.7/site-packages/sklearn/preprocessing/_data.py:2370: UserWarning: n_quantiles (1000) is greater than the total number of samples (5). n_quantiles is set to n_samples.\n",
      "  % (self.n_quantiles, n_samples))\n"
     ]
    },
    {
     "data": {
      "text/plain": [
       "array([[0.  ],\n",
       "       [0.25],\n",
       "       [0.5 ],\n",
       "       [0.75],\n",
       "       [1.  ]])"
      ]
     },
     "execution_count": 10,
     "metadata": {},
     "output_type": "execute_result"
    }
   ],
   "source": [
    "preprocessing.QuantileTransformer().fit_transform(x)"
   ]
  },
  {
   "cell_type": "markdown",
   "metadata": {},
   "source": [
    "## 특성 정규화"
   ]
  },
  {
   "cell_type": "code",
   "execution_count": 11,
   "metadata": {},
   "outputs": [
    {
     "data": {
      "text/plain": [
       "array([[0.70710678, 0.70710678],\n",
       "       [0.30782029, 0.95144452],\n",
       "       [0.07405353, 0.99725427],\n",
       "       [0.04733062, 0.99887928],\n",
       "       [0.95709822, 0.28976368]])"
      ]
     },
     "execution_count": 11,
     "metadata": {},
     "output_type": "execute_result"
    }
   ],
   "source": [
    "# 라이브러리를 임포트합니다.\n",
    "import numpy as np\n",
    "from sklearn.preprocessing import Normalizer\n",
    "\n",
    "# 특성 행렬을 만듭니다.\n",
    "features = np.array([[0.5, 0.5],\n",
    "                     [1.1, 3.4],\n",
    "                     [1.5, 20.2],\n",
    "                     [1.63, 34.4],\n",
    "                     [10.9, 3.3]])\n",
    "\n",
    "# 변환기 객체를 만듭니다.\n",
    "normalizer = Normalizer(norm=\"l2\")\n",
    "\n",
    "# 특성 행렬을 변환합니다.\n",
    "normalizer.transform(features)"
   ]
  },
  {
   "cell_type": "code",
   "execution_count": 12,
   "metadata": {},
   "outputs": [
    {
     "data": {
      "text/plain": [
       "array([[0.70710678, 0.70710678],\n",
       "       [0.30782029, 0.95144452],\n",
       "       [0.07405353, 0.99725427],\n",
       "       [0.04733062, 0.99887928],\n",
       "       [0.95709822, 0.28976368]])"
      ]
     },
     "execution_count": 12,
     "metadata": {},
     "output_type": "execute_result"
    }
   ],
   "source": [
    "# 특성 행렬을 변환합니다.\n",
    "features_l2_norm = Normalizer(norm=\"l2\").transform(features)\n",
    "\n",
    "# 특성 행렬을 출력합니다.\n",
    "features_l2_norm"
   ]
  },
  {
   "cell_type": "code",
   "execution_count": 13,
   "metadata": {},
   "outputs": [
    {
     "data": {
      "text/plain": [
       "array([[0.5       , 0.5       ],\n",
       "       [0.24444444, 0.75555556],\n",
       "       [0.06912442, 0.93087558],\n",
       "       [0.04524008, 0.95475992],\n",
       "       [0.76760563, 0.23239437]])"
      ]
     },
     "execution_count": 13,
     "metadata": {},
     "output_type": "execute_result"
    }
   ],
   "source": [
    "# 특성 행렬을 변환합니다.\n",
    "features_l1_norm = Normalizer(norm=\"l1\").transform(features)\n",
    "\n",
    "# 특성 행렬을 출력합니다.\n",
    "features_l1_norm"
   ]
  },
  {
   "cell_type": "code",
   "execution_count": 14,
   "metadata": {},
   "outputs": [
    {
     "name": "stdout",
     "output_type": "stream",
     "text": [
      "첫 번째 샘플 값의 합: 1.0\n"
     ]
    }
   ],
   "source": [
    "# 합을 출력합니다.\n",
    "print(\"첫 번째 샘플 값의 합:\",\n",
    "   features_l1_norm[0, 0] + features_l1_norm[0, 1])"
   ]
  },
  {
   "cell_type": "code",
   "execution_count": 15,
   "metadata": {},
   "outputs": [
    {
     "data": {
      "text/plain": [
       "array([[0.5       , 0.5       ],\n",
       "       [0.24444444, 0.75555556],\n",
       "       [0.06912442, 0.93087558],\n",
       "       [0.04524008, 0.95475992],\n",
       "       [0.76760563, 0.23239437]])"
      ]
     },
     "execution_count": 15,
     "metadata": {},
     "output_type": "execute_result"
    }
   ],
   "source": [
    "# L1 노름을 사용한 변환.\n",
    "# 각 행(axis=1)을 합한 결과가 2차원 배열로 유지되도록 keepdims를 True로 설정합니다.\n",
    "features / np.sum(np.abs(features), axis=1, keepdims=True)"
   ]
  },
  {
   "cell_type": "code",
   "execution_count": 16,
   "metadata": {},
   "outputs": [
    {
     "data": {
      "text/plain": [
       "array([[0.70710678, 0.70710678],\n",
       "       [0.30782029, 0.95144452],\n",
       "       [0.07405353, 0.99725427],\n",
       "       [0.04733062, 0.99887928],\n",
       "       [0.95709822, 0.28976368]])"
      ]
     },
     "execution_count": 16,
     "metadata": {},
     "output_type": "execute_result"
    }
   ],
   "source": [
    "# L2 노름을 사용한 변환.\n",
    "features / np.sqrt(np.sum(np.square(features), axis=1, keepdims=True))"
   ]
  },
  {
   "cell_type": "code",
   "execution_count": 17,
   "metadata": {},
   "outputs": [
    {
     "data": {
      "text/plain": [
       "array([[1.        , 1.        ],\n",
       "       [0.32352941, 1.        ],\n",
       "       [0.07425743, 1.        ],\n",
       "       [0.04738372, 1.        ],\n",
       "       [1.        , 0.30275229]])"
      ]
     },
     "execution_count": 17,
     "metadata": {},
     "output_type": "execute_result"
    }
   ],
   "source": [
    "# 각 행에서 최댓값으로 나눕니다.\n",
    "Normalizer(norm=\"max\").transform(features)"
   ]
  },
  {
   "cell_type": "markdown",
   "metadata": {},
   "source": [
    "### 다항 특성과 교차항 특성 생성하기"
   ]
  },
  {
   "cell_type": "code",
   "execution_count": 1,
   "metadata": {},
   "outputs": [
    {
     "data": {
      "text/plain": [
       "array([[2., 3., 4., 6., 9.],\n",
       "       [2., 3., 4., 6., 9.],\n",
       "       [2., 3., 4., 6., 9.]])"
      ]
     },
     "execution_count": 1,
     "metadata": {},
     "output_type": "execute_result"
    }
   ],
   "source": [
    "# 라이브러리를 임포트합니다.\n",
    "import numpy as np\n",
    "from sklearn.preprocessing import PolynomialFeatures\n",
    "\n",
    "# 특성 행렬을 만듭니다.\n",
    "features = np.array([[2, 3],\n",
    "                     [2, 3],\n",
    "                     [2, 3]])\n",
    "\n",
    "# PolynomialFeatures 객체를 만듭니다.\n",
    "polynomial_interaction = PolynomialFeatures(degree=2, include_bias=False)\n",
    "\n",
    "# 다항 특성을 만듭니다.\n",
    "polynomial_interaction.fit_transform(features)"
   ]
  },
  {
   "cell_type": "code",
   "execution_count": 19,
   "metadata": {},
   "outputs": [
    {
     "data": {
      "text/plain": [
       "array([[2., 3., 6.],\n",
       "       [2., 3., 6.],\n",
       "       [2., 3., 6.]])"
      ]
     },
     "execution_count": 19,
     "metadata": {},
     "output_type": "execute_result"
    }
   ],
   "source": [
    "interaction = PolynomialFeatures(degree=2, \n",
    "                                 interaction_only=True, include_bias=False)\n",
    "interaction.fit_transform(features)"
   ]
  },
  {
   "cell_type": "code",
   "execution_count": 20,
   "metadata": {},
   "outputs": [
    {
     "data": {
      "text/plain": [
       "array([[1., 2., 3., 4., 6., 9.],\n",
       "       [1., 2., 3., 4., 6., 9.],\n",
       "       [1., 2., 3., 4., 6., 9.]])"
      ]
     },
     "execution_count": 20,
     "metadata": {},
     "output_type": "execute_result"
    }
   ],
   "source": [
    "# 상수항 1을 추가합니다.\n",
    "polynomial_bias = PolynomialFeatures(degree=2, include_bias=True).fit(features)\n",
    "polynomial_bias.transform(features)"
   ]
  },
  {
   "cell_type": "code",
   "execution_count": 21,
   "metadata": {},
   "outputs": [
    {
     "data": {
      "text/plain": [
       "['1', 'x0', 'x1', 'x0^2', 'x0 x1', 'x1^2']"
      ]
     },
     "execution_count": 21,
     "metadata": {},
     "output_type": "execute_result"
    }
   ],
   "source": [
    "polynomial_bias.get_feature_names()"
   ]
  },
  {
   "attachments": {},
   "cell_type": "markdown",
   "metadata": {},
   "source": [
    "### 하나 이상의 특성에 사용자 정의 변환을 적용"
   ]
  },
  {
   "cell_type": "code",
   "execution_count": 22,
   "metadata": {},
   "outputs": [
    {
     "data": {
      "text/plain": [
       "array([[12, 13],\n",
       "       [12, 13],\n",
       "       [12, 13]])"
      ]
     },
     "execution_count": 22,
     "metadata": {},
     "output_type": "execute_result"
    }
   ],
   "source": [
    "# 라이브러리를 임포트합니다.\n",
    "import numpy as np\n",
    "from sklearn.preprocessing import FunctionTransformer\n",
    "\n",
    "# 특성 행렬을 만듭니다.\n",
    "features = np.array([[2, 3],\n",
    "                     [2, 3],\n",
    "                     [2, 3]])\n",
    "\n",
    "# 간단한 함수를 정의합니다.\n",
    "def add_ten(x):\n",
    "    return x + 10\n",
    "\n",
    "# 변환기 객체를 만듭니다.\n",
    "ten_transformer = FunctionTransformer(add_ten)\n",
    "\n",
    "# 특성 행렬을 변환합니다.\n",
    "ten_transformer.transform(features)"
   ]
  },
  {
   "cell_type": "code",
   "execution_count": 23,
   "metadata": {},
   "outputs": [
    {
     "data": {
      "text/html": [
       "<div>\n",
       "<style scoped>\n",
       "    .dataframe tbody tr th:only-of-type {\n",
       "        vertical-align: middle;\n",
       "    }\n",
       "\n",
       "    .dataframe tbody tr th {\n",
       "        vertical-align: top;\n",
       "    }\n",
       "\n",
       "    .dataframe thead th {\n",
       "        text-align: right;\n",
       "    }\n",
       "</style>\n",
       "<table border=\"1\" class=\"dataframe\">\n",
       "  <thead>\n",
       "    <tr style=\"text-align: right;\">\n",
       "      <th></th>\n",
       "      <th>feature_1</th>\n",
       "      <th>feature_2</th>\n",
       "    </tr>\n",
       "  </thead>\n",
       "  <tbody>\n",
       "    <tr>\n",
       "      <th>0</th>\n",
       "      <td>12</td>\n",
       "      <td>13</td>\n",
       "    </tr>\n",
       "    <tr>\n",
       "      <th>1</th>\n",
       "      <td>12</td>\n",
       "      <td>13</td>\n",
       "    </tr>\n",
       "    <tr>\n",
       "      <th>2</th>\n",
       "      <td>12</td>\n",
       "      <td>13</td>\n",
       "    </tr>\n",
       "  </tbody>\n",
       "</table>\n",
       "</div>"
      ],
      "text/plain": [
       "   feature_1  feature_2\n",
       "0         12         13\n",
       "1         12         13\n",
       "2         12         13"
      ]
     },
     "execution_count": 23,
     "metadata": {},
     "output_type": "execute_result"
    }
   ],
   "source": [
    "# 라이브러리를 임포트합니다.\n",
    "import pandas as pd\n",
    "\n",
    "# 데이터프레임을 만듭니다.\n",
    "df = pd.DataFrame(features, columns=[\"feature_1\", \"feature_2\"])\n",
    "\n",
    "# 함수를 적용합니다.\n",
    "df.apply(add_ten)"
   ]
  },
  {
   "cell_type": "code",
   "execution_count": 24,
   "metadata": {},
   "outputs": [
    {
     "data": {
      "text/plain": [
       "array([11, 12, 13])"
      ]
     },
     "execution_count": 24,
     "metadata": {},
     "output_type": "execute_result"
    }
   ],
   "source": [
    "FunctionTransformer(add_ten, validate=False).transform(np.array([1, 2, 3]))"
   ]
  },
  {
   "cell_type": "code",
   "execution_count": 25,
   "metadata": {},
   "outputs": [
    {
     "data": {
      "text/plain": [
       "array([[ 12, 103],\n",
       "       [ 12, 103],\n",
       "       [ 12, 103]])"
      ]
     },
     "execution_count": 25,
     "metadata": {},
     "output_type": "execute_result"
    }
   ],
   "source": [
    "from sklearn.compose import ColumnTransformer\n",
    "\n",
    "# 100을 더하는 함수를 만듭니다.\n",
    "def add_hundred(x):\n",
    "    return x + 100\n",
    "\n",
    "# (이름, 변환기, 열 리스트)로 구성된 튜플의 리스트를 ColumnTransformer에 전달합니다.\n",
    "ct = ColumnTransformer(\n",
    "    [(\"add_ten\", FunctionTransformer(add_ten, validate=True), ['feature_1']),\n",
    "     (\"add_hundred\", FunctionTransformer(add_hundred, validate=True), ['feature_2'])])\n",
    "\n",
    "ct.fit_transform(df)"
   ]
  },
  {
   "cell_type": "markdown",
   "metadata": {},
   "source": [
    "## 이상치 다루기"
   ]
  },
  {
   "cell_type": "code",
   "execution_count": 26,
   "metadata": {},
   "outputs": [
    {
     "data": {
      "text/plain": [
       "array([-1,  1,  1,  1,  1,  1,  1,  1,  1,  1])"
      ]
     },
     "execution_count": 26,
     "metadata": {},
     "output_type": "execute_result"
    }
   ],
   "source": [
    "# 라이브러리를 임포트합니다.\n",
    "import numpy as np\n",
    "from sklearn.covariance import EllipticEnvelope\n",
    "from sklearn.datasets import make_blobs\n",
    "\n",
    "# 모의 데이터를 만듭니다.\n",
    "features, _ = make_blobs(n_samples = 10,\n",
    "                         n_features = 2,\n",
    "                         centers = 1,\n",
    "                         random_state = 1)\n",
    "\n",
    "# 첫 번째 샘플을 극단적인 값으로 바꿉니다.\n",
    "features[0,0] = 10000\n",
    "features[0,1] = 10000\n",
    "\n",
    "# 이상치 감지 객체를 만듭니다.\n",
    "outlier_detector = EllipticEnvelope(contamination=.1)\n",
    "\n",
    "# 감지 객체를 훈련합니다.\n",
    "outlier_detector.fit(features)\n",
    "\n",
    "# 이상치를 예측합니다.\n",
    "outlier_detector.predict(features)"
   ]
  },
  {
   "cell_type": "code",
   "execution_count": 27,
   "metadata": {},
   "outputs": [
    {
     "data": {
      "text/plain": [
       "(array([0]),)"
      ]
     },
     "execution_count": 27,
     "metadata": {},
     "output_type": "execute_result"
    }
   ],
   "source": [
    "# 하나의 특성을 만듭니다.\n",
    "feature = features[:,0]\n",
    "\n",
    "# 이상치의 인덱스를 반환하는 함수를 만듭니다.\n",
    "def indicies_of_outliers(x):\n",
    "    q1, q3 = np.percentile(x, [25, 75])\n",
    "    iqr = q3 - q1\n",
    "    lower_bound = q1 - (iqr * 1.5)\n",
    "    upper_bound = q3 + (iqr * 1.5)\n",
    "    return np.where((x > upper_bound) | (x < lower_bound))\n",
    "\n",
    "# 함수를 실행합니다.\n",
    "indicies_of_outliers(feature)"
   ]
  },
  {
   "cell_type": "code",
   "execution_count": 28,
   "metadata": {},
   "outputs": [
    {
     "data": {
      "text/html": [
       "<div>\n",
       "<style scoped>\n",
       "    .dataframe tbody tr th:only-of-type {\n",
       "        vertical-align: middle;\n",
       "    }\n",
       "\n",
       "    .dataframe tbody tr th {\n",
       "        vertical-align: top;\n",
       "    }\n",
       "\n",
       "    .dataframe thead th {\n",
       "        text-align: right;\n",
       "    }\n",
       "</style>\n",
       "<table border=\"1\" class=\"dataframe\">\n",
       "  <thead>\n",
       "    <tr style=\"text-align: right;\">\n",
       "      <th></th>\n",
       "      <th>Price</th>\n",
       "      <th>Bathrooms</th>\n",
       "      <th>Square_Feet</th>\n",
       "    </tr>\n",
       "  </thead>\n",
       "  <tbody>\n",
       "    <tr>\n",
       "      <th>0</th>\n",
       "      <td>534433</td>\n",
       "      <td>2.0</td>\n",
       "      <td>1500</td>\n",
       "    </tr>\n",
       "    <tr>\n",
       "      <th>1</th>\n",
       "      <td>392333</td>\n",
       "      <td>3.5</td>\n",
       "      <td>2500</td>\n",
       "    </tr>\n",
       "    <tr>\n",
       "      <th>2</th>\n",
       "      <td>293222</td>\n",
       "      <td>2.0</td>\n",
       "      <td>1500</td>\n",
       "    </tr>\n",
       "  </tbody>\n",
       "</table>\n",
       "</div>"
      ],
      "text/plain": [
       "    Price  Bathrooms  Square_Feet\n",
       "0  534433        2.0         1500\n",
       "1  392333        3.5         2500\n",
       "2  293222        2.0         1500"
      ]
     },
     "execution_count": 28,
     "metadata": {},
     "output_type": "execute_result"
    }
   ],
   "source": [
    "# 라이브러리를 임포트합니다.\n",
    "import pandas as pd\n",
    "\n",
    "# 데이터프레임을 만듭니다.\n",
    "houses = pd.DataFrame()\n",
    "houses['Price'] = [534433, 392333, 293222, 4322032]\n",
    "houses['Bathrooms'] = [2, 3.5, 2, 116]\n",
    "houses['Square_Feet'] = [1500, 2500, 1500, 48000]\n",
    "\n",
    "# 샘플을 필터링합니다.\n",
    "houses[houses['Bathrooms'] < 20]"
   ]
  },
  {
   "cell_type": "code",
   "execution_count": 29,
   "metadata": {},
   "outputs": [
    {
     "data": {
      "text/html": [
       "<div>\n",
       "<style scoped>\n",
       "    .dataframe tbody tr th:only-of-type {\n",
       "        vertical-align: middle;\n",
       "    }\n",
       "\n",
       "    .dataframe tbody tr th {\n",
       "        vertical-align: top;\n",
       "    }\n",
       "\n",
       "    .dataframe thead th {\n",
       "        text-align: right;\n",
       "    }\n",
       "</style>\n",
       "<table border=\"1\" class=\"dataframe\">\n",
       "  <thead>\n",
       "    <tr style=\"text-align: right;\">\n",
       "      <th></th>\n",
       "      <th>Price</th>\n",
       "      <th>Bathrooms</th>\n",
       "      <th>Square_Feet</th>\n",
       "      <th>Outlier</th>\n",
       "    </tr>\n",
       "  </thead>\n",
       "  <tbody>\n",
       "    <tr>\n",
       "      <th>0</th>\n",
       "      <td>534433</td>\n",
       "      <td>2.0</td>\n",
       "      <td>1500</td>\n",
       "      <td>0</td>\n",
       "    </tr>\n",
       "    <tr>\n",
       "      <th>1</th>\n",
       "      <td>392333</td>\n",
       "      <td>3.5</td>\n",
       "      <td>2500</td>\n",
       "      <td>0</td>\n",
       "    </tr>\n",
       "    <tr>\n",
       "      <th>2</th>\n",
       "      <td>293222</td>\n",
       "      <td>2.0</td>\n",
       "      <td>1500</td>\n",
       "      <td>0</td>\n",
       "    </tr>\n",
       "    <tr>\n",
       "      <th>3</th>\n",
       "      <td>4322032</td>\n",
       "      <td>116.0</td>\n",
       "      <td>48000</td>\n",
       "      <td>1</td>\n",
       "    </tr>\n",
       "  </tbody>\n",
       "</table>\n",
       "</div>"
      ],
      "text/plain": [
       "     Price  Bathrooms  Square_Feet  Outlier\n",
       "0   534433        2.0         1500        0\n",
       "1   392333        3.5         2500        0\n",
       "2   293222        2.0         1500        0\n",
       "3  4322032      116.0        48000        1"
      ]
     },
     "execution_count": 29,
     "metadata": {},
     "output_type": "execute_result"
    }
   ],
   "source": [
    "# 라이브러리를 임포트합니다.\n",
    "import numpy as np\n",
    "\n",
    "# 불리언 조건을 기반으로 특성을 만듭니다.\n",
    "houses[\"Outlier\"] = np.where(houses[\"Bathrooms\"] < 20, 0, 1)\n",
    "\n",
    "# 데이터를 확인합니다.\n",
    "houses"
   ]
  },
  {
   "cell_type": "code",
   "execution_count": 30,
   "metadata": {},
   "outputs": [
    {
     "data": {
      "text/html": [
       "<div>\n",
       "<style scoped>\n",
       "    .dataframe tbody tr th:only-of-type {\n",
       "        vertical-align: middle;\n",
       "    }\n",
       "\n",
       "    .dataframe tbody tr th {\n",
       "        vertical-align: top;\n",
       "    }\n",
       "\n",
       "    .dataframe thead th {\n",
       "        text-align: right;\n",
       "    }\n",
       "</style>\n",
       "<table border=\"1\" class=\"dataframe\">\n",
       "  <thead>\n",
       "    <tr style=\"text-align: right;\">\n",
       "      <th></th>\n",
       "      <th>Price</th>\n",
       "      <th>Bathrooms</th>\n",
       "      <th>Square_Feet</th>\n",
       "      <th>Outlier</th>\n",
       "      <th>Log_Of_Square_Feet</th>\n",
       "    </tr>\n",
       "  </thead>\n",
       "  <tbody>\n",
       "    <tr>\n",
       "      <th>0</th>\n",
       "      <td>534433</td>\n",
       "      <td>2.0</td>\n",
       "      <td>1500</td>\n",
       "      <td>0</td>\n",
       "      <td>7.313220</td>\n",
       "    </tr>\n",
       "    <tr>\n",
       "      <th>1</th>\n",
       "      <td>392333</td>\n",
       "      <td>3.5</td>\n",
       "      <td>2500</td>\n",
       "      <td>0</td>\n",
       "      <td>7.824046</td>\n",
       "    </tr>\n",
       "    <tr>\n",
       "      <th>2</th>\n",
       "      <td>293222</td>\n",
       "      <td>2.0</td>\n",
       "      <td>1500</td>\n",
       "      <td>0</td>\n",
       "      <td>7.313220</td>\n",
       "    </tr>\n",
       "    <tr>\n",
       "      <th>3</th>\n",
       "      <td>4322032</td>\n",
       "      <td>116.0</td>\n",
       "      <td>48000</td>\n",
       "      <td>1</td>\n",
       "      <td>10.778956</td>\n",
       "    </tr>\n",
       "  </tbody>\n",
       "</table>\n",
       "</div>"
      ],
      "text/plain": [
       "     Price  Bathrooms  Square_Feet  Outlier  Log_Of_Square_Feet\n",
       "0   534433        2.0         1500        0            7.313220\n",
       "1   392333        3.5         2500        0            7.824046\n",
       "2   293222        2.0         1500        0            7.313220\n",
       "3  4322032      116.0        48000        1           10.778956"
      ]
     },
     "execution_count": 30,
     "metadata": {},
     "output_type": "execute_result"
    }
   ],
   "source": [
    "# 로그 특성\n",
    "houses[\"Log_Of_Square_Feet\"] = [np.log(x) for x in houses[\"Square_Feet\"]]\n",
    "\n",
    "# 데이터를 확인합니다.\n",
    "houses"
   ]
  },
  {
   "cell_type": "code",
   "execution_count": 31,
   "metadata": {},
   "outputs": [
    {
     "data": {
      "text/plain": [
       "array([[0],\n",
       "       [0],\n",
       "       [1],\n",
       "       [1],\n",
       "       [1]])"
      ]
     },
     "execution_count": 31,
     "metadata": {},
     "output_type": "execute_result"
    }
   ],
   "source": [
    "# 라이브러리를 임포트합니다.\n",
    "import numpy as np\n",
    "from sklearn.preprocessing import Binarizer\n",
    "\n",
    "# 특성을 만듭니다.\n",
    "age = np.array([[6],\n",
    "                [12],\n",
    "                [20],\n",
    "                [36],\n",
    "                [65]])\n",
    "\n",
    "# Binarizer 객체를 만듭니다.\n",
    "binarizer = Binarizer(threshold=18)\n",
    "\n",
    "# 특성을 변환합니다.\n",
    "binarizer.fit_transform(age)"
   ]
  },
  {
   "cell_type": "code",
   "execution_count": 32,
   "metadata": {},
   "outputs": [
    {
     "data": {
      "text/plain": [
       "array([[0],\n",
       "       [0],\n",
       "       [1],\n",
       "       [2],\n",
       "       [3]])"
      ]
     },
     "execution_count": 32,
     "metadata": {},
     "output_type": "execute_result"
    }
   ],
   "source": [
    "# 특성을 나눕니다.\n",
    "np.digitize(age, bins=[20,30,64])"
   ]
  },
  {
   "cell_type": "code",
   "execution_count": 33,
   "metadata": {},
   "outputs": [
    {
     "data": {
      "text/plain": [
       "array([[0],\n",
       "       [0],\n",
       "       [0],\n",
       "       [2],\n",
       "       [3]])"
      ]
     },
     "execution_count": 33,
     "metadata": {},
     "output_type": "execute_result"
    }
   ],
   "source": [
    "# 특성을 나눕니다.\n",
    "np.digitize(age, bins=[20,30,64], right=True)"
   ]
  },
  {
   "cell_type": "code",
   "execution_count": 34,
   "metadata": {},
   "outputs": [
    {
     "data": {
      "text/plain": [
       "array([[0],\n",
       "       [0],\n",
       "       [1],\n",
       "       [1],\n",
       "       [1]])"
      ]
     },
     "execution_count": 34,
     "metadata": {},
     "output_type": "execute_result"
    }
   ],
   "source": [
    "# 특성을 나눕니다.\n",
    "np.digitize(age, bins=[18])"
   ]
  },
  {
   "cell_type": "markdown",
   "metadata": {},
   "source": [
    "## 누락된 값 다루기"
   ]
  },
  {
   "cell_type": "code",
   "execution_count": 37,
   "metadata": {},
   "outputs": [
    {
     "data": {
      "text/plain": [
       "array([[ 1.1, 11.1],\n",
       "       [ 2.2, 22.2],\n",
       "       [ 3.3, 33.3],\n",
       "       [ 4.4, 44.4]])"
      ]
     },
     "execution_count": 37,
     "metadata": {},
     "output_type": "execute_result"
    }
   ],
   "source": [
    "# 라이브러리를 임포트합니다.\n",
    "import numpy as np\n",
    "\n",
    "# 특성 행렬을 만듭니다.\n",
    "features = np.array([[1.1, 11.1],\n",
    "                     [2.2, 22.2],\n",
    "                     [3.3, 33.3],\n",
    "                     [4.4, 44.4],\n",
    "                     [np.nan, 55]])\n",
    "\n",
    "# (~ 연산자를 사용하여) 누락된 값이 없는 샘플만 남깁니다.\n",
    "features[~np.isnan(features).any(axis=1)]"
   ]
  },
  {
   "cell_type": "code",
   "execution_count": 38,
   "metadata": {},
   "outputs": [
    {
     "data": {
      "text/html": [
       "<div>\n",
       "<style scoped>\n",
       "    .dataframe tbody tr th:only-of-type {\n",
       "        vertical-align: middle;\n",
       "    }\n",
       "\n",
       "    .dataframe tbody tr th {\n",
       "        vertical-align: top;\n",
       "    }\n",
       "\n",
       "    .dataframe thead th {\n",
       "        text-align: right;\n",
       "    }\n",
       "</style>\n",
       "<table border=\"1\" class=\"dataframe\">\n",
       "  <thead>\n",
       "    <tr style=\"text-align: right;\">\n",
       "      <th></th>\n",
       "      <th>feature_1</th>\n",
       "      <th>feature_2</th>\n",
       "    </tr>\n",
       "  </thead>\n",
       "  <tbody>\n",
       "    <tr>\n",
       "      <th>0</th>\n",
       "      <td>1.1</td>\n",
       "      <td>11.1</td>\n",
       "    </tr>\n",
       "    <tr>\n",
       "      <th>1</th>\n",
       "      <td>2.2</td>\n",
       "      <td>22.2</td>\n",
       "    </tr>\n",
       "    <tr>\n",
       "      <th>2</th>\n",
       "      <td>3.3</td>\n",
       "      <td>33.3</td>\n",
       "    </tr>\n",
       "    <tr>\n",
       "      <th>3</th>\n",
       "      <td>4.4</td>\n",
       "      <td>44.4</td>\n",
       "    </tr>\n",
       "  </tbody>\n",
       "</table>\n",
       "</div>"
      ],
      "text/plain": [
       "   feature_1  feature_2\n",
       "0        1.1       11.1\n",
       "1        2.2       22.2\n",
       "2        3.3       33.3\n",
       "3        4.4       44.4"
      ]
     },
     "execution_count": 38,
     "metadata": {},
     "output_type": "execute_result"
    }
   ],
   "source": [
    "# 라이브러리를 임포트합니다.\n",
    "import pandas as pd\n",
    "\n",
    "# 데이터를 적재합니다.\n",
    "dataframe = pd.DataFrame(features, columns=[\"feature_1\", \"feature_2\"])\n",
    "\n",
    "# 누락된 값이 있는 샘플을 제거합니다.\n",
    "dataframe.dropna()"
   ]
  },
  {
   "cell_type": "code",
   "execution_count": 2,
   "metadata": {},
   "outputs": [
    {
     "name": "stdout",
     "output_type": "stream",
     "text": [
      "실제 값: 0.8730186113995938\n",
      "대체된 값: 1.0955332713113226\n"
     ]
    }
   ],
   "source": [
    "# 라이브러리를 임포트합니다.\n",
    "import numpy as np\n",
    "from fancyimpute import KNN\n",
    "from sklearn.preprocessing import StandardScaler\n",
    "from sklearn.datasets import make_blobs\n",
    "\n",
    "# 모의 특성 행렬을 만듭니다.\n",
    "features, _ = make_blobs(n_samples = 1000,\n",
    "                         n_features = 2,\n",
    "                         random_state = 1)\n",
    "\n",
    "# 특성을 표준화합니다.\n",
    "scaler = StandardScaler()\n",
    "standardized_features = scaler.fit_transform(features)\n",
    "\n",
    "# 첫 번째 샘플의 첫 번째 특성을 삭제합니다.\n",
    "true_value = standardized_features[0,0]\n",
    "standardized_features[0,0] = np.nan\n",
    "\n",
    "# 특성 행렬에 있는 누락된 값을 예측합니다.\n",
    "features_knn_imputed = KNN(k=5, verbose=0).fit_transform(standardized_features)\n",
    "\n",
    "# 실제 값과 대체된 값을 비교합니다.\n",
    "print(\"실제 값:\", true_value)\n",
    "print(\"대체된 값:\", features_knn_imputed[0,0])"
   ]
  },
  {
   "cell_type": "code",
   "execution_count": 3,
   "metadata": {},
   "outputs": [
    {
     "name": "stdout",
     "output_type": "stream",
     "text": [
      "실제 값 True Value: 0.8730186113995938\n",
      "대체된 값 Imputed Value: -3.058372724614996\n"
     ]
    }
   ],
   "source": [
    "from sklearn.impute import SimpleImputer\n",
    "\n",
    "simple_imputer = SimpleImputer()\n",
    "features_simple_imputed = simple_imputer.fit_transform(features)\n",
    "\n",
    "# 실제 값과 대체된 값을 비교합니다.\n",
    "print(\"실제 값 True Value:\", true_value)\n",
    "print(\"대체된 값 Imputed Value:\", features_simple_imputed[0,0])"
   ]
  },
  {
   "cell_type": "markdown",
   "metadata": {},
   "source": [
    "## 데이터 전처리 연습"
   ]
  },
  {
   "cell_type": "markdown",
   "metadata": {},
   "source": [
    "### 비지도학습에서 데이터 전처리"
   ]
  },
  {
   "cell_type": "markdown",
   "metadata": {},
   "source": [
    "!apt-get install -y fonts-nanum\n",
    "!fc-cache -fv\n",
    "!rm ~/.cache/matplotlib -rf"
   ]
  },
  {
   "cell_type": "code",
   "execution_count": 4,
   "metadata": {},
   "outputs": [],
   "source": [
    "import matplotlib.pyplot as plt\n",
    "\n",
    "plt.rc('font', family='NanumBarunGothic') "
   ]
  },
  {
   "cell_type": "code",
   "execution_count": 5,
   "metadata": {},
   "outputs": [],
   "source": [
    "# 데이터 전처리와 스케일 조정을 위한 데이터셋과 패키지 라이브러리 불러오기\n",
    "\n",
    "from sklearn.datasets import load_breast_cancer\n",
    "from sklearn.model_selection import train_test_split"
   ]
  },
  {
   "cell_type": "code",
   "execution_count": 6,
   "metadata": {},
   "outputs": [
    {
     "name": "stdout",
     "output_type": "stream",
     "text": [
      "(426, 30)\n",
      "(143, 30)\n"
     ]
    }
   ],
   "source": [
    "cancer=load_breast_cancer()\n",
    "\n",
    "X_train, X_test, y_train, y_test=train_test_split(cancer.data, cancer.target, random_state=1)\n",
    "print(X_train.shape)\n",
    "print(X_test.shape)"
   ]
  },
  {
   "cell_type": "code",
   "execution_count": 7,
   "metadata": {},
   "outputs": [
    {
     "data": {
      "text/plain": [
       "MinMaxScaler()"
      ]
     },
     "execution_count": 7,
     "metadata": {},
     "output_type": "execute_result"
    }
   ],
   "source": [
    "# 스케일러 작업\n",
    "\n",
    "from sklearn.preprocessing import MinMaxScaler\n",
    "\n",
    "scaler=MinMaxScaler()\n",
    "\n",
    "scaler.fit(X_train)"
   ]
  },
  {
   "cell_type": "code",
   "execution_count": 8,
   "metadata": {},
   "outputs": [
    {
     "name": "stdout",
     "output_type": "stream",
     "text": [
      "변환된 후 크기: (426, 30)\n",
      "스케일 조정 전 특성별 최소값:\n",
      " [6.981e+00 9.710e+00 4.379e+01 1.435e+02 5.263e-02 1.938e-02 0.000e+00\n",
      " 0.000e+00 1.060e-01 5.024e-02 1.153e-01 3.602e-01 7.570e-01 6.802e+00\n",
      " 1.713e-03 2.252e-03 0.000e+00 0.000e+00 9.539e-03 8.948e-04 7.930e+00\n",
      " 1.202e+01 5.041e+01 1.852e+02 7.117e-02 2.729e-02 0.000e+00 0.000e+00\n",
      " 1.566e-01 5.521e-02]\n",
      "스케일 조정 전 특성별 최대값:\n",
      " [2.811e+01 3.928e+01 1.885e+02 2.501e+03 1.634e-01 2.867e-01 4.268e-01\n",
      " 2.012e-01 3.040e-01 9.575e-02 2.873e+00 4.885e+00 2.198e+01 5.422e+02\n",
      " 3.113e-02 1.354e-01 3.960e-01 5.279e-02 6.146e-02 2.984e-02 3.604e+01\n",
      " 4.954e+01 2.512e+02 4.254e+03 2.226e-01 9.379e-01 1.170e+00 2.910e-01\n",
      " 5.774e-01 1.486e-01]\n",
      "스케일 조정 후 특성별 최소값:\n",
      " [0. 0. 0. 0. 0. 0. 0. 0. 0. 0. 0. 0. 0. 0. 0. 0. 0. 0. 0. 0. 0. 0. 0. 0.\n",
      " 0. 0. 0. 0. 0. 0.]\n",
      "스케일 조정 후 특성별 최대값:\n",
      " [1. 1. 1. 1. 1. 1. 1. 1. 1. 1. 1. 1. 1. 1. 1. 1. 1. 1. 1. 1. 1. 1. 1. 1.\n",
      " 1. 1. 1. 1. 1. 1.]\n",
      "스케일 조정 후 특성별 최소값:\n",
      "[ 0.0336031   0.0226581   0.03144219  0.01141039  0.14128374  0.04406704\n",
      "  0.          0.          0.1540404  -0.00615249 -0.00137796  0.00594501\n",
      "  0.00430665  0.00079567  0.03919502  0.0112206   0.          0.\n",
      " -0.03191387  0.00664013  0.02660975  0.05810235  0.02031974  0.00943767\n",
      "  0.1094235   0.02637792  0.          0.         -0.00023764 -0.00182032]\n",
      "스케일 조정 후 특성별 최대값:\n",
      "[0.9578778  0.81501522 0.95577362 0.89353128 0.81132075 1.21958701\n",
      " 0.87956888 0.9333996  0.93232323 1.0371347  0.42669616 0.49765736\n",
      " 0.44117231 0.28371044 0.48703131 0.73863671 0.76717172 0.62928585\n",
      " 1.33685792 0.39057253 0.89612238 0.79317697 0.84859804 0.74488793\n",
      " 0.9154725  1.13188961 1.07008547 0.92371134 1.20532319 1.63068851]\n"
     ]
    }
   ],
   "source": [
    "# 데이터 변환\n",
    "X_train_scaled = scaler.transform(X_train)\n",
    "# 스케일이 조정된 후 데이터셋의 속성을 출력합니다\n",
    "print(\"변환된 후 크기: {}\".format(X_train_scaled.shape))\n",
    "print(\"스케일 조정 전 특성별 최소값:\\n {}\".format(X_train.min(axis=0)))\n",
    "print(\"스케일 조정 전 특성별 최대값:\\n {}\".format(X_train.max(axis=0)))\n",
    "print(\"스케일 조정 후 특성별 최소값:\\n {}\".format(X_train_scaled.min(axis=0)))\n",
    "print(\"스케일 조정 후 특성별 최대값:\\n {}\".format(X_train_scaled.max(axis=0)))\n",
    "\n",
    "# 테스트 데이터 변환\n",
    "X_test_scaled = scaler.transform(X_test)\n",
    "# 스케일이 조정된 후 테스트 데이터의 속성을 출력합니다\n",
    "print(\"스케일 조정 후 특성별 최소값:\\n{}\".format(X_test_scaled.min(axis=0)))\n",
    "print(\"스케일 조정 후 특성별 최대값:\\n{}\".format(X_test_scaled.max(axis=0)))"
   ]
  },
  {
   "cell_type": "code",
   "execution_count": 9,
   "metadata": {},
   "outputs": [
    {
     "name": "stderr",
     "output_type": "stream",
     "text": [
      "/usr/local/lib/python3.7/site-packages/matplotlib/backends/backend_agg.py:238: RuntimeWarning: Glyph 8722 missing from current font.\n",
      "  font.set_text(s, 0.0, flags=flags)\n",
      "/usr/local/lib/python3.7/site-packages/matplotlib/backends/backend_agg.py:201: RuntimeWarning: Glyph 8722 missing from current font.\n",
      "  font.set_text(s, 0, flags=flags)\n"
     ]
    },
    {
     "data": {
      "image/png": "[encoded data removed]",
      "text/plain": [
       "<Figure size 936x288 with 3 Axes>"
      ]
     },
     "metadata": {
      "needs_background": "light"
     },
     "output_type": "display_data"
    }
   ],
   "source": [
    "from sklearn.datasets import make_blobs\n",
    "import matplotlib.pyplot as plt\n",
    "import mglearn\n",
    "\n",
    "# 인위적인 데이터셋 생성\n",
    "X, _ = make_blobs(n_samples=50, centers=5, random_state=4, cluster_std=2)\n",
    "# 훈련 세트와 테스트 세트로 나눕니다\n",
    "X_train, X_test = train_test_split(X, random_state=5, test_size=.1)\n",
    "\n",
    "# 훈련 세트와 테스트 세트의 산점도를 그립니다\n",
    "fig, axes = plt.subplots(1, 3, figsize=(13, 4))\n",
    "axes[0].scatter(X_train[:, 0], X_train[:, 1],\n",
    "                c=mglearn.cm2.colors[0], label=\"훈련 세트\", s=60)\n",
    "axes[0].scatter(X_test[:, 0], X_test[:, 1], marker='^',\n",
    "                c=mglearn.cm2.colors[1], label=\"테스트 세트\", s=60)\n",
    "axes[0].legend(loc='upper left')\n",
    "axes[0].set_title(\"원본 데이터\")\n",
    "\n",
    "# MinMaxScaler를 사용해 스케일을 조정합니다\n",
    "scaler = MinMaxScaler()\n",
    "scaler.fit(X_train)\n",
    "X_train_scaled = scaler.transform(X_train)\n",
    "X_test_scaled = scaler.transform(X_test)\n",
    "\n",
    "# 스케일이 조정된 데이터의 산점도를 그립니다\n",
    "axes[1].scatter(X_train_scaled[:, 0], X_train_scaled[:, 1],\n",
    "                c=mglearn.cm2.colors[0], label=\"훈련 세트\", s=60)\n",
    "axes[1].scatter(X_test_scaled[:, 0], X_test_scaled[:, 1], marker='^',\n",
    "                c=mglearn.cm2.colors[1], label=\"테스트 세트\", s=60)\n",
    "axes[1].set_title(\"스케일 조정된 데이터\")\n",
    "\n",
    "# 테스트 세트의 스케일을 따로 조정합니다\n",
    "# 테스트 세트의 최솟값은 0, 최댓값은 1이 됩니다\n",
    "# 이는 예제를 위한 것으로 절대로 이렇게 사용해서는 안됩니다\n",
    "test_scaler = MinMaxScaler()\n",
    "test_scaler.fit(X_test)\n",
    "X_test_scaled_badly = test_scaler.transform(X_test)\n",
    "\n",
    "# 잘못 조정된 데이터의 산점도를 그립니다\n",
    "axes[2].scatter(X_train_scaled[:, 0], X_train_scaled[:, 1],\n",
    "                c=mglearn.cm2.colors[0], label=\"training set\", s=60)\n",
    "axes[2].scatter(X_test_scaled_badly[:, 0], X_test_scaled_badly[:, 1],\n",
    "                marker='^', c=mglearn.cm2.colors[1], label=\"test set\", s=60)\n",
    "axes[2].set_title(\"잘못 조정된 데이터\")\n",
    "\n",
    "for ax in axes:\n",
    "    ax.set_xlabel(\"특성 0\")\n",
    "    ax.set_ylabel(\"특성 1\")\n",
    "fig.tight_layout()"
   ]
  },
  {
   "cell_type": "code",
   "execution_count": 10,
   "metadata": {},
   "outputs": [],
   "source": [
    "# NOTE fit_transform을 사용하여 한번에 변환하는 방법도 있습니다. (아래 코드 참고)\n",
    "\n",
    "from sklearn.preprocessing import StandardScaler\n",
    "scaler = StandardScaler()\n",
    "# 메소드 체이닝(chaining)을 사용하여 fit과 transform을 연달아 호출합니다\n",
    "X_scaled = scaler.fit(X_train).transform(X_train)\n",
    "# 위와 동일하지만 더 효율적입니다\n",
    "X_scaled_d = scaler.fit_transform(X_train)"
   ]
  },
  {
   "cell_type": "markdown",
   "metadata": {},
   "source": [
    "### 지도 학습에서 데이터 전처리"
   ]
  },
  {
   "cell_type": "code",
   "execution_count": 12,
   "metadata": {},
   "outputs": [
    {
     "name": "stdout",
     "output_type": "stream",
     "text": [
      "테스트 세트 정확도: 0.63\n",
      "스케일 조정된 테스트 세트의 정확도: 0.97\n"
     ]
    }
   ],
   "source": [
    "from sklearn.svm import SVC\n",
    "\n",
    "X_train, X_test, y_train, y_test = train_test_split(cancer.data, cancer.target,\n",
    "                                                    random_state=0)\n",
    "\n",
    "svm = SVC(gamma='auto', C=100)\n",
    "svm.fit(X_train, y_train)\n",
    "print(\"테스트 세트 정확도: {:.2f}\".format(svm.score(X_test, y_test)))\n",
    "\n",
    "# 0~1 사이로 스케일 조정\n",
    "scaler = MinMaxScaler()\n",
    "scaler.fit(X_train)\n",
    "X_train_scaled = scaler.transform(X_train)\n",
    "X_test_scaled = scaler.transform(X_test)\n",
    "\n",
    "# 조정된 데이터로 SVM 학습\n",
    "svm.fit(X_train_scaled, y_train)\n",
    "\n",
    "# 스케일 조정된 테스트 세트의 정확도\n",
    "print(\"스케일 조정된 테스트 세트의 정확도: {:.2f}\".format(svm.score(X_test_scaled, y_test)))\n",
    "\n",
    "# 테스트 세트 정확도: 0.63\n",
    "# 스케일 조정된 테스트 세트의 정확도: 0.97"
   ]
  },
  {
   "cell_type": "code",
   "execution_count": 13,
   "metadata": {},
   "outputs": [
    {
     "name": "stdout",
     "output_type": "stream",
     "text": [
      "[[-1.21386547 -1.37001815]\n",
      " [-0.83053953 -1.08159328]\n",
      " [-0.83053953 -0.50474353]\n",
      " [-0.06388766 -0.21631866]\n",
      " [ 0.70276422 -0.21631866]\n",
      " [-1.21386547 -0.21631866]\n",
      " [ 1.08609016  0.93738084]\n",
      " [ 1.4694161   1.22580572]\n",
      " [ 0.31943828  1.80265546]\n",
      " [ 1.4694161  -1.08159328]\n",
      " [ 0.31943828  1.22580572]\n",
      " [-1.21386547 -0.50474353]]\n"
     ]
    }
   ],
   "source": [
    "import pandas as pd\n",
    "from sklearn.preprocessing import StandardScaler\n",
    "\n",
    "##########데이터 로드\n",
    "\n",
    "#hour, attendance, score\n",
    "df = pd.DataFrame([\n",
    "    [2, 1, 3],\n",
    "    [3, 2, 5],\n",
    "    [3, 4, 7],\n",
    "    [5, 5, 10],\n",
    "    [7, 5, 12],\n",
    "    [2, 5, 7],\n",
    "    [8, 9, 13],\n",
    "    [9, 10, 13],\n",
    "    [6, 12, 12],\n",
    "    [9, 2, 13],\n",
    "    [6, 10, 12],\n",
    "    [2, 4, 6]\n",
    "], columns=['hour', 'attendance', 'score'])\n",
    "\n",
    "##########데이터 분석\n",
    "\n",
    "##########데이터 전처리\n",
    "\n",
    "x_data = df.drop(['score'], axis=1) \n",
    "y_data = df['score']\n",
    "\n",
    "transformer = StandardScaler()\n",
    "transformer.fit(x_data) #StandardScaler 모델에 x_train_df 데이터 적용 (평균, 표준편차 계산)\n",
    "#print(transformer.mean_) #[5.16666667 5.75      ]\n",
    "#print(transformer.var_) #[ 6.80555556 12.02083333]\n",
    "#print(transformer.scale_) #[2.60874597 3.46710734]\n",
    "x_data = transformer.transform(x_data)\n",
    "print(x_data)"
   ]
  },
  {
   "cell_type": "code",
   "execution_count": 14,
   "metadata": {},
   "outputs": [
    {
     "name": "stdout",
     "output_type": "stream",
     "text": [
      "[[-1.21386547 -1.37001815]\n",
      " [-0.83053953 -1.08159328]\n",
      " [-0.83053953 -0.50474353]\n",
      " [-0.06388766 -0.21631866]\n",
      " [ 0.70276422 -0.21631866]\n",
      " [-1.21386547 -0.21631866]\n",
      " [ 1.08609016  0.93738084]\n",
      " [ 1.4694161   1.22580572]\n",
      " [ 0.31943828  1.80265546]\n",
      " [ 1.4694161  -1.08159328]\n",
      " [ 0.31943828  1.22580572]\n",
      " [-1.21386547 -0.50474353]]\n"
     ]
    }
   ],
   "source": [
    "import numpy as np\n",
    "from sklearn.preprocessing import StandardScaler\n",
    "\n",
    "##########데이터 로드\n",
    "\n",
    "#hour, attendance\n",
    "x_data = np.array([\n",
    "    [2, 1],\n",
    "    [3, 2],\n",
    "    [3, 4],\n",
    "    [5, 5],\n",
    "    [7, 5],\n",
    "    [2, 5],\n",
    "    [8, 9],\n",
    "    [9, 10],\n",
    "    [6, 12],\n",
    "    [9, 2],\n",
    "    [6, 10],\n",
    "    [2, 4]\n",
    "])\n",
    "\n",
    "##########데이터 분석\n",
    "\n",
    "##########데이터 전처리\n",
    "\n",
    "transformer = StandardScaler()\n",
    "transformer.fit(x_data) #StandardScaler 모델에 x_train_df 데이터 적용 (평균, 표준편차 계산)\n",
    "#print(transformer.mean_) #[5.16666667 5.75      ]\n",
    "#print(transformer.var_) #[ 6.80555556 12.02083333]\n",
    "#print(transformer.scale_) #[2.60874597 3.46710734]\n",
    "x_data = transformer.transform(x_data)\n",
    "print(x_data)"
   ]
  },
  {
   "cell_type": "code",
   "execution_count": 15,
   "metadata": {},
   "outputs": [
    {
     "name": "stdout",
     "output_type": "stream",
     "text": [
      "[[-1.21386547 -1.37001815]\n",
      " [-0.83053953 -1.08159328]\n",
      " [-0.83053953 -0.50474353]\n",
      " [-0.06388766 -0.21631866]\n",
      " [ 0.70276422 -0.21631866]\n",
      " [-1.21386547 -0.21631866]\n",
      " [ 1.08609016  0.93738084]\n",
      " [ 1.4694161   1.22580572]\n",
      " [ 0.31943828  1.80265546]\n",
      " [ 1.4694161  -1.08159328]\n",
      " [ 0.31943828  1.22580572]\n",
      " [-1.21386547 -0.50474353]]\n"
     ]
    }
   ],
   "source": [
    "##########데이터 전처리\n",
    "\n",
    "from sklearn.preprocessing import scale\n",
    "\n",
    "x_data = scale(x_data)\n",
    "print(x_data)"
   ]
  },
  {
   "cell_type": "markdown",
   "metadata": {},
   "source": [
    "# Data Wrangling과 데이터 "
   ]
  },
  {
   "cell_type": "markdown",
   "metadata": {},
   "source": [
    "## 범주형 데이터와 Data Wrangling "
   ]
  },
  {
   "cell_type": "markdown",
   "metadata": {},
   "source": [
    "### One hot encoding"
   ]
  },
  {
   "cell_type": "code",
   "execution_count": 9,
   "metadata": {},
   "outputs": [
    {
     "data": {
      "text/plain": [
       "['봄상품', '여름상품', '가을상품', '겨울상품', '세일상품', 'ETC']"
      ]
     },
     "execution_count": 9,
     "metadata": {},
     "output_type": "execute_result"
    }
   ],
   "source": [
    "# 1. 데이터 셋 생성\n",
    "\n",
    "from sklearn.preprocessing import LabelEncoder\n",
    "\n",
    "Items=['봄상품','여름상품','가을상품','겨울상품','세일상품','ETC']\n",
    "\n",
    "Items"
   ]
  },
  {
   "cell_type": "code",
   "execution_count": 10,
   "metadata": {},
   "outputs": [
    {
     "name": "stdout",
     "output_type": "stream",
     "text": [
      "인코딩 전 값 :  ['봄상품', '여름상품', '가을상품', '겨울상품', '세일상품', 'ETC']\n",
      "인코딩 후 값 :  [3 5 1 2 4 0]\n"
     ]
    }
   ],
   "source": [
    "# 2. Lable encoding\n",
    "\n",
    "# LabelEncoder 객체 생성 > fit()와 transform()을 이용해 레이블화함\n",
    "\n",
    "encoder=LabelEncoder()\n",
    "\n",
    "encoder.fit(Items)\n",
    "\n",
    "labels=encoder.transform(Items)\n",
    "\n",
    "print('인코딩 전 값 : ', Items)\n",
    "print('인코딩 후 값 : ', labels)"
   ]
  },
  {
   "cell_type": "code",
   "execution_count": 11,
   "metadata": {},
   "outputs": [
    {
     "name": "stdout",
     "output_type": "stream",
     "text": [
      "인코딩 전 값 :  ['봄상품', '여름상품', '가을상품', '겨울상품', '세일상품', 'ETC']\n",
      "인코딩 labels1 :  [3 5 1 2 4 0]\n",
      "인코딩 labels2 :  [[3]\n",
      " [5]\n",
      " [1]\n",
      " [2]\n",
      " [4]\n",
      " [0]]\n",
      "인코딩 후 값 :    (0, 3)\t1.0\n",
      "  (1, 5)\t1.0\n",
      "  (2, 1)\t1.0\n",
      "  (3, 2)\t1.0\n",
      "  (4, 4)\t1.0\n",
      "  (5, 0)\t1.0\n",
      "인코딩 후 데이터 값 : \n",
      "[[0. 0. 0. 1. 0. 0.]\n",
      " [0. 0. 0. 0. 0. 1.]\n",
      " [0. 1. 0. 0. 0. 0.]\n",
      " [0. 0. 1. 0. 0. 0.]\n",
      " [0. 0. 0. 0. 1. 0.]\n",
      " [1. 0. 0. 0. 0. 0.]]\n",
      "인코딩 후 차원 :  (6, 6)\n"
     ]
    }
   ],
   "source": [
    "# 3. One hot encoding\n",
    "# 3-1. 사이킷런 사용\n",
    "\n",
    "from sklearn.preprocessing import OneHotEncoder\n",
    "\n",
    "# LabelEncoder 변환\n",
    "encoder=LabelEncoder()\n",
    "encoder.fit(Items)\n",
    "labels1=encoder.transform(Items)\n",
    "\n",
    "# 2차원 데이터 변환\n",
    "labels2=labels1.reshape(-1,1)\n",
    "\n",
    "# 원-핫 인코딩\n",
    "onehot_encoder=OneHotEncoder()\n",
    "onehot_encoder.fit(labels2)\n",
    "onehot_labels=onehot_encoder.transform(labels2)\n",
    "\n",
    "\n",
    "print('인코딩 전 값 : ', Items)\n",
    "print('인코딩 labels1 : ', labels1)\n",
    "print('인코딩 labels2 : ', labels2)\n",
    "print('인코딩 후 값 : ', onehot_labels)\n",
    "print('인코딩 후 데이터 값 : ')\n",
    "print(onehot_labels.toarray())\n",
    "print('인코딩 후 차원 : ', onehot_labels.shape)"
   ]
  },
  {
   "cell_type": "code",
   "execution_count": 12,
   "metadata": {},
   "outputs": [],
   "source": [
    "# 3-2 판다스를 이용한 원-핫 인코딩\n",
    "import pandas as pd"
   ]
  },
  {
   "cell_type": "code",
   "execution_count": 13,
   "metadata": {},
   "outputs": [
    {
     "data": {
      "text/html": [
       "<div>\n",
       "<style scoped>\n",
       "    .dataframe tbody tr th:only-of-type {\n",
       "        vertical-align: middle;\n",
       "    }\n",
       "\n",
       "    .dataframe tbody tr th {\n",
       "        vertical-align: top;\n",
       "    }\n",
       "\n",
       "    .dataframe thead th {\n",
       "        text-align: right;\n",
       "    }\n",
       "</style>\n",
       "<table border=\"1\" class=\"dataframe\">\n",
       "  <thead>\n",
       "    <tr style=\"text-align: right;\">\n",
       "      <th></th>\n",
       "      <th>Items</th>\n",
       "    </tr>\n",
       "  </thead>\n",
       "  <tbody>\n",
       "    <tr>\n",
       "      <th>0</th>\n",
       "      <td>봄상품</td>\n",
       "    </tr>\n",
       "    <tr>\n",
       "      <th>1</th>\n",
       "      <td>여름상품</td>\n",
       "    </tr>\n",
       "    <tr>\n",
       "      <th>2</th>\n",
       "      <td>가을상품</td>\n",
       "    </tr>\n",
       "    <tr>\n",
       "      <th>3</th>\n",
       "      <td>겨울상품</td>\n",
       "    </tr>\n",
       "    <tr>\n",
       "      <th>4</th>\n",
       "      <td>세일상품</td>\n",
       "    </tr>\n",
       "    <tr>\n",
       "      <th>5</th>\n",
       "      <td>ETC</td>\n",
       "    </tr>\n",
       "  </tbody>\n",
       "</table>\n",
       "</div>"
      ],
      "text/plain": [
       "  Items\n",
       "0   봄상품\n",
       "1  여름상품\n",
       "2  가을상품\n",
       "3  겨울상품\n",
       "4  세일상품\n",
       "5   ETC"
      ]
     },
     "execution_count": 13,
     "metadata": {},
     "output_type": "execute_result"
    }
   ],
   "source": [
    "df=pd.DataFrame(\n",
    "    {\n",
    "        'Items':['봄상품','여름상품','가을상품','겨울상품','세일상품','ETC']\n",
    "    }\n",
    ")\n",
    "\n",
    "df"
   ]
  },
  {
   "cell_type": "code",
   "execution_count": 14,
   "metadata": {},
   "outputs": [
    {
     "data": {
      "text/html": [
       "<div>\n",
       "<style scoped>\n",
       "    .dataframe tbody tr th:only-of-type {\n",
       "        vertical-align: middle;\n",
       "    }\n",
       "\n",
       "    .dataframe tbody tr th {\n",
       "        vertical-align: top;\n",
       "    }\n",
       "\n",
       "    .dataframe thead th {\n",
       "        text-align: right;\n",
       "    }\n",
       "</style>\n",
       "<table border=\"1\" class=\"dataframe\">\n",
       "  <thead>\n",
       "    <tr style=\"text-align: right;\">\n",
       "      <th></th>\n",
       "      <th>Items_ETC</th>\n",
       "      <th>Items_가을상품</th>\n",
       "      <th>Items_겨울상품</th>\n",
       "      <th>Items_봄상품</th>\n",
       "      <th>Items_세일상품</th>\n",
       "      <th>Items_여름상품</th>\n",
       "    </tr>\n",
       "  </thead>\n",
       "  <tbody>\n",
       "    <tr>\n",
       "      <th>0</th>\n",
       "      <td>0</td>\n",
       "      <td>0</td>\n",
       "      <td>0</td>\n",
       "      <td>1</td>\n",
       "      <td>0</td>\n",
       "      <td>0</td>\n",
       "    </tr>\n",
       "    <tr>\n",
       "      <th>1</th>\n",
       "      <td>0</td>\n",
       "      <td>0</td>\n",
       "      <td>0</td>\n",
       "      <td>0</td>\n",
       "      <td>0</td>\n",
       "      <td>1</td>\n",
       "    </tr>\n",
       "    <tr>\n",
       "      <th>2</th>\n",
       "      <td>0</td>\n",
       "      <td>1</td>\n",
       "      <td>0</td>\n",
       "      <td>0</td>\n",
       "      <td>0</td>\n",
       "      <td>0</td>\n",
       "    </tr>\n",
       "    <tr>\n",
       "      <th>3</th>\n",
       "      <td>0</td>\n",
       "      <td>0</td>\n",
       "      <td>1</td>\n",
       "      <td>0</td>\n",
       "      <td>0</td>\n",
       "      <td>0</td>\n",
       "    </tr>\n",
       "    <tr>\n",
       "      <th>4</th>\n",
       "      <td>0</td>\n",
       "      <td>0</td>\n",
       "      <td>0</td>\n",
       "      <td>0</td>\n",
       "      <td>1</td>\n",
       "      <td>0</td>\n",
       "    </tr>\n",
       "    <tr>\n",
       "      <th>5</th>\n",
       "      <td>1</td>\n",
       "      <td>0</td>\n",
       "      <td>0</td>\n",
       "      <td>0</td>\n",
       "      <td>0</td>\n",
       "      <td>0</td>\n",
       "    </tr>\n",
       "  </tbody>\n",
       "</table>\n",
       "</div>"
      ],
      "text/plain": [
       "   Items_ETC  Items_가을상품  Items_겨울상품  Items_봄상품  Items_세일상품  Items_여름상품\n",
       "0          0           0           0          1           0           0\n",
       "1          0           0           0          0           0           1\n",
       "2          0           1           0          0           0           0\n",
       "3          0           0           1          0           0           0\n",
       "4          0           0           0          0           1           0\n",
       "5          1           0           0          0           0           0"
      ]
     },
     "execution_count": 14,
     "metadata": {},
     "output_type": "execute_result"
    }
   ],
   "source": [
    "# 원-핫 인코딩\n",
    "pd.get_dummies(df)"
   ]
  },
  {
   "cell_type": "markdown",
   "metadata": {},
   "source": [
    "### 1.순서가 없는 범주형 특성 인코딩"
   ]
  },
  {
   "cell_type": "code",
   "execution_count": 15,
   "metadata": {},
   "outputs": [
    {
     "data": {
      "text/plain": [
       "array([['Seoul'],\n",
       "       ['Busan'],\n",
       "       ['GwangWon'],\n",
       "       ['KyeongKi'],\n",
       "       ['Daejun']], dtype='<U8')"
      ]
     },
     "execution_count": 15,
     "metadata": {},
     "output_type": "execute_result"
    }
   ],
   "source": [
    "import numpy as np\n",
    "from sklearn.preprocessing import LabelBinarizer, MultiLabelBinarizer\n",
    "\n",
    "# 특성 생성\n",
    "feature=np.array(\n",
    "    [\n",
    "     [\"Seoul\"],\n",
    "     [\"Busan\"],\n",
    "     [\"GwangWon\"],\n",
    "     [\"KyeongKi\"],\n",
    "     [\"Daejun\"]\n",
    "    ]\n",
    ")\n",
    "\n",
    "feature"
   ]
  },
  {
   "cell_type": "code",
   "execution_count": 16,
   "metadata": {},
   "outputs": [
    {
     "data": {
      "text/plain": [
       "array([[0, 0, 0, 0, 1],\n",
       "       [1, 0, 0, 0, 0],\n",
       "       [0, 0, 1, 0, 0],\n",
       "       [0, 0, 0, 1, 0],\n",
       "       [0, 1, 0, 0, 0]])"
      ]
     },
     "execution_count": 16,
     "metadata": {},
     "output_type": "execute_result"
    }
   ],
   "source": [
    "# 원-핫 인코딩\n",
    "oh=LabelBinarizer()\n",
    "\n",
    "oh.fit_transform(feature)"
   ]
  },
  {
   "cell_type": "code",
   "execution_count": 17,
   "metadata": {},
   "outputs": [
    {
     "data": {
      "text/plain": [
       "array(['Busan', 'Daejun', 'GwangWon', 'KyeongKi', 'Seoul'], dtype='<U8')"
      ]
     },
     "execution_count": 17,
     "metadata": {},
     "output_type": "execute_result"
    }
   ],
   "source": [
    "# 인코딩 데이터에 대한 원래 특성 클래스를 확인\n",
    "oh.classes_"
   ]
  },
  {
   "cell_type": "code",
   "execution_count": 18,
   "metadata": {},
   "outputs": [
    {
     "data": {
      "text/plain": [
       "array(['Seoul', 'Busan', 'GwangWon', 'KyeongKi', 'Daejun'], dtype='<U8')"
      ]
     },
     "execution_count": 18,
     "metadata": {},
     "output_type": "execute_result"
    }
   ],
   "source": [
    "# 원-핫 인코딩을 되돌리기\n",
    "oh.inverse_transform(oh.transform(feature))"
   ]
  },
  {
   "cell_type": "code",
   "execution_count": 19,
   "metadata": {},
   "outputs": [
    {
     "data": {
      "text/html": [
       "<div>\n",
       "<style scoped>\n",
       "    .dataframe tbody tr th:only-of-type {\n",
       "        vertical-align: middle;\n",
       "    }\n",
       "\n",
       "    .dataframe tbody tr th {\n",
       "        vertical-align: top;\n",
       "    }\n",
       "\n",
       "    .dataframe thead th {\n",
       "        text-align: right;\n",
       "    }\n",
       "</style>\n",
       "<table border=\"1\" class=\"dataframe\">\n",
       "  <thead>\n",
       "    <tr style=\"text-align: right;\">\n",
       "      <th></th>\n",
       "      <th>Busan</th>\n",
       "      <th>Daejun</th>\n",
       "      <th>GwangWon</th>\n",
       "      <th>KyeongKi</th>\n",
       "      <th>Seoul</th>\n",
       "    </tr>\n",
       "  </thead>\n",
       "  <tbody>\n",
       "    <tr>\n",
       "      <th>0</th>\n",
       "      <td>0</td>\n",
       "      <td>0</td>\n",
       "      <td>0</td>\n",
       "      <td>0</td>\n",
       "      <td>1</td>\n",
       "    </tr>\n",
       "    <tr>\n",
       "      <th>1</th>\n",
       "      <td>1</td>\n",
       "      <td>0</td>\n",
       "      <td>0</td>\n",
       "      <td>0</td>\n",
       "      <td>0</td>\n",
       "    </tr>\n",
       "    <tr>\n",
       "      <th>2</th>\n",
       "      <td>0</td>\n",
       "      <td>0</td>\n",
       "      <td>1</td>\n",
       "      <td>0</td>\n",
       "      <td>0</td>\n",
       "    </tr>\n",
       "    <tr>\n",
       "      <th>3</th>\n",
       "      <td>0</td>\n",
       "      <td>0</td>\n",
       "      <td>0</td>\n",
       "      <td>1</td>\n",
       "      <td>0</td>\n",
       "    </tr>\n",
       "    <tr>\n",
       "      <th>4</th>\n",
       "      <td>0</td>\n",
       "      <td>1</td>\n",
       "      <td>0</td>\n",
       "      <td>0</td>\n",
       "      <td>0</td>\n",
       "    </tr>\n",
       "  </tbody>\n",
       "</table>\n",
       "</div>"
      ],
      "text/plain": [
       "   Busan  Daejun  GwangWon  KyeongKi  Seoul\n",
       "0      0       0         0         0      1\n",
       "1      1       0         0         0      0\n",
       "2      0       0         1         0      0\n",
       "3      0       0         0         1      0\n",
       "4      0       1         0         0      0"
      ]
     },
     "execution_count": 19,
     "metadata": {},
     "output_type": "execute_result"
    }
   ],
   "source": [
    "# 판다스 이용\n",
    "import pandas as pd\n",
    "\n",
    "# pd.get_dummies(feature) 에러납니다.\n",
    "\n",
    "pd.get_dummies(feature[:,0])"
   ]
  },
  {
   "cell_type": "code",
   "execution_count": 20,
   "metadata": {},
   "outputs": [
    {
     "data": {
      "text/plain": [
       "array([[0, 0, 0, 1, 1],\n",
       "       [1, 1, 0, 0, 0],\n",
       "       [0, 0, 0, 1, 1],\n",
       "       [0, 0, 1, 1, 0],\n",
       "       [1, 0, 0, 0, 1]])"
      ]
     },
     "execution_count": 20,
     "metadata": {},
     "output_type": "execute_result"
    }
   ],
   "source": [
    "# 다중 클래스 특성을 만듭니다.\n",
    "multiclass_feature = [(\"Texas\", \"Florida\"),\n",
    "                      (\"California\", \"Alabama\"),\n",
    "                      (\"Texas\", \"Florida\"),\n",
    "                      (\"Delware\", \"Florida\"),\n",
    "                      (\"Texas\", \"Alabama\")]\n",
    "\n",
    "# 다중 클래스 원-핫 인코더를 만듭니다.\n",
    "one_hot_multiclass = MultiLabelBinarizer()\n",
    "\n",
    "# 다중 클래스 특성을 원-핫 인코딩합니다.\n",
    "one_hot_multiclass.fit_transform(multiclass_feature)"
   ]
  },
  {
   "cell_type": "code",
   "execution_count": 21,
   "metadata": {},
   "outputs": [
    {
     "data": {
      "text/plain": [
       "array(['Alabama', 'California', 'Delware', 'Florida', 'Texas'],\n",
       "      dtype=object)"
      ]
     },
     "execution_count": 21,
     "metadata": {},
     "output_type": "execute_result"
    }
   ],
   "source": [
    "# 클래스를 확인합니다.\n",
    "one_hot_multiclass.classes_"
   ]
  },
  {
   "cell_type": "code",
   "execution_count": 22,
   "metadata": {},
   "outputs": [
    {
     "data": {
      "text/plain": [
       "array([[0., 0., 1., 1., 0.],\n",
       "       [1., 0., 0., 1., 0.],\n",
       "       [0., 0., 1., 0., 1.],\n",
       "       [0., 1., 0., 1., 0.],\n",
       "       [0., 0., 1., 1., 0.]])"
      ]
     },
     "execution_count": 22,
     "metadata": {},
     "output_type": "execute_result"
    }
   ],
   "source": [
    "from sklearn.preprocessing import OneHotEncoder\n",
    "\n",
    "# 여러 개의 열이 있는 특성 배열을 만듭니다.\n",
    "feature = np.array([[\"Texas\", 1],\n",
    "                    [\"California\", 1],\n",
    "                    [\"Texas\", 3],\n",
    "                    [\"Delaware\", 1],\n",
    "                    [\"Texas\", 1]])\n",
    "\n",
    "one_hot_encoder = OneHotEncoder(sparse=False)\n",
    "one_hot_encoder.fit_transform(feature)"
   ]
  },
  {
   "cell_type": "code",
   "execution_count": 23,
   "metadata": {},
   "outputs": [
    {
     "data": {
      "text/plain": [
       "[array(['California', 'Delaware', 'Texas'], dtype='<U10'),\n",
       " array(['1', '3'], dtype='<U10')]"
      ]
     },
     "execution_count": 23,
     "metadata": {},
     "output_type": "execute_result"
    }
   ],
   "source": [
    "one_hot_encoder.categories_"
   ]
  },
  {
   "cell_type": "markdown",
   "metadata": {},
   "source": [
    "### 2.순서가 있는 범주형 데이터 특성 인코딩"
   ]
  },
  {
   "cell_type": "code",
   "execution_count": 24,
   "metadata": {},
   "outputs": [
    {
     "data": {
      "text/html": [
       "<div>\n",
       "<style scoped>\n",
       "    .dataframe tbody tr th:only-of-type {\n",
       "        vertical-align: middle;\n",
       "    }\n",
       "\n",
       "    .dataframe tbody tr th {\n",
       "        vertical-align: top;\n",
       "    }\n",
       "\n",
       "    .dataframe thead th {\n",
       "        text-align: right;\n",
       "    }\n",
       "</style>\n",
       "<table border=\"1\" class=\"dataframe\">\n",
       "  <thead>\n",
       "    <tr style=\"text-align: right;\">\n",
       "      <th></th>\n",
       "      <th>Score</th>\n",
       "    </tr>\n",
       "  </thead>\n",
       "  <tbody>\n",
       "    <tr>\n",
       "      <th>0</th>\n",
       "      <td>Low</td>\n",
       "    </tr>\n",
       "    <tr>\n",
       "      <th>1</th>\n",
       "      <td>Low</td>\n",
       "    </tr>\n",
       "    <tr>\n",
       "      <th>2</th>\n",
       "      <td>Medium</td>\n",
       "    </tr>\n",
       "    <tr>\n",
       "      <th>3</th>\n",
       "      <td>Medium</td>\n",
       "    </tr>\n",
       "    <tr>\n",
       "      <th>4</th>\n",
       "      <td>High</td>\n",
       "    </tr>\n",
       "  </tbody>\n",
       "</table>\n",
       "</div>"
      ],
      "text/plain": [
       "    Score\n",
       "0     Low\n",
       "1     Low\n",
       "2  Medium\n",
       "3  Medium\n",
       "4    High"
      ]
     },
     "execution_count": 24,
     "metadata": {},
     "output_type": "execute_result"
    }
   ],
   "source": [
    "# 데이터 셋 생성\n",
    "import pandas as pd\n",
    "\n",
    "df=pd.DataFrame(\n",
    "    {\n",
    "        \"Score\":[\"Low\",\"Low\",\"Medium\",\"Medium\",\"High\"]\n",
    "    }\n",
    ")\n",
    "\n",
    "df"
   ]
  },
  {
   "cell_type": "code",
   "execution_count": 25,
   "metadata": {},
   "outputs": [
    {
     "data": {
      "text/plain": [
       "0    1\n",
       "1    1\n",
       "2    2\n",
       "3    2\n",
       "4    3\n",
       "Name: Score, dtype: int64"
      ]
     },
     "execution_count": 25,
     "metadata": {},
     "output_type": "execute_result"
    }
   ],
   "source": [
    "# 순서를 매핑 딕셔너리 만듭니다.\n",
    "\n",
    "seq_mapper={\n",
    "    \"Low\":1,\n",
    "    \"Medium\":2,\n",
    "    \"High\":3\n",
    "}\n",
    "\n",
    "# 특성을 점수로 변환\n",
    "df[\"Score\"].replace(seq_mapper)"
   ]
  },
  {
   "cell_type": "code",
   "execution_count": 26,
   "metadata": {},
   "outputs": [
    {
     "data": {
      "text/plain": [
       "array([[1., 0.],\n",
       "       [0., 2.],\n",
       "       [2., 1.]])"
      ]
     },
     "execution_count": 26,
     "metadata": {},
     "output_type": "execute_result"
    }
   ],
   "source": [
    "# 순서대로 \n",
    "from sklearn.preprocessing import OrdinalEncoder\n",
    "\n",
    "features = np.array([[\"Low\", 10],\n",
    "                     [\"High\", 50],\n",
    "                     [\"Medium\", 3]])\n",
    "\n",
    "ordinal_encoder = OrdinalEncoder()\n",
    "ordinal_encoder.fit_transform(features)"
   ]
  },
  {
   "cell_type": "code",
   "execution_count": 27,
   "metadata": {},
   "outputs": [
    {
     "data": {
      "text/plain": [
       "[array(['High', 'Low', 'Medium'], dtype='<U6'),\n",
       " array(['10', '3', '50'], dtype='<U6')]"
      ]
     },
     "execution_count": 27,
     "metadata": {},
     "output_type": "execute_result"
    }
   ],
   "source": [
    "ordinal_encoder.categories_"
   ]
  },
  {
   "cell_type": "markdown",
   "metadata": {},
   "source": [
    "### 특성의 딕셔너리를 인코딩하기"
   ]
  },
  {
   "cell_type": "code",
   "execution_count": 28,
   "metadata": {},
   "outputs": [
    {
     "data": {
      "text/plain": [
       "array([[4., 2., 0.],\n",
       "       [3., 4., 0.],\n",
       "       [0., 1., 2.],\n",
       "       [0., 2., 2.]])"
      ]
     },
     "execution_count": 28,
     "metadata": {},
     "output_type": "execute_result"
    }
   ],
   "source": [
    "# 라이브러리를 임포트합니다.\n",
    "from sklearn.feature_extraction import DictVectorizer\n",
    "\n",
    "# 딕셔너리를 만듭니다.\n",
    "data_dict = [{\"Red\": 2, \"Blue\": 4},\n",
    "             {\"Red\": 4, \"Blue\": 3},\n",
    "             {\"Red\": 1, \"Yellow\": 2},\n",
    "             {\"Red\": 2, \"Yellow\": 2}]\n",
    "\n",
    "# DictVectorizer 객체를 만듭니다.\n",
    "dictvectorizer = DictVectorizer(sparse=False)\n",
    "\n",
    "# 딕셔너리를 특성 행렬로 변환합니다.\n",
    "features = dictvectorizer.fit_transform(data_dict)\n",
    "\n",
    "# 특성 행렬을 확인합니다.\n",
    "features"
   ]
  },
  {
   "cell_type": "code",
   "execution_count": 29,
   "metadata": {},
   "outputs": [
    {
     "data": {
      "text/plain": [
       "['Blue', 'Red', 'Yellow']"
      ]
     },
     "execution_count": 29,
     "metadata": {},
     "output_type": "execute_result"
    }
   ],
   "source": [
    "# 특성 이름을 얻습니다.\n",
    "feature_names = dictvectorizer.get_feature_names()\n",
    "\n",
    "# 특성 이름을 확인합니다.\n",
    "feature_names"
   ]
  },
  {
   "cell_type": "code",
   "execution_count": 30,
   "metadata": {},
   "outputs": [
    {
     "data": {
      "text/html": [
       "<div>\n",
       "<style scoped>\n",
       "    .dataframe tbody tr th:only-of-type {\n",
       "        vertical-align: middle;\n",
       "    }\n",
       "\n",
       "    .dataframe tbody tr th {\n",
       "        vertical-align: top;\n",
       "    }\n",
       "\n",
       "    .dataframe thead th {\n",
       "        text-align: right;\n",
       "    }\n",
       "</style>\n",
       "<table border=\"1\" class=\"dataframe\">\n",
       "  <thead>\n",
       "    <tr style=\"text-align: right;\">\n",
       "      <th></th>\n",
       "      <th>Blue</th>\n",
       "      <th>Red</th>\n",
       "      <th>Yellow</th>\n",
       "    </tr>\n",
       "  </thead>\n",
       "  <tbody>\n",
       "    <tr>\n",
       "      <th>0</th>\n",
       "      <td>4.0</td>\n",
       "      <td>2.0</td>\n",
       "      <td>0.0</td>\n",
       "    </tr>\n",
       "    <tr>\n",
       "      <th>1</th>\n",
       "      <td>3.0</td>\n",
       "      <td>4.0</td>\n",
       "      <td>0.0</td>\n",
       "    </tr>\n",
       "    <tr>\n",
       "      <th>2</th>\n",
       "      <td>0.0</td>\n",
       "      <td>1.0</td>\n",
       "      <td>2.0</td>\n",
       "    </tr>\n",
       "    <tr>\n",
       "      <th>3</th>\n",
       "      <td>0.0</td>\n",
       "      <td>2.0</td>\n",
       "      <td>2.0</td>\n",
       "    </tr>\n",
       "  </tbody>\n",
       "</table>\n",
       "</div>"
      ],
      "text/plain": [
       "   Blue  Red  Yellow\n",
       "0   4.0  2.0     0.0\n",
       "1   3.0  4.0     0.0\n",
       "2   0.0  1.0     2.0\n",
       "3   0.0  2.0     2.0"
      ]
     },
     "execution_count": 30,
     "metadata": {},
     "output_type": "execute_result"
    }
   ],
   "source": [
    "# 라이브러리를 임포트합니다.\n",
    "import pandas as pd\n",
    "\n",
    "# 특성으로 데이터프레임을 만듭니다.\n",
    "pd.DataFrame(features, columns=feature_names)"
   ]
  },
  {
   "cell_type": "code",
   "execution_count": 31,
   "metadata": {},
   "outputs": [
    {
     "data": {
      "text/plain": [
       "array([[4., 2., 0.],\n",
       "       [3., 4., 0.],\n",
       "       [0., 1., 2.],\n",
       "       [0., 2., 2.]])"
      ]
     },
     "execution_count": 31,
     "metadata": {},
     "output_type": "execute_result"
    }
   ],
   "source": [
    "# 네 개의 문서에 대한 단어 카운트 딕셔너리를 만듭니다.\n",
    "doc_1_word_count = {\"Red\": 2, \"Blue\": 4}\n",
    "doc_2_word_count = {\"Red\": 4, \"Blue\": 3}\n",
    "doc_3_word_count = {\"Red\": 1, \"Yellow\": 2}\n",
    "doc_4_word_count = {\"Red\": 2, \"Yellow\": 2}\n",
    "\n",
    "# 리스트를 만듭니다.\n",
    "doc_word_counts = [doc_1_word_count,\n",
    "                   doc_2_word_count,\n",
    "                   doc_3_word_count,\n",
    "                   doc_4_word_count]\n",
    "\n",
    "# 단어 카운트 딕셔너리를 특성 행렬로 변환합니다.\n",
    "dictvectorizer.fit_transform(doc_word_counts)"
   ]
  },
  {
   "cell_type": "markdown",
   "metadata": {},
   "source": [
    "### 범주형 데이터에서의 결측치 처리"
   ]
  },
  {
   "cell_type": "code",
   "execution_count": 32,
   "metadata": {},
   "outputs": [
    {
     "data": {
      "text/plain": [
       "array([[ 0.  ,  2.1 ,  1.45],\n",
       "       [ 1.  ,  1.18,  1.33],\n",
       "       [ 0.  ,  1.22,  1.27],\n",
       "       [ 1.  , -0.21, -1.19]])"
      ]
     },
     "execution_count": 32,
     "metadata": {},
     "output_type": "execute_result"
    }
   ],
   "source": [
    "# 결측치가 있는 데이터 셋 생성\n",
    "\n",
    "import numpy as np\n",
    "from sklearn.neighbors import KNeighborsClassifier\n",
    "\n",
    "X = np.array([[0, 2.10, 1.45],\n",
    "              [1, 1.18, 1.33],\n",
    "              [0, 1.22, 1.27],\n",
    "              [1, -0.21, -1.19]])\n",
    "\n",
    "X"
   ]
  },
  {
   "cell_type": "code",
   "execution_count": 33,
   "metadata": {},
   "outputs": [
    {
     "data": {
      "text/plain": [
       "array([[  nan,  0.87,  1.31],\n",
       "       [  nan, -0.67, -0.34]])"
      ]
     },
     "execution_count": 33,
     "metadata": {},
     "output_type": "execute_result"
    }
   ],
   "source": [
    "# 결측치 추가\n",
    "X_with_nan=np.array(\n",
    "    [\n",
    "     [np.nan, 0.87, 1.31],\n",
    "     [np.nan, -0.67, -0.34]\n",
    "    ]\n",
    ")\n",
    "\n",
    "X_with_nan"
   ]
  },
  {
   "cell_type": "code",
   "execution_count": 34,
   "metadata": {},
   "outputs": [],
   "source": [
    "# KNN 모델 학습\n",
    "knn_m=KNeighborsClassifier(3, weights='distance')\n",
    "trained_model=knn_m.fit(X[:,1:], X[:,0])"
   ]
  },
  {
   "cell_type": "code",
   "execution_count": 35,
   "metadata": {},
   "outputs": [],
   "source": [
    "#결측치 예측\n",
    "im_values=trained_model.predict(X_with_nan[:,1:])"
   ]
  },
  {
   "cell_type": "code",
   "execution_count": 36,
   "metadata": {},
   "outputs": [],
   "source": [
    "# 결측치 예측값과 원본 특성을 열로 합친다\n",
    "X_plus_im_values= np.hstack((im_values.reshape(-1,1), X_with_nan[:,1:]))"
   ]
  },
  {
   "cell_type": "code",
   "execution_count": 37,
   "metadata": {},
   "outputs": [
    {
     "data": {
      "text/plain": [
       "array([[ 0.  ,  0.87,  1.31],\n",
       "       [ 1.  , -0.67, -0.34],\n",
       "       [ 0.  ,  2.1 ,  1.45],\n",
       "       [ 1.  ,  1.18,  1.33],\n",
       "       [ 0.  ,  1.22,  1.27],\n",
       "       [ 1.  , -0.21, -1.19]])"
      ]
     },
     "execution_count": 37,
     "metadata": {},
     "output_type": "execute_result"
    }
   ],
   "source": [
    "# 두 특성 행렬을 연결\n",
    "np.vstack((X_plus_im_values, X))"
   ]
  },
  {
   "cell_type": "code",
   "execution_count": 38,
   "metadata": {},
   "outputs": [],
   "source": [
    "from sklearn.impute import SimpleImputer"
   ]
  },
  {
   "cell_type": "code",
   "execution_count": 39,
   "metadata": {},
   "outputs": [
    {
     "data": {
      "text/plain": [
       "array([[ 0.  ,  0.87,  1.31],\n",
       "       [ 0.  , -0.67, -0.34],\n",
       "       [ 0.  ,  2.1 ,  1.45],\n",
       "       [ 1.  ,  1.18,  1.33],\n",
       "       [ 0.  ,  1.22,  1.27],\n",
       "       [ 1.  , -0.21, -1.19]])"
      ]
     },
     "execution_count": 39,
     "metadata": {},
     "output_type": "execute_result"
    }
   ],
   "source": [
    "# SimpleImputer를 이용해서 간단하게 두 개의 특성 행렬 합치기\n",
    "\n",
    "#X와 X_with_nan을 합치기\n",
    "X_comp=np.vstack((X_with_nan, X))\n",
    "\n",
    "imputer=SimpleImputer(strategy='most_frequent')\n",
    "imputer.fit_transform(X_comp)"
   ]
  },
  {
   "cell_type": "markdown",
   "metadata": {},
   "source": [
    "### 불균형한 클래스 다루기"
   ]
  },
  {
   "cell_type": "code",
   "execution_count": 40,
   "metadata": {},
   "outputs": [
    {
     "data": {
      "text/plain": [
       "array([0, 0, 0, 0, 0, 0, 0, 0, 0, 0, 1, 1, 1, 1, 1, 1, 1, 1, 1, 1, 1, 1,\n",
       "       1, 1, 1, 1, 1, 1, 1, 1, 1, 1, 1, 1, 1, 1, 1, 1, 1, 1, 1, 1, 1, 1,\n",
       "       1, 1, 1, 1, 1, 1, 1, 1, 1, 1, 1, 1, 1, 1, 1, 1, 1, 1, 1, 1, 1, 1,\n",
       "       1, 1, 1, 1, 1, 1, 1, 1, 1, 1, 1, 1, 1, 1, 1, 1, 1, 1, 1, 1, 1, 1,\n",
       "       1, 1, 1, 1, 1, 1, 1, 1, 1, 1, 1, 1, 1, 1, 1, 1, 1, 1, 1, 1, 1, 1])"
      ]
     },
     "execution_count": 40,
     "metadata": {},
     "output_type": "execute_result"
    }
   ],
   "source": [
    "# 라이브러리를 임포트합니다.\n",
    "import numpy as np\n",
    "from sklearn.ensemble import RandomForestClassifier\n",
    "from sklearn.datasets import load_iris\n",
    "\n",
    "# 붓꽃 데이터를 적재합니다.\n",
    "iris = load_iris()\n",
    "\n",
    "# 특성 행렬을 만듭니다.\n",
    "features = iris.data\n",
    "\n",
    "# 타깃 벡터를 만듭니다.\n",
    "target = iris.target\n",
    "\n",
    "# 처음 40개 샘플을 삭제합니다.\n",
    "features = features[40:,:]\n",
    "target = target[40:]\n",
    "\n",
    "# 클래스 0을 음성 클래스로 하는 이진 타깃 벡터를 만듭니다.\n",
    "target = np.where((target == 0), 0, 1)\n",
    "\n",
    "# 불균형한 타깃 벡터를 확인합니다.\n",
    "target"
   ]
  },
  {
   "cell_type": "code",
   "execution_count": 41,
   "metadata": {},
   "outputs": [
    {
     "data": {
      "text/plain": [
       "RandomForestClassifier(class_weight={0: 0.9, 1: 0.1})"
      ]
     },
     "execution_count": 41,
     "metadata": {},
     "output_type": "execute_result"
    }
   ],
   "source": [
    "# 가중치를 만듭니다.\n",
    "weights = {0: .9, 1: 0.1}\n",
    "\n",
    "# 가중치를 부여한 랜덤 포레스트 분류기를 만듭니다.\n",
    "RandomForestClassifier(class_weight=weights)"
   ]
  },
  {
   "cell_type": "code",
   "execution_count": 42,
   "metadata": {},
   "outputs": [
    {
     "data": {
      "text/plain": [
       "RandomForestClassifier(class_weight='balanced')"
      ]
     },
     "execution_count": 42,
     "metadata": {},
     "output_type": "execute_result"
    }
   ],
   "source": [
    "# 균형잡힌 클래스 가중치로 랜덤 포레스트 모델을 훈련합니다.\n",
    "RandomForestClassifier(class_weight=\"balanced\")"
   ]
  },
  {
   "cell_type": "code",
   "execution_count": 43,
   "metadata": {},
   "outputs": [
    {
     "data": {
      "text/plain": [
       "array([0, 0, 0, 0, 0, 0, 0, 0, 0, 0, 1, 1, 1, 1, 1, 1, 1, 1, 1, 1])"
      ]
     },
     "execution_count": 43,
     "metadata": {},
     "output_type": "execute_result"
    }
   ],
   "source": [
    "# 각 클래스의 샘플 인덱스를 추출합니다.\n",
    "i_class0 = np.where(target == 0)[0]\n",
    "i_class1 = np.where(target == 1)[0]\n",
    "\n",
    "# 각 클래스의 샘플 개수\n",
    "n_class0 = len(i_class0)\n",
    "n_class1 = len(i_class1)\n",
    "\n",
    "# 클래스 0의 샘플만큼 클래스 1에서 중복을 허용하지 않고 랜덤하게 샘플을 뽑습니다.\n",
    "# from class 1 without replacement\n",
    "i_class1_downsampled = np.random.choice(i_class1, size=n_class0, replace=False)\n",
    "\n",
    "# 클래스 0의 타깃 벡터와 다운샘플링된 클래스 1의 타깃 벡터를 합칩니다.\n",
    "np.hstack((target[i_class0], target[i_class1_downsampled]))"
   ]
  },
  {
   "cell_type": "code",
   "execution_count": 44,
   "metadata": {},
   "outputs": [
    {
     "data": {
      "text/plain": [
       "array([[5. , 3.5, 1.3, 0.3],\n",
       "       [4.5, 2.3, 1.3, 0.3],\n",
       "       [4.4, 3.2, 1.3, 0.2],\n",
       "       [5. , 3.5, 1.6, 0.6],\n",
       "       [5.1, 3.8, 1.9, 0.4]])"
      ]
     },
     "execution_count": 44,
     "metadata": {},
     "output_type": "execute_result"
    }
   ],
   "source": [
    "np.vstack((features[i_class0,:], features[i_class1_downsampled,:]))[0:5]"
   ]
  },
  {
   "cell_type": "code",
   "execution_count": 45,
   "metadata": {},
   "outputs": [
    {
     "data": {
      "text/plain": [
       "array([0, 0, 0, 0, 0, 0, 0, 0, 0, 0, 0, 0, 0, 0, 0, 0, 0, 0, 0, 0, 0, 0,\n",
       "       0, 0, 0, 0, 0, 0, 0, 0, 0, 0, 0, 0, 0, 0, 0, 0, 0, 0, 0, 0, 0, 0,\n",
       "       0, 0, 0, 0, 0, 0, 0, 0, 0, 0, 0, 0, 0, 0, 0, 0, 0, 0, 0, 0, 0, 0,\n",
       "       0, 0, 0, 0, 0, 0, 0, 0, 0, 0, 0, 0, 0, 0, 0, 0, 0, 0, 0, 0, 0, 0,\n",
       "       0, 0, 0, 0, 0, 0, 0, 0, 0, 0, 0, 0, 1, 1, 1, 1, 1, 1, 1, 1, 1, 1,\n",
       "       1, 1, 1, 1, 1, 1, 1, 1, 1, 1, 1, 1, 1, 1, 1, 1, 1, 1, 1, 1, 1, 1,\n",
       "       1, 1, 1, 1, 1, 1, 1, 1, 1, 1, 1, 1, 1, 1, 1, 1, 1, 1, 1, 1, 1, 1,\n",
       "       1, 1, 1, 1, 1, 1, 1, 1, 1, 1, 1, 1, 1, 1, 1, 1, 1, 1, 1, 1, 1, 1,\n",
       "       1, 1, 1, 1, 1, 1, 1, 1, 1, 1, 1, 1, 1, 1, 1, 1, 1, 1, 1, 1, 1, 1,\n",
       "       1, 1])"
      ]
     },
     "execution_count": 45,
     "metadata": {},
     "output_type": "execute_result"
    }
   ],
   "source": [
    "# 클래스 1의 샘플 개수만큼 클래스 0에서 중복을 허용하여 랜덤하게 샘플을 선택합니다.\n",
    "i_class0_upsampled = np.random.choice(i_class0, size=n_class1, replace=True)\n",
    "\n",
    "# 클래스 0의 업샘플링된 타깃 벡터와 클래스 1의 타깃 벡터를 합칩니다.\n",
    "np.concatenate((target[i_class0_upsampled], target[i_class1]))"
   ]
  },
  {
   "cell_type": "code",
   "execution_count": 46,
   "metadata": {},
   "outputs": [
    {
     "data": {
      "text/plain": [
       "array([[5.3, 3.7, 1.5, 0.2],\n",
       "       [4.6, 3.2, 1.4, 0.2],\n",
       "       [5. , 3.5, 1.6, 0.6],\n",
       "       [5. , 3.5, 1.6, 0.6],\n",
       "       [5.1, 3.8, 1.9, 0.4]])"
      ]
     },
     "execution_count": 46,
     "metadata": {},
     "output_type": "execute_result"
    }
   ],
   "source": [
    "# 클래스 0의 업샘플링된 특성 행렬과 클래스 1의 특성 행렬을 합칩니다.\n",
    "np.vstack((features[i_class0_upsampled,:], features[i_class1,:]))[0:5]"
   ]
  },
  {
   "attachments": {},
   "cell_type": "markdown",
   "metadata": {},
   "source": [
    "## 텍스트 데이터와 Data Wrangling"
   ]
  },
  {
   "cell_type": "markdown",
   "metadata": {},
   "source": [
    "### 텍스트 전처리(pre-processing)"
   ]
  },
  {
   "cell_type": "code",
   "execution_count": 1,
   "metadata": {},
   "outputs": [],
   "source": [
    "#  텍스트 생성\n",
    "# 1-0. 1. 입력 텍스트로부터 문장 부호(마침표, 쉼표 등)를 기준으로 문장을 분리 \n",
    "\n",
    "text_data=[\n",
    "           \"I am honored to be with you today at your commencement from one of the finest universities in the world. \",\n",
    "           \"I never graduated from college. \",\n",
    "           \"Truth be told, this is the closest I`ve ever gotten to a college graduation. \",\n",
    "           \"Today I want to tell you three stories from my life. \",\n",
    "           \"That`s it!!!!!! \",\n",
    "           \"#####No big deal..... \",\n",
    "           \"Just threestories?!?! \"\n",
    "]"
   ]
  },
  {
   "cell_type": "code",
   "execution_count": 2,
   "metadata": {},
   "outputs": [
    {
     "data": {
      "text/plain": [
       "['I am honored to be with you today at your commencement from one of the finest universities in the world.',\n",
       " 'I never graduated from college.',\n",
       " 'Truth be told, this is the closest I`ve ever gotten to a college graduation.',\n",
       " 'Today I want to tell you three stories from my life.',\n",
       " 'That`s it!!!!!!',\n",
       " '#####No big deal.....',\n",
       " 'Just threestories?!?!']"
      ]
     },
     "execution_count": 2,
     "metadata": {},
     "output_type": "execute_result"
    }
   ],
   "source": [
    "# 1-1. 공백문자 제거\n",
    "str_whitespace=[\n",
    "                string.strip() for string in text_data\n",
    "]\n",
    "\n",
    "str_whitespace"
   ]
  },
  {
   "cell_type": "code",
   "execution_count": 3,
   "metadata": {},
   "outputs": [
    {
     "data": {
      "text/plain": [
       "['I am honored to be with you today at your commencement from one of the finest universities in the world',\n",
       " 'I never graduated from college',\n",
       " 'Truth be told this is the closest I`ve ever gotten to a college graduation',\n",
       " 'Today I want to tell you three stories from my life',\n",
       " 'That`s it',\n",
       " 'No big deal',\n",
       " 'Just threestories']"
      ]
     },
     "execution_count": 3,
     "metadata": {},
     "output_type": "execute_result"
    }
   ],
   "source": [
    "# 1-2. 구둣점 제거\n",
    "\n",
    "import unicodedata\n",
    "import sys\n",
    "\n",
    "# 구둣점 문자로 이루어진 딕셔너리 생성\n",
    "punctuation=dict.fromkeys(\n",
    "    i for i in range(sys.maxunicode)\n",
    "    if unicodedata.category(chr(i)).startswith('P')\n",
    ")\n",
    "\n",
    "# 구둣점 삭제\n",
    "[\n",
    " string.translate(punctuation) for string in str_whitespace\n",
    "]"
   ]
  },
  {
   "cell_type": "code",
   "execution_count": 4,
   "metadata": {},
   "outputs": [
    {
     "data": {
      "text/plain": [
       "['I am honored to be with you today at your commencement from one of the finest universities in the world',\n",
       " 'I never graduated from college',\n",
       " 'Truth be told, this is the closest I`ve ever gotten to a college graduation',\n",
       " 'Today I want to tell you three stories from my life',\n",
       " 'That`s it!!!!!!',\n",
       " '#####No big deal',\n",
       " 'Just threestories?!?!']"
      ]
     },
     "execution_count": 4,
     "metadata": {},
     "output_type": "execute_result"
    }
   ],
   "source": [
    "# 1-2. 마침표 제거\n",
    "rem_periods=[\n",
    "             string.replace(\".\",\"\") for string in str_whitespace\n",
    "]\n",
    "\n",
    "rem_periods"
   ]
  },
  {
   "cell_type": "code",
   "execution_count": 5,
   "metadata": {},
   "outputs": [
    {
     "data": {
      "text/plain": [
       "['I AM HONORED TO BE WITH YOU TODAY AT YOUR COMMENCEMENT FROM ONE OF THE FINEST UNIVERSITIES IN THE WORLD',\n",
       " 'I NEVER GRADUATED FROM COLLEGE',\n",
       " 'TRUTH BE TOLD, THIS IS THE CLOSEST I`VE EVER GOTTEN TO A COLLEGE GRADUATION',\n",
       " 'TODAY I WANT TO TELL YOU THREE STORIES FROM MY LIFE',\n",
       " 'THAT`S IT!!!!!!',\n",
       " '#####NO BIG DEAL',\n",
       " 'JUST THREESTORIES?!?!']"
      ]
     },
     "execution_count": 5,
     "metadata": {},
     "output_type": "execute_result"
    }
   ],
   "source": [
    "# 1-3. 대문자로 변경\n",
    "# 함수 생성 후 처리\n",
    "def capitalizer(string: str) -> str:\n",
    "  return string.upper()\n",
    "\n",
    "# 함수 적용\n",
    "[\n",
    " capitalizer(string) for string in rem_periods\n",
    "]"
   ]
  },
  {
   "cell_type": "code",
   "execution_count": 6,
   "metadata": {},
   "outputs": [
    {
     "data": {
      "text/plain": [
       "['X XX XXXXXXX XX XX XXXX XXX XXXXX XX XXXX XXXXXXXXXXXX XXXX XXX XX XXX XXXXXX XXXXXXXXXXXX XX XXX XXXXX',\n",
       " 'X XXXXX XXXXXXXXX XXXX XXXXXXX',\n",
       " 'XXXXX XX XXXX, XXXX XX XXX XXXXXXX X`XX XXXX XXXXXX XX X XXXXXXX XXXXXXXXXX',\n",
       " 'XXXXX X XXXX XX XXXX XXX XXXXX XXXXXXX XXXX XX XXXX',\n",
       " 'XXXX`X XX!!!!!!',\n",
       " '#####XX XXX XXXX',\n",
       " 'XXXX XXXXXXXXXXXX?!?!']"
      ]
     },
     "execution_count": 6,
     "metadata": {},
     "output_type": "execute_result"
    }
   ],
   "source": [
    "# 1-4. 정규식 처리 예\n",
    "# 함수 이용\n",
    "import re\n",
    "\n",
    "def replace_letters_with_X(string: str) -> str:\n",
    "  return re.sub(r\"[a-zA-Z]\", \"X\", string)\n",
    "\n",
    "[\n",
    " replace_letters_with_X(string) for string in rem_periods\n",
    "]"
   ]
  },
  {
   "cell_type": "code",
   "execution_count": 7,
   "metadata": {},
   "outputs": [
    {
     "data": {
      "text/plain": [
       "'\\nHTML ParsExample\\n  '"
      ]
     },
     "execution_count": 7,
     "metadata": {},
     "output_type": "execute_result"
    }
   ],
   "source": [
    "# 1-5. HTML 파싱과 정제\n",
    "\n",
    "from bs4 import BeautifulSoup\n",
    "\n",
    "# 데이터 셋 생성\n",
    "html=\"\"\"\n",
    "  <div class='bs'>\n",
    "    <span style='font-weight:bold'>HTML Pars</span>Example\n",
    "  </div>\n",
    "\"\"\"\n",
    "\n",
    "# html 파싱\n",
    "soup=BeautifulSoup(html, \"lxml\")\n",
    "\n",
    "# bs라는 이름의 클래스를 가진 div를 조회해서 출력\n",
    "soup.find(\"div\",{\"class\": \"bs\"}).text"
   ]
  },
  {
   "cell_type": "markdown",
   "metadata": {},
   "source": [
    "### 텍스트 토큰화"
   ]
  },
  {
   "cell_type": "code",
   "execution_count": 2,
   "metadata": {},
   "outputs": [
    {
     "name": "stderr",
     "output_type": "stream",
     "text": [
      "[nltk_data] Downloading package punkt to /root/nltk_data...\n",
      "[nltk_data]   Package punkt is already up-to-date!\n"
     ]
    },
    {
     "data": {
      "text/plain": [
       "True"
      ]
     },
     "execution_count": 2,
     "metadata": {},
     "output_type": "execute_result"
    }
   ],
   "source": [
    "# nltk에서 구두점 데이터를 다운로드\n",
    "import nltk\n",
    "\n",
    "nltk.download('punkt')"
   ]
  },
  {
   "cell_type": "code",
   "execution_count": 3,
   "metadata": {},
   "outputs": [
    {
     "data": {
      "text/plain": [
       "['The',\n",
       " '4th',\n",
       " 'industry',\n",
       " 'rev',\n",
       " 'is',\n",
       " 'the',\n",
       " 'trends',\n",
       " 'of',\n",
       " 'tomorrow',\n",
       " '.',\n",
       " 'Tomorrow',\n",
       " 'is',\n",
       " '...']"
      ]
     },
     "execution_count": 3,
     "metadata": {},
     "output_type": "execute_result"
    }
   ],
   "source": [
    "# 패키지 임포트\n",
    "from nltk.tokenize import word_tokenize\n",
    "\n",
    "# 텍스트 생성\n",
    "str=\"The 4th industry rev is the trends of tomorrow. Tomorrow is ...\"\n",
    "\n",
    "# 단어를 토큰으로 분리\n",
    "word_tokenize(str)"
   ]
  },
  {
   "cell_type": "code",
   "execution_count": 4,
   "metadata": {},
   "outputs": [
    {
     "data": {
      "text/plain": [
       "['The 4th industry rev is the trends of tomorrow.', 'Tomorrow is ...']"
      ]
     },
     "execution_count": 4,
     "metadata": {},
     "output_type": "execute_result"
    }
   ],
   "source": [
    "# 문장으로 분리\n",
    "from nltk.tokenize import sent_tokenize\n",
    "\n",
    "sent_tokenize(str)"
   ]
  },
  {
   "cell_type": "markdown",
   "metadata": {},
   "source": [
    "### 텍스트에 대한 불용어 삭제"
   ]
  },
  {
   "cell_type": "code",
   "execution_count": 5,
   "metadata": {},
   "outputs": [
    {
     "name": "stderr",
     "output_type": "stream",
     "text": [
      "[nltk_data] Downloading package stopwords to /root/nltk_data...\n",
      "[nltk_data]   Package stopwords is already up-to-date!\n"
     ]
    },
    {
     "data": {
      "text/plain": [
       "True"
      ]
     },
     "execution_count": 5,
     "metadata": {},
     "output_type": "execute_result"
    }
   ],
   "source": [
    "# 불용어 데이터 로드\n",
    "import nltk\n",
    "\n",
    "nltk.download('stopwords')"
   ]
  },
  {
   "cell_type": "code",
   "execution_count": 6,
   "metadata": {},
   "outputs": [
    {
     "data": {
      "text/plain": [
       "['going', 'go', 'store', 'park']"
      ]
     },
     "execution_count": 6,
     "metadata": {},
     "output_type": "execute_result"
    }
   ],
   "source": [
    "# 패키지 임포트\n",
    "from nltk.corpus import stopwords\n",
    "\n",
    "# 데이터 생성-토큰화한 데이터\n",
    "tokenized_words=[\n",
    "                 'i',\n",
    "                 'am',\n",
    "                 'going',\n",
    "                 'to',\n",
    "                 'go',\n",
    "                 'the',\n",
    "                 'store',\n",
    "                 'and',\n",
    "                 'park'\n",
    "]\n",
    "\n",
    "\n",
    "# 불용어 적재\n",
    "stop_words=stopwords.words('english')\n",
    "\n",
    "# 불용어 삭재\n",
    "[\n",
    " word for word in tokenized_words if word not in stop_words\n",
    "]"
   ]
  },
  {
   "cell_type": "code",
   "execution_count": 7,
   "metadata": {},
   "outputs": [
    {
     "data": {
      "text/plain": [
       "['i', 'me', 'my', 'myself', 'we']"
      ]
     },
     "execution_count": 7,
     "metadata": {},
     "output_type": "execute_result"
    }
   ],
   "source": [
    "# 불용어 확인\n",
    "stop_words[:5]"
   ]
  },
  {
   "cell_type": "code",
   "execution_count": 8,
   "metadata": {},
   "outputs": [
    {
     "data": {
      "text/plain": [
       "(318, 179)"
      ]
     },
     "execution_count": 8,
     "metadata": {},
     "output_type": "execute_result"
    }
   ],
   "source": [
    "from sklearn.feature_extraction.text import ENGLISH_STOP_WORDS\n",
    "\n",
    "len(ENGLISH_STOP_WORDS), len(stop_words)"
   ]
  },
  {
   "cell_type": "code",
   "execution_count": 9,
   "metadata": {},
   "outputs": [
    {
     "data": {
      "text/plain": [
       "['mostly', 'whereby', 'former', 'now', 'keep']"
      ]
     },
     "execution_count": 9,
     "metadata": {},
     "output_type": "execute_result"
    }
   ],
   "source": [
    "list(ENGLISH_STOP_WORDS)[:5]"
   ]
  },
  {
   "cell_type": "markdown",
   "metadata": {},
   "source": [
    "###  어간 추출"
   ]
  },
  {
   "cell_type": "code",
   "execution_count": 10,
   "metadata": {},
   "outputs": [
    {
     "data": {
      "text/plain": [
       "['i', 'am', 'go', 'to', 'go', 'the', 'store', 'and', 'park']"
      ]
     },
     "execution_count": 10,
     "metadata": {},
     "output_type": "execute_result"
    }
   ],
   "source": [
    "from nltk.stem.porter import PorterStemmer\n",
    "\n",
    "# 데이터 생성-토큰화한 데이터\n",
    "tokenized_words=[\n",
    "                 'i',\n",
    "                 'am',\n",
    "                 'going',\n",
    "                 'to',\n",
    "                 'go',\n",
    "                 'the',\n",
    "                 'stored',\n",
    "                 'and',\n",
    "                 'parking'\n",
    "]\n",
    "\n",
    "# 어간 추출기 생성\n",
    "porter=PorterStemmer()\n",
    "\n",
    "# 실행\n",
    "[\n",
    " porter.stem(word) for word in tokenized_words\n",
    "]"
   ]
  },
  {
   "cell_type": "markdown",
   "metadata": {},
   "source": [
    "### 품사 태깅(부착)"
   ]
  },
  {
   "cell_type": "code",
   "execution_count": 11,
   "metadata": {},
   "outputs": [
    {
     "name": "stdout",
     "output_type": "stream",
     "text": [
      "VB: verb, base form\n",
      "    ask assemble assess assign assume atone attention avoid bake balkanize\n",
      "    bank begin behold believe bend benefit bevel beware bless boil bomb\n",
      "    boost brace break bring broil brush build ...\n"
     ]
    },
    {
     "name": "stderr",
     "output_type": "stream",
     "text": [
      "[nltk_data] Downloading package tagsets to /root/nltk_data...\n",
      "[nltk_data]   Package tagsets is already up-to-date!\n"
     ]
    }
   ],
   "source": [
    "# 품사 내용 살펴보기\n",
    "nltk.download('tagsets')\n",
    "\n",
    "nltk.help.upenn_tagset(\"VB\")"
   ]
  },
  {
   "cell_type": "code",
   "execution_count": 12,
   "metadata": {},
   "outputs": [
    {
     "name": "stderr",
     "output_type": "stream",
     "text": [
      "[nltk_data] Downloading package averaged_perceptron_tagger to\n",
      "[nltk_data]     /root/nltk_data...\n",
      "[nltk_data]   Package averaged_perceptron_tagger is already up-to-\n",
      "[nltk_data]       date!\n"
     ]
    },
    {
     "data": {
      "text/plain": [
       "True"
      ]
     },
     "execution_count": 12,
     "metadata": {},
     "output_type": "execute_result"
    }
   ],
   "source": [
    "# 태거를 다운로드\n",
    "\n",
    "import nltk\n",
    "\n",
    "nltk.download('averaged_perceptron_tagger')"
   ]
  },
  {
   "cell_type": "markdown",
   "metadata": {},
   "source": [
    "### 텍스트를 BoW로 인코딩하기"
   ]
  },
  {
   "cell_type": "code",
   "execution_count": 19,
   "metadata": {},
   "outputs": [
    {
     "data": {
      "text/plain": [
       "<2x4 sparse matrix of type '<class 'numpy.int64'>'\n",
       "\twith 5 stored elements in Compressed Sparse Row format>"
      ]
     },
     "execution_count": 19,
     "metadata": {},
     "output_type": "execute_result"
    }
   ],
   "source": [
    "# 3-1. 텍스트를 BoW로 인코딩하기\n",
    "# 패키지 임포트\n",
    "from sklearn.feature_extraction.text import CountVectorizer\n",
    "import numpy as np\n",
    "\n",
    "\n",
    "# 텍스트 데이터 셋 생성\n",
    "text_data=np.array(\n",
    "    [\n",
    "     'I like Korea. Korea!!!',\n",
    "     'Korea is best.'\n",
    "    ]\n",
    ")\n",
    "\n",
    "# BoW 특성 행렬을 생성\n",
    "cv=CountVectorizer()\n",
    "bow=cv.fit_transform(text_data)\n",
    "\n",
    "# bow 확인\n",
    "bow"
   ]
  },
  {
   "cell_type": "code",
   "execution_count": 14,
   "metadata": {},
   "outputs": [
    {
     "data": {
      "text/plain": [
       "array([[0, 0, 2, 1],\n",
       "       [1, 1, 1, 0]])"
      ]
     },
     "execution_count": 14,
     "metadata": {},
     "output_type": "execute_result"
    }
   ],
   "source": [
    "bow.toarray()"
   ]
  },
  {
   "cell_type": "code",
   "execution_count": 15,
   "metadata": {},
   "outputs": [
    {
     "data": {
      "text/plain": [
       "['best', 'is', 'korea', 'like']"
      ]
     },
     "execution_count": 15,
     "metadata": {},
     "output_type": "execute_result"
    }
   ],
   "source": [
    "# 특성 확인\n",
    "cv.get_feature_names()"
   ]
  },
  {
   "cell_type": "code",
   "execution_count": 16,
   "metadata": {},
   "outputs": [
    {
     "data": {
      "text/plain": [
       "array([[0],\n",
       "       [0]])"
      ]
     },
     "execution_count": 16,
     "metadata": {},
     "output_type": "execute_result"
    }
   ],
   "source": [
    "# 특성 행렬 생성\n",
    "cv_2gram=CountVectorizer(\n",
    "    ngram_range=(1,2),\n",
    "    stop_words=\"english\",\n",
    "    vocabulary=['Korea']\n",
    ")\n",
    "\n",
    "bag=cv_2gram.fit_transform(text_data)\n",
    "\n",
    "bag.toarray()"
   ]
  },
  {
   "cell_type": "code",
   "execution_count": 17,
   "metadata": {},
   "outputs": [
    {
     "data": {
      "text/plain": [
       "{'Korea': 0}"
      ]
     },
     "execution_count": 17,
     "metadata": {},
     "output_type": "execute_result"
    }
   ],
   "source": [
    "cv_2gram.vocabulary_"
   ]
  },
  {
   "cell_type": "code",
   "execution_count": 18,
   "metadata": {},
   "outputs": [
    {
     "data": {
      "text/plain": [
       "<2x4 sparse matrix of type '<class 'numpy.float64'>'\n",
       "\twith 5 stored elements in Compressed Sparse Row format>"
      ]
     },
     "execution_count": 18,
     "metadata": {},
     "output_type": "execute_result"
    }
   ],
   "source": [
    "# 3-2. 단어 중요도에 가중치 부여\n",
    "\n",
    "# 패키지 임포트\n",
    "from sklearn.feature_extraction.text import TfidfVectorizer\n",
    "import numpy as np\n",
    "\n",
    "\n",
    "# 텍스트 데이터 셋 생성\n",
    "# 텍스트 데이터 셋 생성\n",
    "text_data=np.array(\n",
    "    [\n",
    "     'I like Korea. Korea!!!',\n",
    "     'Korea is best.'\n",
    "    ]\n",
    ")\n",
    "\n",
    "# tf-idf 특성 행렬을 생성\n",
    "tfidf=TfidfVectorizer()\n",
    "features_matrix=tfidf.fit_transform(text_data)\n",
    "\n",
    "# tf-idf 특성 행렬 확인\n",
    "features_matrix"
   ]
  },
  {
   "cell_type": "code",
   "execution_count": 20,
   "metadata": {},
   "outputs": [
    {
     "data": {
      "text/plain": [
       "array([[0.        , 0.        , 0.81818021, 0.57496187],\n",
       "       [0.6316672 , 0.6316672 , 0.44943642, 0.        ]])"
      ]
     },
     "execution_count": 20,
     "metadata": {},
     "output_type": "execute_result"
    }
   ],
   "source": [
    "features_matrix.toarray()"
   ]
  },
  {
   "cell_type": "code",
   "execution_count": 21,
   "metadata": {},
   "outputs": [
    {
     "data": {
      "text/plain": [
       "{'like': 3, 'korea': 2, 'is': 1, 'best': 0}"
      ]
     },
     "execution_count": 21,
     "metadata": {},
     "output_type": "execute_result"
    }
   ],
   "source": [
    "tfidf.vocabulary_"
   ]
  },
  {
   "cell_type": "markdown",
   "metadata": {},
   "source": [
    "## 텍스트 분석 후 인사이트 도출-워드 클라우드"
   ]
  },
  {
   "cell_type": "code",
   "execution_count": 16,
   "metadata": {},
   "outputs": [
    {
     "name": "stdout",
     "output_type": "stream",
     "text": [
      "*** Introductory Examples for the NLTK Book ***\n",
      "Loading text1, ..., text9 and sent1, ..., sent9\n",
      "Type the name of the text or sentence to view it.\n",
      "Type: 'texts()' or 'sents()' to list the materials.\n",
      "text1: Moby Dick by Herman Melville 1851\n",
      "text2: Sense and Sensibility by Jane Austen 1811\n",
      "text3: The Book of Genesis\n",
      "text4: Inaugural Address Corpus\n",
      "text5: Chat Corpus\n",
      "text6: Monty Python and the Holy Grail\n",
      "text7: Wall Street Journal\n",
      "text8: Personals Corpus\n",
      "text9: The Man Who Was Thursday by G . K . Chesterton 1908\n"
     ]
    }
   ],
   "source": [
    "# 패키지 임포트\n",
    "import nltk\n",
    "\n",
    "# corpus 다운로드 -book 참고 : KoNLPy kolaw,kobill(국회법안)\n",
    "nltk.download(\"book\",quiet=True)\n",
    "\n",
    "# book 내용 보기\n",
    "from nltk.book import *"
   ]
  },
  {
   "cell_type": "code",
   "execution_count": 17,
   "metadata": {},
   "outputs": [
    {
     "data": {
      "text/plain": [
       "['austen-emma.txt',\n",
       " 'austen-persuasion.txt',\n",
       " 'austen-sense.txt',\n",
       " 'bible-kjv.txt',\n",
       " 'blake-poems.txt',\n",
       " 'bryant-stories.txt',\n",
       " 'burgess-busterbrown.txt',\n",
       " 'carroll-alice.txt',\n",
       " 'chesterton-ball.txt',\n",
       " 'chesterton-brown.txt',\n",
       " 'chesterton-thursday.txt',\n",
       " 'edgeworth-parents.txt',\n",
       " 'melville-moby_dick.txt',\n",
       " 'milton-paradise.txt',\n",
       " 'shakespeare-caesar.txt',\n",
       " 'shakespeare-hamlet.txt',\n",
       " 'shakespeare-macbeth.txt',\n",
       " 'whitman-leaves.txt']"
      ]
     },
     "execution_count": 17,
     "metadata": {},
     "output_type": "execute_result"
    }
   ],
   "source": [
    "# gutenberg 내용 보기 : 저작권이 말소된 문학작품에 대한 말뭉치\n",
    "nltk.corpus.gutenberg.fileids()"
   ]
  },
  {
   "cell_type": "code",
   "execution_count": 18,
   "metadata": {},
   "outputs": [
    {
     "name": "stdout",
     "output_type": "stream",
     "text": [
      "[Emma by Jane Austen 1816]\n",
      "\n",
      "VOLUME I\n",
      "\n",
      "CHAPTER I\n",
      "\n",
      "\n",
      "Emma Woodhouse, handsome, clever, and rich, with a comfortable home\n",
      "and happy disposition, seemed to unite some of the best blessings\n",
      "of existence; and had lived nearly twenty-one years in the world\n",
      "with very little to distress or vex her.\n",
      "\n",
      "She was the youngest of the two daughters of a most affectionate,\n",
      "indulgent father; and had, in consequence of her sister's marriage,\n",
      "been mistress of his house from a very early period.  Her mother\n",
      "had died too long ago for her to have more than an indistinct\n",
      "remembrance of her caresses; and her place had been supplied\n",
      "by an excellent woman as governess, who had fallen little short\n",
      "of a mother in affection.\n",
      "\n",
      "Sixteen years had Miss Taylor been in Mr. Woodhouse's family,\n",
      "less as a governess than a friend, very fond of both daughters,\n",
      "but particularly of Emma.  Between _them_ it was more the intimacy\n",
      "of sisters.  Even before Miss Taylor had ceased to hold the nominal\n",
      "office of governess, the mildness o\n"
     ]
    }
   ],
   "source": [
    "# 오스틴의 엠마 읽기\n",
    "emma_raw=nltk.corpus.gutenberg.raw(\"austen-emma.txt\")\n",
    "\n",
    "print(emma_raw[:1000])"
   ]
  },
  {
   "cell_type": "code",
   "execution_count": 19,
   "metadata": {},
   "outputs": [
    {
     "data": {
      "text/plain": [
       "['mma',\n",
       " 'Woodhouse',\n",
       " ',',\n",
       " 'handsome',\n",
       " ',',\n",
       " 'clever',\n",
       " ',',\n",
       " 'and',\n",
       " 'rich',\n",
       " ',',\n",
       " 'with',\n",
       " 'a']"
      ]
     },
     "execution_count": 19,
     "metadata": {},
     "output_type": "execute_result"
    }
   ],
   "source": [
    "# 패키지 임포트\n",
    "from nltk.tokenize import word_tokenize\n",
    "\n",
    "word_tokenize(emma_raw[51:100])"
   ]
  },
  {
   "cell_type": "code",
   "execution_count": 20,
   "metadata": {},
   "outputs": [
    {
     "name": "stdout",
     "output_type": "stream",
     "text": [
      "Sixteen years had Miss Taylor been in Mr. Woodhouse's family,\n",
      "less as a governess than a friend, very fond of both daughters,\n",
      "but particularly of Emma.\n"
     ]
    }
   ],
   "source": [
    "from nltk.tokenize import  sent_tokenize\n",
    "\n",
    "text_sent=sent_tokenize(emma_raw[:1000])[3]\n",
    "\n",
    "print(text_sent)"
   ]
  },
  {
   "cell_type": "code",
   "execution_count": 21,
   "metadata": {},
   "outputs": [
    {
     "data": {
      "text/plain": [
       "['Emma', 'Woodhouse', 'handsome', 'clever', 'and', 'rich', 'with', 'a']"
      ]
     },
     "execution_count": 21,
     "metadata": {},
     "output_type": "execute_result"
    }
   ],
   "source": [
    "from nltk.tokenize import RegexpTokenizer\n",
    "\n",
    "retokenize=RegexpTokenizer(\"[\\w]+\")\n",
    "retokenize.tokenize(emma_raw[50:100])"
   ]
  },
  {
   "cell_type": "code",
   "execution_count": 22,
   "metadata": {},
   "outputs": [
    {
     "name": "stdout",
     "output_type": "stream",
     "text": [
      "PorterStemmer : ['emma', 'woodhous', 'handsom', 'clever', 'and', 'rich', 'with', 'a']\n",
      "LancasterStemmer : ['emm', 'woodh', 'handsom', 'clev', 'and', 'rich', 'with', 'a']\n"
     ]
    }
   ],
   "source": [
    "#  어간추출- 단어의 접미사나 어미를 제거해서 같은 의미를 가지는 형태소의 기본형을 찾는 것\n",
    "\n",
    "from nltk.stem import PorterStemmer, LancasterStemmer\n",
    "from nltk.tokenize import RegexpTokenizer\n",
    "\n",
    "pt=PorterStemmer()\n",
    "ls=LancasterStemmer()\n",
    "\n",
    "# words=[\"fly\",\"flies\",\"flying\",\"flew\",\"flown\"]-샘플\n",
    "\n",
    "retokenize=RegexpTokenizer(\"[\\w]+\")\n",
    "\n",
    "rt=retokenize.tokenize(emma_raw[50:100])\n",
    "\n",
    "print(\"PorterStemmer :\", [pt.stem(w) for w in rt])\n",
    "\n",
    "print(\"LancasterStemmer :\", [ls.stem(w) for w in rt])"
   ]
  },
  {
   "cell_type": "code",
   "execution_count": 23,
   "metadata": {},
   "outputs": [
    {
     "data": {
      "text/plain": [
       "['Emma', 'Woodhouse', 'handsome', 'clever', 'and', 'rich', 'with', 'a']"
      ]
     },
     "execution_count": 23,
     "metadata": {},
     "output_type": "execute_result"
    }
   ],
   "source": [
    "# 원형 복원 -같은 의미를 가지는 단어를 사전형으로 통일하는 작업\n",
    "\n",
    "from nltk.stem import WordNetLemmatizer\n",
    "\n",
    "lm=WordNetLemmatizer()\n",
    "\n",
    "[\n",
    " lm.lemmatize(w, pos=\"v\") for w in rt\n",
    "]"
   ]
  },
  {
   "cell_type": "code",
   "execution_count": 24,
   "metadata": {},
   "outputs": [
    {
     "data": {
      "text/plain": [
       "[('Emma', 'NNP'),\n",
       " ('Woodhouse', 'NNP'),\n",
       " (',', ','),\n",
       " ('handsome', 'NN'),\n",
       " (',', ','),\n",
       " ('clever', 'NN'),\n",
       " (',', ','),\n",
       " ('and', 'CC'),\n",
       " ('rich', 'JJ'),\n",
       " (',', ','),\n",
       " ('with', 'IN'),\n",
       " ('a', 'DT'),\n",
       " ('comfortable', 'JJ'),\n",
       " ('home', 'NN')]"
      ]
     },
     "execution_count": 24,
     "metadata": {},
     "output_type": "execute_result"
    }
   ],
   "source": [
    "# 품사 태깅\n",
    "from nltk.tag import pos_tag\n",
    "\n",
    "sentence=emma_raw[50:117]\n",
    "\n",
    "tagged_list=pos_tag(word_tokenize(sentence))\n",
    "\n",
    "tagged_list"
   ]
  },
  {
   "cell_type": "code",
   "execution_count": 10,
   "metadata": {},
   "outputs": [
    {
     "data": {
      "text/plain": [
       "['handsome', 'clever', 'home']"
      ]
     },
     "execution_count": 10,
     "metadata": {},
     "output_type": "execute_result"
    }
   ],
   "source": [
    "# 명사인 토큰만 선택\n",
    "\n",
    "nouns_list=[\n",
    "            t[0] for t in tagged_list if t[1]==\"NN\"\n",
    "]\n",
    "\n",
    "nouns_list"
   ]
  },
  {
   "cell_type": "code",
   "execution_count": 11,
   "metadata": {
    "scrolled": true
   },
   "outputs": [
    {
     "data": {
      "text/plain": [
       "['Emma',\n",
       " 'Woodhouse',\n",
       " ',',\n",
       " 'handsome',\n",
       " ',',\n",
       " 'clever',\n",
       " ',',\n",
       " 'and',\n",
       " 'rich',\n",
       " ',',\n",
       " 'with',\n",
       " 'a',\n",
       " 'comfortable',\n",
       " 'home']"
      ]
     },
     "execution_count": 11,
     "metadata": {},
     "output_type": "execute_result"
    }
   ],
   "source": [
    "from nltk.tag import untag\n",
    "\n",
    "untag(tagged_list)"
   ]
  },
  {
   "cell_type": "code",
   "execution_count": 12,
   "metadata": {},
   "outputs": [
    {
     "data": {
      "text/plain": [
       "['Emma/NNP',\n",
       " 'Woodhouse/NNP',\n",
       " ',/,',\n",
       " 'handsome/NN',\n",
       " ',/,',\n",
       " 'clever/NN',\n",
       " ',/,',\n",
       " 'and/CC',\n",
       " 'rich/JJ',\n",
       " ',/,',\n",
       " 'with/IN',\n",
       " 'a/DT',\n",
       " 'comfortable/JJ',\n",
       " 'home/NN']"
      ]
     },
     "execution_count": 12,
     "metadata": {},
     "output_type": "execute_result"
    }
   ],
   "source": [
    "# 토큰과 품사태그를 함께 써야 할 경우\n",
    "\n",
    "def tokenizer(x):\n",
    "  return [\n",
    "          \"/\".join(p) for p in tagged_list\n",
    "  ]\n",
    "\n",
    "tokenizer(sentence)"
   ]
  },
  {
   "cell_type": "code",
   "execution_count": 13,
   "metadata": {},
   "outputs": [],
   "source": [
    "# nltk에 있는 클래스\n",
    "# 5-1. Text 클래스\n",
    "\n",
    "from nltk import Text\n",
    "import matplotlib.pyplot as plt\n",
    "\n",
    "\n",
    "text=Text(retokenize.tokenize(emma_raw))"
   ]
  },
  {
   "cell_type": "code",
   "execution_count": 14,
   "metadata": {},
   "outputs": [
    {
     "data": {
      "image/png": "[encoded data removed]",
      "text/plain": [
       "<Figure size 432x288 with 1 Axes>"
      ]
     },
     "metadata": {
      "needs_background": "light"
     },
     "output_type": "display_data"
    }
   ],
   "source": [
    "text.plot(20)\n",
    "plt.show()"
   ]
  },
  {
   "cell_type": "code",
   "execution_count": 15,
   "metadata": {},
   "outputs": [
    {
     "data": {
      "image/png": "[encoded data removed]",
      "text/plain": [
       "<Figure size 432x288 with 1 Axes>"
      ]
     },
     "metadata": {
      "needs_background": "light"
     },
     "output_type": "display_data"
    }
   ],
   "source": [
    "text.dispersion_plot(\n",
    "    [\n",
    "     \"Emma\",\n",
    "     \"Frank\",\n",
    "     \"Jane\",\n",
    "     \"Robert\"\n",
    "    ]\n",
    ")"
   ]
  },
  {
   "cell_type": "code",
   "execution_count": 16,
   "metadata": {},
   "outputs": [
    {
     "name": "stdout",
     "output_type": "stream",
     "text": [
      "Displaying 25 of 32 matches:\n",
      "eye sufficiently acquainted with Mr Robert Martin His appearance was very neat\n",
      "he girl who could be gratified by a Robert Martin s riding about the country t\n",
      " to me I could not have visited Mrs Robert Martin of Abbey Mill Farm Now I am \n",
      "from a most unexceptionable quarter Robert Martin is the man Her visit to Abbe\n",
      "hear better sense from any one than Robert Martin He always speaks to the purp\n",
      "eaning of this Harriet Smith refuse Robert Martin madness if it is so but I ho\n",
      "cation to any connexion higher than Robert Martin She is the natural daughter \n",
      "end will deny She is superior to Mr Robert Martin Whoever might be her parents\n",
      "een no friend to Harriet Smith Emma Robert Martin would never have proceeded s\n",
      "e came to be revealed Let her marry Robert Martin and she is safe respectable \n",
      "ry But as to my _letting_ her marry Robert Martin it is impossible she has ref\n",
      " ever was talked cried Mr Knightley Robert Martin s manners have sense sinceri\n",
      "hts appeared at last in these words Robert Martin has no great loss if he can \n",
      "eed nothing could be clearer even a Robert Martin would have been sufficient b\n",
      "hout being suspected of introducing Robert Martin She did not suspect him It w\n",
      " suspect him It was too old a story Robert Martin had probably ceased to think\n",
      "ery bad it is Harriet Smith marries Robert Martin Emma gave a start which did \n",
      "ntinued Mr Knightley I have it from Robert Martin himself He left me not half \n",
      "say that Harriet Smith has accepted Robert Martin You cannot mean that he has \n",
      "Henry John and Miss Smith My friend Robert could not resist They called for hi\n",
      "n the great However I must say that Robert Martin s heart seemed for _him_ and\n",
      "kins but I could quite as ill spare Robert Martin He wanted her to look up and\n",
      "tenance and air of Mr Knightley and Robert Martin was at this moment so strong\n",
      "hope I know better than to think of Robert Martin that she was really expectin\n",
      "en some pains for your sake and for Robert Martin s sake whom I have always ha\n"
     ]
    }
   ],
   "source": [
    "text.concordance(\"Robert\")"
   ]
  },
  {
   "cell_type": "code",
   "execution_count": 17,
   "metadata": {},
   "outputs": [
    {
     "name": "stdout",
     "output_type": "stream",
     "text": [
      "she it he i harriet you her jane him that me and all they them herself\n",
      "there but be isabella\n"
     ]
    }
   ],
   "source": [
    "text.similar(\"Emma\")"
   ]
  },
  {
   "cell_type": "code",
   "execution_count": 18,
   "metadata": {},
   "outputs": [
    {
     "name": "stdout",
     "output_type": "stream",
     "text": [
      "said_i and_could but_could said_as and_was that_could and_felt\n",
      "which_could that_began than_had but_was that_should this_could\n",
      "there_was said_in as_could think_was as_felt that_was which_had\n"
     ]
    }
   ],
   "source": [
    "text.common_contexts([\"Emma\", \"she\"])"
   ]
  },
  {
   "cell_type": "code",
   "execution_count": 19,
   "metadata": {},
   "outputs": [
    {
     "data": {
      "text/plain": [
       "nltk.probability.FreqDist"
      ]
     },
     "execution_count": 19,
     "metadata": {},
     "output_type": "execute_result"
    }
   ],
   "source": [
    "# 5-2. FreqDist\n",
    "\n",
    "fd=text.vocab()\n",
    "\n",
    "type(fd)"
   ]
  },
  {
   "cell_type": "code",
   "execution_count": 20,
   "metadata": {},
   "outputs": [],
   "source": [
    "# 사람의 이름만 모아서 사용빈도를 저장\n",
    "\n",
    "from nltk import FreqDist\n",
    "\n",
    "stopwords=[\"Mr.\",\"Mrs.\",\"Miss\",\"Mr\",\"Mrs\",\"Dear\" ]\n",
    "\n",
    "emma_tokens=pos_tag(retokenize.tokenize(emma_raw))\n",
    "\n",
    "names_list=[\n",
    "   t[0] for t in emma_tokens if t[1]==\"NNP\" and t[0] not in stopwords\n",
    "]\n",
    "\n",
    "fd_names=FreqDist(names_list)"
   ]
  },
  {
   "cell_type": "code",
   "execution_count": 21,
   "metadata": {},
   "outputs": [
    {
     "data": {
      "text/plain": [
       "(7863, 830, 0.10555767518758744)"
      ]
     },
     "execution_count": 21,
     "metadata": {},
     "output_type": "execute_result"
    }
   ],
   "source": [
    "# 단어를 키, 출현빈도를 값\n",
    "\n",
    "fd_names.N(), fd_names[\"Emma\"], fd_names.freq(\"Emma\")"
   ]
  },
  {
   "cell_type": "code",
   "execution_count": 22,
   "metadata": {},
   "outputs": [
    {
     "data": {
      "text/plain": [
       "[('Emma', 830),\n",
       " ('Harriet', 491),\n",
       " ('Weston', 439),\n",
       " ('Knightley', 389),\n",
       " ('Elton', 385),\n",
       " ('Woodhouse', 304),\n",
       " ('Jane', 299),\n",
       " ('Fairfax', 241),\n",
       " ('Churchill', 223),\n",
       " ('Frank', 208)]"
      ]
     },
     "execution_count": 22,
     "metadata": {},
     "output_type": "execute_result"
    }
   ],
   "source": [
    "# 가장 출현 빈도가 높은 단어를 조회\n",
    "fd_names.most_common(10)"
   ]
  },
  {
   "cell_type": "code",
   "execution_count": 23,
   "metadata": {},
   "outputs": [
    {
     "data": {
      "image/png": "[encoded data removed]",
      "text/plain": [
       "<Figure size 432x288 with 1 Axes>"
      ]
     },
     "metadata": {
      "needs_background": "light"
     },
     "output_type": "display_data"
    }
   ],
   "source": [
    "# 워드클라우드\n",
    "from wordcloud import WordCloud\n",
    "import matplotlib.pyplot as plt\n",
    "\n",
    "\n",
    "wc=WordCloud(\n",
    "    width=1024,\n",
    "    height=640,\n",
    "    background_color=\"white\",\n",
    "    random_state=0\n",
    ")\n",
    "\n",
    "plt.imshow(wc.generate_from_frequencies(fd_names))\n",
    "plt.axis(\"off\")\n",
    "plt.show()"
   ]
  },
  {
   "attachments": {},
   "cell_type": "markdown",
   "metadata": {},
   "source": [
    "# 실습과제 모범 답안"
   ]
  },
  {
   "cell_type": "markdown",
   "metadata": {},
   "source": [
    "구글 웹 브라우저에서 아래 내용을 스크래핑 워드클라우드를 만드시오(모양은 본인 마음대로).\n",
    "프로그램은 이곳에 넣고 실행결과는 화면 캡쳐하여 프로그램 넣은 뒤에 붙여넣기 하시오. ➀ 2021 신년사를 검색하여 1번째로 나오는 정책뉴스의 2021년 신년사의 내용을 스크래핑 하시오."
   ]
  },
  {
   "cell_type": "markdown",
   "metadata": {},
   "source": [
    "자연어 처리 패키지 \n",
    "가. NLTK(Natural Language Toolkit) 말뭉치(corpus) 토큰 생성 형태소 분석 품사 태깅\n",
    "\n",
    "나. KoNLPy 한국어 처리 패키지 말뭉치 형태소 분석/품사 태깅-Hannanum, Kkma, Komoran, Mecab, Open Korean Text ..."
   ]
  },
  {
   "cell_type": "markdown",
   "metadata": {},
   "source": [
    "!pip3 install konlpy"
   ]
  },
  {
   "cell_type": "code",
   "execution_count": 25,
   "metadata": {},
   "outputs": [
    {
     "data": {
      "text/plain": [
       "'0.5.2'"
      ]
     },
     "execution_count": 25,
     "metadata": {},
     "output_type": "execute_result"
    }
   ],
   "source": [
    "import warnings\n",
    "warnings.simplefilter(\"ignore\")\n",
    "\n",
    "import konlpy\n",
    "konlpy.__version__"
   ]
  },
  {
   "cell_type": "code",
   "execution_count": 28,
   "metadata": {},
   "outputs": [],
   "source": [
    "from selenium import webdriver\n",
    "from selenium.webdriver.common.keys import Keys"
   ]
  },
  {
   "cell_type": "code",
   "execution_count": 29,
   "metadata": {},
   "outputs": [],
   "source": [
    "chrome_options = webdriver.ChromeOptions()\n",
    "\n",
    "chrome_options.add_argument('--headless') #내부 창을 띄울 수 없으므로 설정\n",
    "\n",
    "chrome_options.add_argument('--no-sandbox')\n",
    "\n",
    "chrome_options.add_argument('--disable-dev-shm-usage')\n",
    "\n",
    "driver = webdriver.Chrome('chromedriver',chrome_options=chrome_options)\n",
    "\n",
    "url='https://www.google.com'\n",
    "\n",
    "driver.get(url)"
   ]
  },
  {
   "cell_type": "code",
   "execution_count": 30,
   "metadata": {},
   "outputs": [],
   "source": [
    "target=driver.find_element_by_class_name('gLFyf')\n",
    "target.send_keys('신년사')\n",
    "target.send_keys(Keys.ENTER)"
   ]
  },
  {
   "cell_type": "code",
   "execution_count": 31,
   "metadata": {},
   "outputs": [],
   "source": [
    "target=driver.find_element_by_class_name('LC20lb')\n",
    "target.click()"
   ]
  },
  {
   "cell_type": "code",
   "execution_count": 32,
   "metadata": {},
   "outputs": [
    {
     "name": "stdout",
     "output_type": "stream",
     "text": [
      "문재인 대통령이 11일 청와대에서 신년사를 하고 있다. (사진=저작권자(c) 연합뉴스, 무단 전재-재배포 금지)\n",
      "존경하는 국민 여러분,\n",
      "신축년 새해를 맞았습니다.\n",
      "희망을 기원하면서도 마음이 무겁습니다.\n",
      "새해가 새해 같지 않다는 말이 실감납니다.\n",
      "코로나와의 기나긴 전쟁이 끝나지 않았습니다.\n",
      "생명과 안전이 여전히 위협받고, 유례없는 민생경제의 어려움이 지속되고 있습니다.\n",
      "일상의 상실로 겪는 아픔도 계속되고 있습니다.\n",
      "고난의 시기를 건너고 계신 국민들께 깊은 위로의 말씀을 드립니다.\n",
      "그러나 새해는 분명히 다른 해가 될 것입니다.\n",
      "우리는 함께 코로나를 이겨낼 것입니다.\n",
      "2021년은 우리 국민에게 ‘회복의 해’, ‘포용의 해’, ‘도약의 해’가 될 것입니다.\n",
      "국민 여러분,\n",
      "2020년, 신종감염병이 인류의 생명을 위협했고, 일상은 송두리째 바뀌었습니다.\n",
      "우리 또한 예외가 아니었습니다.\n",
      "세계 경제도 대공황 이후 최악의 침체를 겪었습니다.\n",
      "우리 경제 역시 마이너스 성장을 면치 못했습니다.\n",
      "모두가 어렵고 힘들었습니다.\n",
      "국민들은 일 년 내내 불편을 감수해야 했습니다.\n",
      "그러나 우리는 꺾이지 않았습니다.\n",
      "위기 속에서 대한민국은 오히려 빛났습니다.\n",
      "의료진들은 헌신적으로 환자를 돌봤고 국민들은 스스로 방역의 주체가 되었습니다.\n",
      "우리 국민들은 이웃의 안전이 곧 나의 안전이라는 지극히 평범한 진실을, 놀라운 실천으로 전 세계에 보여주었습니다.\n",
      "국민들이 자발적으로 구상한 창의적인 방역 조치들은 신속하게 현장에 적용되었습니다.\n",
      "한국의 진단키트와 ‘드라이브 스루’ 검사방법과 마스크 같은 방역 물품들은 세계 각국에 보급되어, 인류를 코로나로부터 지키는데 크게 기여했습니다.\n",
      "‘K-방역’은 국민 한 사람 한 사람의 헌신과 희생 위에 세워진 것입니다.\n",
      "세계 최초로 전국 단위 선거와 입시를 치러냈고, 봉쇄 없이 확산을 최대한 억제하며, OECD 국가 중에서도 손꼽히는 방역 모범국가가 된 것은, 우리 국민들이 만들어 낸, 누구도 깎아내릴 수 없는 소중한 성과입니다.\n",
      "우리 국민들의 상생 정신은 경제 위기를 극복하는 데에도 가장 큰 힘이 되었습니다.\n",
      "‘착한 임대료 운동’을 시작으로 ‘착한 선결제 운동’과 ‘농산물 꾸러미 운동’이 이어졌고, 어려움을 겪고 있는 이웃들과 ‘함께 사는 길’을 찾았습니다.\n",
      "노동자들은 경제 위기 극복에 앞장섰고, 기업들은 최대한 고용을 유지해 주었습니다.\n",
      "우리 경제는 지난해 OECD 국가 중 최고의 성장률로, GDP 규모 세계 10위권 안으로 진입할 전망이며, 1인당 국민소득 또한 사상 처음으로 G7 국가를 넘어설 것으로 예측됩니다.\n",
      "주가지수 역시 2,000선 돌파 14년 만에 주가 3,000시대를 열며 OECD 국가 중 가장 높은 주가 상승률을 기록했고, 위기 속에서도 한국 경제의 미래전망이 밝음을 보여주고 있습니다.\n",
      "대한민국은 결코 멈추지 않았습니다.\n",
      "국민 모두 어려움 속에서 최선을 다하며 위기에 강한 대한민국의 저력을 보여주었습니다.\n",
      "이제는 드디어 어두운 터널의 끝이 보입니다.\n",
      "불확실성들이 많이 걷혀, 이제는 예측하고 전망하며 계획을 세울 수 있게 되었습니다.\n",
      "올해 우리는 온전히 일상을 회복하고 빠르고 강한 경제회복으로 새로운 시대의 선도국가로 도약할 것입니다.\n",
      "하지만 국가 경제가 나아지더라도, 고용을 회복하고 소상공인·자영업자들이 입은 타격을 회복하는 데는 더 많은 시간이 걸릴 것입니다.\n",
      "코로나로 더 깊어진 격차를 줄이는 포용적인 회복을 이루는 것이 무엇보다 중요합니다.\n",
      "국민 여러분,\n",
      "마스크에서 해방되는 평범한 일상으로 빠르게 돌아가는 것이 급선무입니다.\n",
      "점차 나아지고 있는 방역의 마지막 고비를 잘 넘기는 것이 우선입니다.\n",
      "정부는 국민과 함께 3차 유행을 조기에 끝낼 수 있도록 최선을 다하겠습니다.\n",
      "다음 달이면, 백신 접종을 시작할 수 있습니다.\n",
      "우선순위에 따라 순서대로 전 국민이 무료로 접종받을 수 있도록 하겠습니다.\n",
      "우리 기업이 개발한 치료제의 심사도 진행 중입니다.\n",
      "안전성의 검사와 허가, 사용과 효과에 이르기까지 전 과정을 투명하게 공개하겠습니다.\n",
      "자체적인 백신 개발도 계속 독려할 것입니다.\n",
      "백신 자주권을 확보하여, 우리 국민의 안전과 국제 보건 협력을 강화하는데 기여할 수 있도록 하겠습니다.\n",
      "경제에서도 빠르고 강한 회복을 이룰 것입니다.\n",
      "이미 우리 경제는 지난해 3분기부터 플러스 성장으로 전환했습니다.\n",
      "지난해 12월 수출은 2년 만에 500억 달러를 넘었고 12월 기준으로는 역대 최고치를 기록했습니다.\n",
      "이 기세를 이어 우리 경제는 올해 상반기에 코로나 이전 수준을 회복하게 될 것입니다.\n",
      "민생경제에서는 코로나 3차 확산의 피해 업종과 계층을 지원하기 위해, 오늘부터 280만 명의 소상공인, 자영업자와 특수고용직, 프리랜서, 돌봄 종사자를 비롯한 87만 명의 고용 취약계층에게 3차 재난지원금을 지급합니다.\n",
      "충분하지 않은 줄 알지만 민생경제의 회복을 위한 마중물이 되기를 기대합니다.\n",
      "정부는 이에 그치지 않고, 민생경제 회복을 위해 앞으로도 정책역량을 총동원하겠습니다.\n",
      "상반기 중에 우리 경제가 코로나 이전 수준으로 회복될 수 있도록 확장적 예산을 신속하게 집행하고 110조 원 규모의 공공과 민간 투자 프로젝트를 속도감 있게 추진하겠습니다.\n",
      "민생경제의 핵심은 일자리입니다.\n",
      "지난해보다 5조 원 늘어난 30조5천억 원의 일자리 예산을 1분기에 집중투입 하겠습니다.\n",
      "특히, 청년·어르신·장애인을 비롯한 취약계층을 위해 직접 일자리 104만 개를 만들 예정입니다.\n",
      "‘함께’ 위기를 극복하기 위한 고용안전망과 사회안전망도 한층 강화됩니다.\n",
      "청년층과 저소득 구직자들이 취업지원서비스와 함께 생계비를 지원받을 수 있는 국민취업지원제도가 이달부터 시행됩니다.\n",
      "지난해 예술인들에 이어 오는 7월부터 특수고용직까지 고용보험 적용이 확대될 예정입니다.\n",
      "그동안 부양의무자가 있다는 이유로 생계급여를 받지 못했던 어르신과 한부모 가정, 저소득 가구 모두 이달부터 생계급여를 받을 수 있게 되었으며, 내년부터는 모든 가구의 부양의무자 기준을 폐지합니다.\n",
      "앞으로 전 국민 고용보험제도, 상병수당 등 고용안전망과 사회안전망 확충 노력을 계속해 나가겠습니다.\n",
      "위기일수록 서로의 손을 잡고 함께 가야 합니다.\n",
      "함께 위기에서 벗어나야 일상으로 돌아가는 일도 그만큼 수월해집니다.\n",
      "지난해 적극적인 일자리 창출과 저소득층 지원 노력으로 다른 나라들에 비해 고용 충격을 완화할 수 있었습니다.\n",
      "저소득층에 대한 정부 지원을 대폭 늘려 재정을 통한 분배 개선 효과도 크게 늘어났습니다.\n",
      "하지만 아직 부족합니다.\n",
      "민생 회복과 안전망 확충을 위해 더욱 노력하겠습니다.\n",
      "불편을 참고 이웃을 먼저 생각해 주신 국민들의 노력이 헛되지 않도록 ‘격차를 좁히는 위기 극복’으로 보답하겠습니다.\n",
      "주거 문제의 어려움으로 낙심이 큰 국민들께는 매우 송구한 마음입니다.\n",
      "주거 안정을 위해 필요한 대책 마련을 주저하지 않겠습니다.\n",
      "특별히 공급확대에 역점을 두고, 빠르게 효과를 볼 수 있는 다양한 주택공급 방안을 신속히 마련하겠습니다.\n",
      "국민 여러분,\n",
      "코로나로 인해 세계 경제가 빠르게 바뀌고 있습니다.\n",
      "비대면 경제와 디지털 혁신이 가속화되고 4차 산업혁명이 앞당겨지고 있습니다.\n",
      "코로나 이후 변화하는 세계시장을 선점하기 위한 각국의 경쟁도 더욱 치열해질 것입니다.\n",
      "미래는 준비하는 자의 몫입니다.\n",
      "우리 경제도 ‘선도형 경제로의 대전환’에 나섰습니다.\n",
      "자동차, 조선과 같은 우리 주력산업들이 경쟁력을 되찾고 있습니다.\n",
      "자동차 생산량은 지난해 세계 5강에 진입했고, 조선 수주량은 세계 1위 자리를 되찾았습니다.\n",
      "정부가 역점을 두어온 시스템반도체, 미래차, 바이오헬스 등 3대 신산업 모두 두 자릿수 수출증가율을 보이며 새로운 주력산업으로 빠르게 자리매김하고 있습니다.\n",
      "미래에 대한 투자도 꾸준히 늘고 있습니다.\n",
      "연구개발 투자 100조 원 시대가 열렸습니다.\n",
      "세계에서 다섯 번째 규모입니다.\n",
      "코로나 상황 속에서도 제2의 벤처 붐이 더욱 확산되어 지난해 벤처펀드 결성액이 역대 최대인 5조 원에 달하고, 벤처기업 증가, 고용 증가, 수출 규모 모두 사상 최대를 기록했습니다.\n",
      "우리 경제의 혁신 속도는 ‘상생’의 힘을 통해 더욱 빨라질 것입니다.\n",
      "우리는 대·중소기업의 협력으로 일본 수출규제의 파고를 이겨냈고, 광주에서 시작된 ‘상생형 지역 일자리’는 전국으로 확산되어 전기차, 첨단소재 등 새로운 성장동력을 키우고 있습니다.\n",
      "올해부터 본격적으로 추진되는 ‘한국판 뉴딜’의 핵심 또한 ‘사람’과 ‘상생’입니다.\n",
      "‘한국판 뉴딜’이 본격 추진되면 대한민국은 전국 곳곳에서 변화가 일어날 것입니다.\n",
      "새로운 인재를 육성할 것이며, 새로운 성장동력과 양질의 일자리가 창출될 것입니다.\n",
      "‘디지털 뉴딜’과 ‘그린 뉴딜’은 국민의 삶의 질을 바꾸게 될 것입니다.\n",
      "무엇보다 국민이 ‘한국판 뉴딜’을 체감하고 선도국가로 가는 길에 동행하는 것이 가장 중요합니다.\n",
      "‘한국판 뉴딜’의 중점을 ‘지역균형 뉴딜’에 두겠습니다.\n",
      "지역이 주체가 되어, 지자체와 주민, 지역 기업과 인재들이 머리를 맞대고, 현실적이고 창의적인 발전전략을 만들 수 있도록 하겠습니다.\n",
      "지역경제 혁신을 위한 노력도 더욱 강화하겠습니다.\n",
      "국가지방협력 특별교부세 등을 활용한 재정지원과 함께 규제자유특구를 새롭게 지정하여 혁신의 속도를 높이겠습니다.\n",
      "또한 국가균형발전을 위한 대규모·초광역 프로젝트를 신속하게 추진하고, 생활 SOC 투자를 늘려 지역 주민의 삶의 질을 더욱 높이겠습니다.\n",
      "‘한국판 뉴딜’이 ‘지역균형 뉴딜’을 통해 우리 삶 속에 스며들고, 기존의 국가균형발전계획과 시너지를 낸다면, 우리가 꿈꾸던 ‘혁신적 포용국가’에 성큼 다가설 수 있을 것입니다.\n",
      "정부는 민간이 활발하게 참여할 수 있도록 뉴딜 펀드 조성과 제도기반 마련에 힘쓰겠습니다.\n",
      "디지털경제 전환, 기후위기 대응, 지역균형발전 등 뉴딜 10대 영역의 핵심입법을 조속히 추진하고, 기업과의 소통과 협력을 강화해 나가겠습니다.\n",
      "국민들께서도 적극적으로 참여해 주시기 바랍니다.\n",
      "사회가 공정하다는 믿음이 있을 때 우리는 ‘함께 사는 길’을 선택할 수 있고, 실패해도 다시 일어설 수 있다는 용기로 혁신의 힘이 강해질 수 있습니다.\n",
      "우리는 공정의 힘을 믿으며 그 가치를 바로 세워가고 있습니다.\n",
      "권력기관 개혁은 견제와 균형을 이루는 일입니다.\n",
      "법질서가 누구에게나 평등하고 공정하게 적용되도록 하는 것입니다.\n",
      "우리는 지난해 오랜 숙제였던 법제도적인 개혁을 마침내 해냈습니다.\n",
      "공정경제 3법과 노동 관련 3법은 경제민주주의를 이뤄낼 것이며, 성장의 지속가능성을 높여줄 것입니다.\n",
      "모두 오랜 기간 형성된 제도와 관행을 바꾸는 일인 만큼, 현장에 자리 잡기까지 많은 어려움과 갈등요소가 있는 것이 사실입니다.\n",
      "다양한 이해관계자들과 긴밀히 소통하고 협력하여 개혁된 제도를 안착시켜 나가겠습니다.\n",
      "코로나 시대 교육격차와 돌봄격차의 완화, 필수노동자 보호, 산업재해 예방, 성범죄 근절, 학대 아동 보호 등 우리 사회 각 분야에서 새롭게 제기되는 공정에 대한 요구에도 끊임없이 귀 기울이고 대책을 보완해 가겠습니다.\n",
      "국민 여러분,\n",
      "기후변화와 같은 지구적 문제들을 해결하기 위해서도 상생의 정신이 발휘되어야 합니다.\n",
      "우리 국민들은, 자신이 좀 불편해도 자연과 더불어 살아가겠다는 강한 의지를 갖고 있습니다.\n",
      "올해는 기후변화협약 이행 원년입니다.\n",
      "정부는 그동안 우리 경제 구조의 저탄소화를 추진해왔습니다.\n",
      "그 노력을 확대하여 올해 안에 에너지와 산업을 비롯한 사회 전 분야에서 ‘2050 탄소중립’ 추진계획을 구체화할 것입니다.\n",
      "정부는 수소 경제와 저탄소 산업 생태계 육성에 더욱 속도를 내고 세계시장을 선점해 나가겠습니다.\n",
      "오는 5월 서울에서 열리는 ‘제2차 P4G 정상회의’가 ‘탄소중립’을 향한 국제사회의 의지가 결집되는 장이 될 수 있도록 국민들과 함께 준비하겠습니다.\n",
      "소프트파워에서도 선도국가로 도약할 것입니다.\n",
      "우리 문화예술은 민주주의가 키웠습니다.\n",
      "우리 문화예술의 창의력, 자유로운 상상력은 민주주의와 함께 더 다양해지고 더 큰 경쟁력을 갖게 되었습니다.\n",
      "BTS와 블랙핑크, 영화 <기생충>같은 K-콘텐츠들이 세계인들을 매료시키고, 행복을 주고 있습니다.\n",
      "정부는 문화예술인들이 마음껏 창의력과 ‘끼’를 발휘할 수 있도록 예술창작 활동을 지원하고, 한류 콘텐츠의 디지털화를 촉진하는 등 문화강국의 위상을 더욱 확실하게 다져나가겠습니다.\n",
      "훌륭한 기량을 갖춘 우리 스포츠 선수와 지도자들도 그 자체로 대한민국을 알리는 K-콘텐츠입니다.\n",
      "지난해 손흥민, 류현진, 김광현, 고진영 선수를 비롯한 많은 체육인들이 우리 국민과 세계인들에게 희망과 용기를 전했습니다.\n",
      "이제는 메달이 중요한 시대는 지났습니다. 함께 즐기는 시대입니다.\n",
      "정부는 전문 체육인들과 생활 체육인들이 스포츠 인권을 보장받으면서 마음껏 스포츠를 즐길 수 있도록 간섭없이 지원하겠습니다.\n",
      "코로나는 거리두기를 강요했지만, 역설적으로 전 세계인의 일상이 하나로 연결되어 있음을 보여주었습니다.\n",
      "한국은 당당한 중견국가로서 선진국과 개도국이 서로를 더 잘 이해하며 상생할 수 있도록 ‘가교 국가’의 역할을 다할 것입니다.\n",
      "RCEP, 한-인도네시아 CEPA에 이어 필리핀, 캄보디아, 우즈베키스탄과의 FTA에 속도를 높여 신남방, 신북방 국가들과의 교류와 협력을 넓히겠습니다.\n",
      "중국, 러시아와 진행 중인 서비스 투자 FTA, 브라질, 아르헨티나를 비롯한 메르코수르, 멕시코 등 태평양 동맹과의 협상을 가속화하고 CPTPP 가입도 적극 검토하겠습니다.\n",
      "한일 관계의 미래지향적 발전을 위해서도 계속 노력해 나갈 것입니다.\n",
      "우리의 검증된 보건의료 역량과 높은 시민의식, 우수한 문화 역량과 디지털기술의 발전, 탄소중립 사회의 의지, 높아진 국제사회에서의 역할과 위상을 통해 대한민국은 소프트파워에서도 책임 있는 선도국가의 길을 당당하게 걸어갈 것입니다.\n",
      "국민 여러분,\n",
      "올해는 남북이 유엔에 동시 가입한 지 30년이 되는 해입니다.\n",
      "한반도 평화와 번영이 국제사회에도 도움이 된다는 것을 남북은 손잡고 함께 증명해야 합니다.\n",
      "전쟁과 핵무기 없는 평화의 한반도야말로 민족과 후손들에게 물려주어야 할 우리의 의무입니다.\n",
      "정부는 미국 바이든 행정부의 출범에 발맞추어 한미동맹을 강화하는 한편 멈춰있는 북미대화와 남북대화에서 대전환을 이룰 수 있도록 마지막 노력을 다하겠습니다.\n",
      "남북 협력만으로도 이룰 수 있는 일들이 많습니다.\n",
      "‘평화’가 곧 ‘상생’입니다.\n",
      "우리는 가축전염병과 신종감염병, 자연재해를 겪으며 서로 긴밀히 연결되어 있음을 자각하고 있습니다.\n",
      "우리는 많은 문제에서 한배를 타고 있습니다.\n",
      "남·북 국민들의 생존과 안전을 위해 협력할 수 있는 방안을 찾아야 합니다.\n",
      "코로나에 대응하는 과정에서 ‘상생과 평화’의 물꼬가 트이기를 희망합니다.\n",
      "‘동북아 방역·보건 협력체’, ‘한-아세안 포괄적 보건의료 협력’을 비롯한 역내 대화에 남북이 함께할 수 있길 바랍니다.\n",
      "코로나 협력은 가축전염병과 자연재해 등 남북 국민들의 안전과 생존에 직결되는 문제들에 대한 협력으로 확장될 수 있을 것입니다.\n",
      "협력이 갈수록 넓어질 때 우리는 통일의 길로 한 걸음씩 나아갈 수 있습니다.\n",
      "한반도 평화 프로세스의 핵심 동력은 대화와 상생 협력입니다.\n",
      "언제든, 어디서든 만나고, 비대면의 방식으로도 대화할 수 있다는 우리의 의지는 변함없습니다.\n",
      "지금까지 남과 북이 함께 한 모든 합의, 특히 ‘전쟁 불용’, ‘상호 간 안전보장’, ‘공동번영’의 3대 원칙을 공동이행하는 가운데 국제사회의 지지를 이끌어낸다면, 한반도를 넘어 동아시아 지역을 중심으로 한 ‘평화·안보·생명공동체’의 문이 활짝 열릴 것입니다.\n",
      "존경하는 국민 여러분,\n",
      "마스크는 지금까지 아주 쉽게 구입할 수 있었고, 인류의 삶에서 그리 주목받는 물품이 아니었습니다.\n",
      "그러나 코로나가 닥쳐오자 마스크는 자신을 지키기 위한 보호장비이면서 동시에 배려의 마음을 표시하는 아름다운 물품이 되었습니다.\n",
      "‘필수노동자’라는 말도 새롭게 생겨났습니다.\n",
      "코로나를 겪으면서 보건, 돌봄, 운송, 환경미화, 콜센터 종사자와 같이 우리의 일상 유지를 위해 없어서는 안 될 필수적인 역할을 하는 분들의 노고를 새롭게 깨닫게 되었습니다.\n",
      "우리는 주변에서 흔하게 보던 물품 하나가 어느 순간 가장 중요한 물품이 될 수 있다는 것을 깨달았고, 마찬가지로 우리는 꼭 필요한 역할을 하면서도 제대로 된 처우를 받지 못하는 분들이 여전히 많다는 것도 새삼 느끼게 되었습니다.\n",
      "지난해 우리는 우리 사회에 정말 중요한 것이 무엇인지 돌아볼 수 있었습니다.\n",
      "‘모두의 안전이 나의 안전’이라는 사실을 되새기며 함께 행동에 나설 수 있었습니다.\n",
      "2021년, 우리의 목표는 분명합니다.\n",
      "‘회복’과 ‘도약’입니다.\n",
      "거기에 ‘포용’을 더하고 싶습니다.\n",
      "일상을 되찾고, 경제를 회복하며, 격차를 줄이는 한 해가 될 것입니다.\n",
      "코리아 디스카운트 시대가 끝나고 코리아 프리미엄 시대로 나아가는 선도국가 도약의 길을 향할 것입니다.\n",
      "지난해는, 위기에 강한 나라, 대한민국을 재발견한 해였습니다.\n",
      "2021년 올해는, 회복과 포용과 도약의 위대한 해로 만들어 냅시다.\n",
      "감사합니다.\n"
     ]
    }
   ],
   "source": [
    "gnb_menus = driver.find_elements_by_css_selector('#container > div > article > div.article-content > div.view-cont')\n",
    "print(gnb_menus[0].text)\n",
    "nya=gnb_menus[0].text"
   ]
  },
  {
   "cell_type": "markdown",
   "metadata": {},
   "source": [
    "!apt-get update \n",
    "!apt-get install g++ openjdk-8-jdk python-dev python3-dev \n",
    "!pip3 install JPype1-py3 \n",
    "!pip3 install konlpy \n",
    "!JAVA_HOME=\"C:\\Program Files\\Java\\jdk1.8.0_281\" -- 운영플랫폼에 맞춰 처리한다"
   ]
  },
  {
   "cell_type": "code",
   "execution_count": 34,
   "metadata": {},
   "outputs": [],
   "source": [
    "from wordcloud import WordCloud\n",
    "import matplotlib.pyplot as plt\n",
    "from konlpy.tag import Twitter\n",
    "from collections import Counter"
   ]
  },
  {
   "cell_type": "code",
   "execution_count": 35,
   "metadata": {},
   "outputs": [
    {
     "data": {
      "text/plain": [
       "['문재인',\n",
       " '대통령',\n",
       " '청와대',\n",
       " '신년사',\n",
       " '사진',\n",
       " '저작권',\n",
       " '연합뉴스',\n",
       " '무단',\n",
       " '배포',\n",
       " '금지',\n",
       " '존경',\n",
       " '국민',\n",
       " '여러분',\n",
       " '신축년',\n",
       " '새해',\n",
       " '희망',\n",
       " '기원',\n",
       " '마음',\n",
       " '새해',\n",
       " '새해',\n",
       " '말',\n",
       " '실감',\n",
       " '코로나',\n",
       " '전쟁',\n",
       " '생명',\n",
       " '안전',\n",
       " '위협',\n",
       " '유례',\n",
       " '민생',\n",
       " '경제',\n",
       " '어려움',\n",
       " '지속',\n",
       " '일상',\n",
       " '상실',\n",
       " '아픔',\n",
       " '계속',\n",
       " '고난',\n",
       " '시기',\n",
       " '국민',\n",
       " '위로',\n",
       " '말씀',\n",
       " '새해',\n",
       " '다른',\n",
       " '우리',\n",
       " '코로나',\n",
       " '낼',\n",
       " '우리',\n",
       " '국민',\n",
       " '회복',\n",
       " '용의',\n",
       " '도약',\n",
       " '국민',\n",
       " '여러분',\n",
       " '신종',\n",
       " '감염병',\n",
       " '인류',\n",
       " '생명',\n",
       " '위협',\n",
       " '일상',\n",
       " '송두리째',\n",
       " '우리',\n",
       " '또한',\n",
       " '예외',\n",
       " '세계',\n",
       " '경제',\n",
       " '대공황',\n",
       " '이후',\n",
       " '최악',\n",
       " '침체',\n",
       " '우리',\n",
       " '경제',\n",
       " '역시',\n",
       " '마이너스',\n",
       " '성장',\n",
       " '면치',\n",
       " '모두',\n",
       " '국민',\n",
       " '일',\n",
       " '년',\n",
       " '내내',\n",
       " '불편',\n",
       " '감수',\n",
       " '우리',\n",
       " '위기',\n",
       " '대한민국',\n",
       " '오히려',\n",
       " '의료',\n",
       " '진',\n",
       " '헌신',\n",
       " '환자',\n",
       " '국민',\n",
       " '스스로',\n",
       " '방역',\n",
       " '주체',\n",
       " '우리',\n",
       " '국민',\n",
       " '이웃',\n",
       " '안전',\n",
       " '곧',\n",
       " '나',\n",
       " '안전',\n",
       " '진실',\n",
       " '실천',\n",
       " '전',\n",
       " '세계',\n",
       " '국민',\n",
       " '자발',\n",
       " '구상',\n",
       " '창의',\n",
       " '방역',\n",
       " '조치',\n",
       " '현장',\n",
       " '적용',\n",
       " '한국',\n",
       " '진단',\n",
       " '키트',\n",
       " '드라이브',\n",
       " '스루',\n",
       " '검사',\n",
       " '방법',\n",
       " '마스크',\n",
       " '방역',\n",
       " '물품',\n",
       " '세계',\n",
       " '각국',\n",
       " '보급',\n",
       " '인류',\n",
       " '코로나',\n",
       " '로부터',\n",
       " '크게',\n",
       " '기여',\n",
       " '방역',\n",
       " '은',\n",
       " '국민',\n",
       " '사람',\n",
       " '사람',\n",
       " '헌신',\n",
       " '희생',\n",
       " '세계',\n",
       " '최초',\n",
       " '전국',\n",
       " '단위',\n",
       " '선거',\n",
       " '입시',\n",
       " '봉쇄',\n",
       " '확산',\n",
       " '최대한',\n",
       " '억제',\n",
       " '국가',\n",
       " '방역',\n",
       " '모범',\n",
       " '국가',\n",
       " '우리',\n",
       " '국민',\n",
       " '누구',\n",
       " '수',\n",
       " '성과',\n",
       " '우리',\n",
       " '국민',\n",
       " '상생',\n",
       " '정신',\n",
       " '경제',\n",
       " '위기',\n",
       " '극복',\n",
       " '데',\n",
       " '가장',\n",
       " '힘',\n",
       " '임대료',\n",
       " '운동',\n",
       " '시작',\n",
       " '선',\n",
       " '결제',\n",
       " '운동',\n",
       " '농산물',\n",
       " '꾸러미',\n",
       " '운동',\n",
       " '어려움',\n",
       " '이웃',\n",
       " '길',\n",
       " '노동자',\n",
       " '경제',\n",
       " '위기',\n",
       " '극복',\n",
       " '기업',\n",
       " '최대한',\n",
       " '고용',\n",
       " '유지',\n",
       " '우리',\n",
       " '경제',\n",
       " '지난해',\n",
       " '국가',\n",
       " '최고',\n",
       " '성장',\n",
       " '률',\n",
       " '규모',\n",
       " '세계',\n",
       " '진입',\n",
       " '전망',\n",
       " '국민소득',\n",
       " '또한',\n",
       " '사상',\n",
       " '처음',\n",
       " '국가',\n",
       " '예측',\n",
       " '주가지수',\n",
       " '역시',\n",
       " '선',\n",
       " '돌파',\n",
       " '주가',\n",
       " '열',\n",
       " '국가',\n",
       " '가장',\n",
       " '주가',\n",
       " '상',\n",
       " '승률',\n",
       " '기록',\n",
       " '위기',\n",
       " '한국',\n",
       " '경제',\n",
       " '미래',\n",
       " '전망',\n",
       " '대한민국',\n",
       " '결코',\n",
       " '국민',\n",
       " '모두',\n",
       " '어려움',\n",
       " '최선',\n",
       " '위기',\n",
       " '대한민국',\n",
       " '저력',\n",
       " '어',\n",
       " '두운',\n",
       " '터널',\n",
       " '끝',\n",
       " '불확실',\n",
       " '예측',\n",
       " '전망',\n",
       " '계획',\n",
       " '수',\n",
       " '올해',\n",
       " '우리',\n",
       " '일상',\n",
       " '회복',\n",
       " '시대',\n",
       " '선도',\n",
       " '국가',\n",
       " '도약',\n",
       " '국가',\n",
       " '경제',\n",
       " '고용',\n",
       " '소상',\n",
       " '공인',\n",
       " '자영',\n",
       " '업자',\n",
       " '타격',\n",
       " '데',\n",
       " '시간',\n",
       " '코로나',\n",
       " '격차',\n",
       " '용적',\n",
       " '회복',\n",
       " '무엇',\n",
       " '국민',\n",
       " '여러분',\n",
       " '마스크',\n",
       " '해방',\n",
       " '일상',\n",
       " '급선무',\n",
       " '점차',\n",
       " '방역',\n",
       " '마지막',\n",
       " '고비',\n",
       " '우선',\n",
       " '정부',\n",
       " '국민',\n",
       " '차',\n",
       " '유행',\n",
       " '조기',\n",
       " '수',\n",
       " '최선',\n",
       " '다음',\n",
       " '달이',\n",
       " '백신',\n",
       " '접종',\n",
       " '시작',\n",
       " '수',\n",
       " '우선',\n",
       " '순위',\n",
       " '순서대로',\n",
       " '전',\n",
       " '국민',\n",
       " '무료',\n",
       " '접종',\n",
       " '수',\n",
       " '우리',\n",
       " '기업',\n",
       " '개발',\n",
       " '치료',\n",
       " '제의',\n",
       " '심사',\n",
       " '진행',\n",
       " '안전성',\n",
       " '검사',\n",
       " '허가',\n",
       " '사용',\n",
       " '효과',\n",
       " '전',\n",
       " '과정',\n",
       " '공개',\n",
       " '자체',\n",
       " '백신',\n",
       " '개발',\n",
       " '계속',\n",
       " '독려',\n",
       " '백신',\n",
       " '자주권',\n",
       " '확보',\n",
       " '우리',\n",
       " '국민',\n",
       " '안전',\n",
       " '국제',\n",
       " '보건',\n",
       " '협력',\n",
       " '기여',\n",
       " '수',\n",
       " '경제',\n",
       " '회복',\n",
       " '우리',\n",
       " '경제',\n",
       " '지난해',\n",
       " '플러스',\n",
       " '성장',\n",
       " '전환',\n",
       " '지난해',\n",
       " '수출',\n",
       " '달러',\n",
       " '기준',\n",
       " '역대',\n",
       " '최고',\n",
       " '기록',\n",
       " '기세',\n",
       " '우리',\n",
       " '경제',\n",
       " '올해',\n",
       " '상반기',\n",
       " '코로나',\n",
       " '이전',\n",
       " '수준',\n",
       " '민생',\n",
       " '경제',\n",
       " '코로나',\n",
       " '차',\n",
       " '확산',\n",
       " '피해',\n",
       " '업종',\n",
       " '계층',\n",
       " '지원',\n",
       " '위해',\n",
       " '오늘',\n",
       " '명의',\n",
       " '소상',\n",
       " '공인',\n",
       " '자영',\n",
       " '업자',\n",
       " '특수',\n",
       " '고용',\n",
       " '직',\n",
       " '프리랜서',\n",
       " '종사',\n",
       " '비롯',\n",
       " '명의',\n",
       " '고용',\n",
       " '취약',\n",
       " '계층',\n",
       " '차',\n",
       " '재난',\n",
       " '원금',\n",
       " '지급',\n",
       " '줄',\n",
       " '알',\n",
       " '민생',\n",
       " '경제',\n",
       " '회복',\n",
       " '마중',\n",
       " '물이',\n",
       " '정부',\n",
       " '민생',\n",
       " '경제',\n",
       " '회복',\n",
       " '위해',\n",
       " '앞',\n",
       " '정책',\n",
       " '역량',\n",
       " '총동원',\n",
       " '상반기',\n",
       " '우리',\n",
       " '경제',\n",
       " '코로나',\n",
       " '이전',\n",
       " '수준',\n",
       " '회복',\n",
       " '수',\n",
       " '확장',\n",
       " '예산',\n",
       " '집행',\n",
       " '규모',\n",
       " '공공',\n",
       " '민간',\n",
       " '투자',\n",
       " '프로젝트',\n",
       " '도감',\n",
       " '추진',\n",
       " '민생',\n",
       " '경제',\n",
       " '핵심',\n",
       " '일자리',\n",
       " '지난해',\n",
       " '일자리',\n",
       " '예산',\n",
       " '집중',\n",
       " '투입',\n",
       " '청년',\n",
       " '어르신',\n",
       " '장애인',\n",
       " '비롯',\n",
       " '취약',\n",
       " '계층',\n",
       " '위해',\n",
       " '직접',\n",
       " '일자리',\n",
       " '개',\n",
       " '예정',\n",
       " '위기',\n",
       " '극복',\n",
       " '고용',\n",
       " '안전',\n",
       " '망',\n",
       " '회안',\n",
       " '전망',\n",
       " '한층',\n",
       " '강화',\n",
       " '청년',\n",
       " '층',\n",
       " '소득',\n",
       " '구직',\n",
       " '취업',\n",
       " '서비스',\n",
       " '생계비',\n",
       " '지원',\n",
       " '수',\n",
       " '국민',\n",
       " '취업',\n",
       " '제도',\n",
       " '달',\n",
       " '시행',\n",
       " '지난해',\n",
       " '예술인',\n",
       " '특수',\n",
       " '고용',\n",
       " '직',\n",
       " '고용',\n",
       " '보험',\n",
       " '적용',\n",
       " '확대',\n",
       " '예정',\n",
       " '그동안',\n",
       " '부양',\n",
       " '의무',\n",
       " '이유',\n",
       " '생계',\n",
       " '급여',\n",
       " '어르신',\n",
       " '한부모',\n",
       " '가정',\n",
       " '소득',\n",
       " '가구',\n",
       " '모두',\n",
       " '달',\n",
       " '생계',\n",
       " '급여',\n",
       " '수',\n",
       " '내년',\n",
       " '모든',\n",
       " '가구',\n",
       " '부양',\n",
       " '의무',\n",
       " '기준',\n",
       " '폐지',\n",
       " '앞',\n",
       " '전',\n",
       " '국민',\n",
       " '고용',\n",
       " '보험',\n",
       " '제도',\n",
       " '상병',\n",
       " '수당',\n",
       " '고용',\n",
       " '안전',\n",
       " '망',\n",
       " '회안',\n",
       " '전망',\n",
       " '확충',\n",
       " '노력',\n",
       " '계속',\n",
       " '위기',\n",
       " '서로',\n",
       " '손',\n",
       " '잡고',\n",
       " '가야',\n",
       " '위기',\n",
       " '일상',\n",
       " '일도',\n",
       " '지난해',\n",
       " '적극',\n",
       " '일자리',\n",
       " '창',\n",
       " '소득',\n",
       " '층',\n",
       " '지원',\n",
       " '노력',\n",
       " '다른',\n",
       " '나라',\n",
       " '고용',\n",
       " '충격',\n",
       " '완화',\n",
       " '수',\n",
       " '소득',\n",
       " '층',\n",
       " '대한',\n",
       " '정부',\n",
       " '지원',\n",
       " '대폭',\n",
       " '재정',\n",
       " '통한',\n",
       " '분배',\n",
       " '개선',\n",
       " '효과',\n",
       " '크게',\n",
       " '민생',\n",
       " '회복',\n",
       " '안전',\n",
       " '망',\n",
       " '확충',\n",
       " '위해',\n",
       " '더욱',\n",
       " '노력',\n",
       " '불편',\n",
       " '참고',\n",
       " '이웃',\n",
       " '먼저',\n",
       " '생각',\n",
       " '주신',\n",
       " '국민',\n",
       " '노력',\n",
       " '헛되',\n",
       " '격차',\n",
       " '위기',\n",
       " '극복',\n",
       " '보답',\n",
       " '주거',\n",
       " '문제',\n",
       " '어려움',\n",
       " '낙심',\n",
       " '국민',\n",
       " '매우',\n",
       " '송구',\n",
       " '마음',\n",
       " '주거',\n",
       " '안정',\n",
       " '위해',\n",
       " '대책',\n",
       " '마련',\n",
       " '주저',\n",
       " '공급',\n",
       " '확대',\n",
       " '역점',\n",
       " '효과',\n",
       " '볼',\n",
       " '수',\n",
       " '주택',\n",
       " '공급',\n",
       " '방안',\n",
       " '마련',\n",
       " '국민',\n",
       " '여러분',\n",
       " '코로나',\n",
       " '세계',\n",
       " '경제',\n",
       " '비대',\n",
       " '경제',\n",
       " '디지털',\n",
       " '혁신',\n",
       " '가속',\n",
       " '차',\n",
       " '산업혁명',\n",
       " '코로나',\n",
       " '이후',\n",
       " '변화',\n",
       " '계시',\n",
       " '선점',\n",
       " '각국',\n",
       " '경쟁',\n",
       " '더욱',\n",
       " '미래',\n",
       " '준비',\n",
       " '자의',\n",
       " '몫',\n",
       " '우리',\n",
       " '경제',\n",
       " '선도',\n",
       " '제로',\n",
       " '전환',\n",
       " '자동차',\n",
       " '조선',\n",
       " '우리',\n",
       " '주력',\n",
       " '산업',\n",
       " '경쟁력',\n",
       " '자동차',\n",
       " '생산량',\n",
       " '지난해',\n",
       " '세계',\n",
       " '강',\n",
       " '진입',\n",
       " '조선',\n",
       " '수주량',\n",
       " '세계',\n",
       " '자리',\n",
       " '정부',\n",
       " '역점',\n",
       " '온',\n",
       " '시스템',\n",
       " '반도체',\n",
       " '미래',\n",
       " '차',\n",
       " '바이오',\n",
       " '헬스',\n",
       " '산업',\n",
       " '모두',\n",
       " '두',\n",
       " '자릿수',\n",
       " '수출',\n",
       " '증가',\n",
       " '율',\n",
       " '보이',\n",
       " '주력',\n",
       " '산업',\n",
       " '김',\n",
       " '미래',\n",
       " '대한',\n",
       " '투자',\n",
       " '늘',\n",
       " '연구개발',\n",
       " '투자',\n",
       " '시대',\n",
       " '세계',\n",
       " '다섯',\n",
       " '규모',\n",
       " '코로나',\n",
       " '상황',\n",
       " '제',\n",
       " '처',\n",
       " '붐',\n",
       " '더욱',\n",
       " '확산',\n",
       " '지난해',\n",
       " '처',\n",
       " '펀드',\n",
       " '결성',\n",
       " '액',\n",
       " '역대',\n",
       " '최대',\n",
       " '달',\n",
       " '벤처기업',\n",
       " '증가',\n",
       " '고용',\n",
       " '증가',\n",
       " '수출',\n",
       " '규모',\n",
       " '모두',\n",
       " '사상',\n",
       " '최대',\n",
       " '기록',\n",
       " '우리',\n",
       " '경제',\n",
       " '혁신',\n",
       " '속도',\n",
       " '상생',\n",
       " '힘',\n",
       " '통해',\n",
       " '더욱',\n",
       " '우리',\n",
       " '중소기업',\n",
       " '협력',\n",
       " '일본',\n",
       " '수출',\n",
       " '규제',\n",
       " '파고',\n",
       " '광주',\n",
       " '시작',\n",
       " '상생',\n",
       " '지역',\n",
       " '일자리',\n",
       " '전국',\n",
       " '확산',\n",
       " '전기차',\n",
       " '첨단',\n",
       " '소재',\n",
       " '성장동력',\n",
       " '올해',\n",
       " '본격',\n",
       " '추진',\n",
       " '한국판',\n",
       " '뉴딜',\n",
       " '핵심',\n",
       " '또한',\n",
       " '사람',\n",
       " '상생',\n",
       " '한국판',\n",
       " '뉴딜',\n",
       " '본격',\n",
       " '추진',\n",
       " '대한민국',\n",
       " '전국',\n",
       " '곳곳',\n",
       " '변화',\n",
       " '인재',\n",
       " '육성',\n",
       " '성장동력',\n",
       " '양질',\n",
       " '일자리',\n",
       " '창',\n",
       " '디지털',\n",
       " '뉴딜',\n",
       " '그린',\n",
       " '뉴딜',\n",
       " '은',\n",
       " '국민',\n",
       " '삶',\n",
       " '질',\n",
       " '무엇',\n",
       " '국민',\n",
       " '한국판',\n",
       " '뉴딜',\n",
       " '체감',\n",
       " '선도',\n",
       " '국가',\n",
       " '길',\n",
       " '동행',\n",
       " '가장',\n",
       " '한국판',\n",
       " '뉴딜',\n",
       " '중점',\n",
       " '지역',\n",
       " '균형',\n",
       " '뉴딜',\n",
       " '지역',\n",
       " '주체',\n",
       " '지자체',\n",
       " '주민',\n",
       " '지역',\n",
       " '기업',\n",
       " '인재',\n",
       " '머리',\n",
       " '현실',\n",
       " '창의',\n",
       " '발전',\n",
       " '전략',\n",
       " '수',\n",
       " '지역',\n",
       " '경제',\n",
       " '혁신',\n",
       " '노력',\n",
       " '더욱',\n",
       " '국가',\n",
       " '지방',\n",
       " '협력',\n",
       " '특별',\n",
       " '교부',\n",
       " '세',\n",
       " '활용',\n",
       " '재정',\n",
       " '지원',\n",
       " '규제',\n",
       " '자유',\n",
       " '특',\n",
       " '지정',\n",
       " '혁신',\n",
       " '속도',\n",
       " '또한',\n",
       " '국가',\n",
       " '균형발전',\n",
       " '대규모',\n",
       " '초',\n",
       " '광역',\n",
       " '프로젝트',\n",
       " '추진',\n",
       " '생활',\n",
       " '투자',\n",
       " '지역',\n",
       " '주민',\n",
       " '삶',\n",
       " '질',\n",
       " '더욱',\n",
       " '한국판',\n",
       " '뉴딜',\n",
       " '지역',\n",
       " '균형',\n",
       " '뉴딜',\n",
       " '통해',\n",
       " '우리',\n",
       " '삶',\n",
       " '기존',\n",
       " '국가',\n",
       " '균형발전',\n",
       " '계획',\n",
       " '시너지',\n",
       " '우리',\n",
       " '혁신',\n",
       " '용국',\n",
       " '성큼',\n",
       " '수',\n",
       " '정부',\n",
       " '민간',\n",
       " '참여',\n",
       " '수',\n",
       " '뉴딜',\n",
       " '펀드',\n",
       " '조성',\n",
       " '제도',\n",
       " '기반',\n",
       " '마련',\n",
       " '디지털',\n",
       " '경제',\n",
       " '전환',\n",
       " '기후',\n",
       " '위기',\n",
       " '대응',\n",
       " '지역',\n",
       " '균형발전',\n",
       " '뉴딜',\n",
       " '영역',\n",
       " '핵심',\n",
       " '입법',\n",
       " '조속',\n",
       " '추진',\n",
       " '기업',\n",
       " '소통',\n",
       " '협력',\n",
       " '국민',\n",
       " '서도',\n",
       " '적극',\n",
       " '참여',\n",
       " '시기',\n",
       " '사회',\n",
       " '믿음',\n",
       " '때',\n",
       " '우리',\n",
       " '길',\n",
       " '선택',\n",
       " '수',\n",
       " '다시',\n",
       " '수',\n",
       " '용기',\n",
       " '혁신',\n",
       " '힘',\n",
       " '수',\n",
       " '우리',\n",
       " '공정',\n",
       " '힘',\n",
       " '가치',\n",
       " '바로',\n",
       " '권력',\n",
       " '기관',\n",
       " '개혁',\n",
       " '견제',\n",
       " '균형',\n",
       " '일',\n",
       " '법질서',\n",
       " '누구',\n",
       " '적용',\n",
       " '우리',\n",
       " '지난해',\n",
       " '숙제',\n",
       " '법',\n",
       " '제도',\n",
       " '개혁',\n",
       " '마침내',\n",
       " '공정',\n",
       " '경제',\n",
       " '법',\n",
       " '노동',\n",
       " '관련',\n",
       " '법',\n",
       " '민주주의',\n",
       " '낼',\n",
       " '성장',\n",
       " '지속가능성',\n",
       " '모두',\n",
       " '기간',\n",
       " '형성',\n",
       " '제도',\n",
       " '관행',\n",
       " '일인',\n",
       " '만큼',\n",
       " '현장',\n",
       " '자리',\n",
       " '잡기',\n",
       " '어려움',\n",
       " '갈등',\n",
       " '요소',\n",
       " '사실',\n",
       " '이해관계자',\n",
       " '소통',\n",
       " '협력',\n",
       " '개혁',\n",
       " '제도',\n",
       " '안착',\n",
       " '코로나',\n",
       " '시대',\n",
       " '교육',\n",
       " '격차',\n",
       " '격차',\n",
       " '완화',\n",
       " '필수',\n",
       " '노동자',\n",
       " '보호',\n",
       " '산업',\n",
       " '재해',\n",
       " '예방',\n",
       " '성범죄',\n",
       " '근절',\n",
       " '학대',\n",
       " '아동',\n",
       " '보호',\n",
       " '우리',\n",
       " '사회',\n",
       " '각',\n",
       " '분야',\n",
       " '제기',\n",
       " '공정',\n",
       " '대한',\n",
       " '요구',\n",
       " '귀',\n",
       " '대책',\n",
       " '보완',\n",
       " '국민',\n",
       " '여러분',\n",
       " '기후변화',\n",
       " '지구',\n",
       " '문제',\n",
       " '해결',\n",
       " '상생',\n",
       " '정신',\n",
       " '발휘',\n",
       " '우리',\n",
       " '국민',\n",
       " '자신',\n",
       " '좀',\n",
       " '자연',\n",
       " '의지',\n",
       " '올해',\n",
       " '기후변화',\n",
       " '협약',\n",
       " '이행',\n",
       " '원년',\n",
       " '정부',\n",
       " '그동안',\n",
       " '우리',\n",
       " '경제',\n",
       " '구조',\n",
       " '탄소',\n",
       " '추진',\n",
       " '노력',\n",
       " '확대',\n",
       " '올해',\n",
       " '에너지',\n",
       " '산업',\n",
       " '비롯',\n",
       " '사회',\n",
       " '전',\n",
       " '분야',\n",
       " '탄소',\n",
       " '중립',\n",
       " '추진',\n",
       " '계획',\n",
       " '구체',\n",
       " '정부',\n",
       " '수소',\n",
       " '경제',\n",
       " '탄소',\n",
       " '산업',\n",
       " '생태계',\n",
       " '육성',\n",
       " '더욱',\n",
       " '속도',\n",
       " '계시',\n",
       " '선점해',\n",
       " '서울',\n",
       " '제',\n",
       " ...]"
      ]
     },
     "execution_count": 35,
     "metadata": {},
     "output_type": "execute_result"
    }
   ],
   "source": [
    "t=Twitter()\n",
    "tokens_ko=t.nouns(nya)\n",
    "stop_words=['그','것','살','다만','해','로','중','등','의','또','더','포','재','위','과','속','음','이제','이','안','원']\n",
    "tokens_ko=[each_word for each_word in tokens_ko if each_word not in stop_words]\n",
    "tokens_ko"
   ]
  },
  {
   "cell_type": "code",
   "execution_count": 36,
   "metadata": {},
   "outputs": [],
   "source": [
    "from PIL import Image\n",
    "import numpy as np"
   ]
  },
  {
   "cell_type": "code",
   "execution_count": 37,
   "metadata": {},
   "outputs": [],
   "source": [
    "data2=Counter(tokens_ko).most_common(100)\n",
    "temp_data=dict(data2)\n",
    "# https://hangeul.naver.com/font\n",
    "mask_image=np.array(Image.open('bigStudy/sunflower.jpg'))\n",
    "wordcloud2=WordCloud(font_path='NanumBarunGothic.ttf',relative_scaling=0,background_color='white',mask=mask_image,colormap='Spectral').generate_from_frequencies(temp_data)"
   ]
  },
  {
   "cell_type": "code",
   "execution_count": 38,
   "metadata": {},
   "outputs": [
    {
     "data": {
      "image/png": "[encoded data removed]",
      "text/plain": [
       "<Figure size 576x1440 with 1 Axes>"
      ]
     },
     "metadata": {
      "needs_background": "light"
     },
     "output_type": "display_data"
    }
   ],
   "source": [
    "plt.figure(figsize=(8,20))\n",
    "plt.imshow(wordcloud2,interpolation='bilinear')\n",
    "plt.axis('off')\n",
    "plt.show()"
   ]
  },
  {
   "cell_type": "markdown",
   "metadata": {},
   "source": [
    "# iris 데이터 셋 정규화 해보기\n"
   ]
  },
  {
   "cell_type": "markdown",
   "metadata": {},
   "source": [
    "###  데이터 불러오기"
   ]
  },
  {
   "cell_type": "code",
   "execution_count": 39,
   "metadata": {},
   "outputs": [],
   "source": [
    "from sklearn.datasets import load_iris\n",
    "import pandas as pd\n",
    "from sklearn.preprocessing import StandardScaler\n",
    "import seaborn as sns\n",
    "import matplotlib.pyplot as plt\n",
    "import scipy as sp\n",
    "import scipy.stats\n",
    "\n",
    "# 붓꽃 데이터 셋을 로딩하고 DataFrame으로 변환합니다. \n",
    "iris = load_iris()\n",
    "iris_data = iris.data\n",
    "iris_df = pd.DataFrame(data=iris_data, columns=iris.feature_names)"
   ]
  },
  {
   "cell_type": "code",
   "execution_count": 41,
   "metadata": {},
   "outputs": [
    {
     "data": {
      "text/html": [
       "<div>\n",
       "<style scoped>\n",
       "    .dataframe tbody tr th:only-of-type {\n",
       "        vertical-align: middle;\n",
       "    }\n",
       "\n",
       "    .dataframe tbody tr th {\n",
       "        vertical-align: top;\n",
       "    }\n",
       "\n",
       "    .dataframe thead th {\n",
       "        text-align: right;\n",
       "    }\n",
       "</style>\n",
       "<table border=\"1\" class=\"dataframe\">\n",
       "  <thead>\n",
       "    <tr style=\"text-align: right;\">\n",
       "      <th></th>\n",
       "      <th>sepal length (cm)</th>\n",
       "      <th>sepal width (cm)</th>\n",
       "      <th>petal length (cm)</th>\n",
       "      <th>petal width (cm)</th>\n",
       "    </tr>\n",
       "  </thead>\n",
       "  <tbody>\n",
       "    <tr>\n",
       "      <th>0</th>\n",
       "      <td>5.1</td>\n",
       "      <td>3.5</td>\n",
       "      <td>1.4</td>\n",
       "      <td>0.2</td>\n",
       "    </tr>\n",
       "    <tr>\n",
       "      <th>1</th>\n",
       "      <td>4.9</td>\n",
       "      <td>3.0</td>\n",
       "      <td>1.4</td>\n",
       "      <td>0.2</td>\n",
       "    </tr>\n",
       "    <tr>\n",
       "      <th>2</th>\n",
       "      <td>4.7</td>\n",
       "      <td>3.2</td>\n",
       "      <td>1.3</td>\n",
       "      <td>0.2</td>\n",
       "    </tr>\n",
       "    <tr>\n",
       "      <th>3</th>\n",
       "      <td>4.6</td>\n",
       "      <td>3.1</td>\n",
       "      <td>1.5</td>\n",
       "      <td>0.2</td>\n",
       "    </tr>\n",
       "    <tr>\n",
       "      <th>4</th>\n",
       "      <td>5.0</td>\n",
       "      <td>3.6</td>\n",
       "      <td>1.4</td>\n",
       "      <td>0.2</td>\n",
       "    </tr>\n",
       "    <tr>\n",
       "      <th>5</th>\n",
       "      <td>5.4</td>\n",
       "      <td>3.9</td>\n",
       "      <td>1.7</td>\n",
       "      <td>0.4</td>\n",
       "    </tr>\n",
       "    <tr>\n",
       "      <th>6</th>\n",
       "      <td>4.6</td>\n",
       "      <td>3.4</td>\n",
       "      <td>1.4</td>\n",
       "      <td>0.3</td>\n",
       "    </tr>\n",
       "    <tr>\n",
       "      <th>7</th>\n",
       "      <td>5.0</td>\n",
       "      <td>3.4</td>\n",
       "      <td>1.5</td>\n",
       "      <td>0.2</td>\n",
       "    </tr>\n",
       "    <tr>\n",
       "      <th>8</th>\n",
       "      <td>4.4</td>\n",
       "      <td>2.9</td>\n",
       "      <td>1.4</td>\n",
       "      <td>0.2</td>\n",
       "    </tr>\n",
       "    <tr>\n",
       "      <th>9</th>\n",
       "      <td>4.9</td>\n",
       "      <td>3.1</td>\n",
       "      <td>1.5</td>\n",
       "      <td>0.1</td>\n",
       "    </tr>\n",
       "  </tbody>\n",
       "</table>\n",
       "</div>"
      ],
      "text/plain": [
       "   sepal length (cm)  sepal width (cm)  petal length (cm)  petal width (cm)\n",
       "0                5.1               3.5                1.4               0.2\n",
       "1                4.9               3.0                1.4               0.2\n",
       "2                4.7               3.2                1.3               0.2\n",
       "3                4.6               3.1                1.5               0.2\n",
       "4                5.0               3.6                1.4               0.2\n",
       "5                5.4               3.9                1.7               0.4\n",
       "6                4.6               3.4                1.4               0.3\n",
       "7                5.0               3.4                1.5               0.2\n",
       "8                4.4               2.9                1.4               0.2\n",
       "9                4.9               3.1                1.5               0.1"
      ]
     },
     "execution_count": 41,
     "metadata": {},
     "output_type": "execute_result"
    }
   ],
   "source": [
    "iris_df.head(10)"
   ]
  },
  {
   "cell_type": "markdown",
   "metadata": {},
   "source": [
    "### 1. 표준화"
   ]
  },
  {
   "cell_type": "code",
   "execution_count": 42,
   "metadata": {},
   "outputs": [
    {
     "name": "stdout",
     "output_type": "stream",
     "text": [
      "feature 들의 평균 값\n",
      "sepal length (cm)    5.843333\n",
      "sepal width (cm)     3.057333\n",
      "petal length (cm)    3.758000\n",
      "petal width (cm)     1.199333\n",
      "dtype: float64\n",
      "\n",
      "feature 들의 분산 값\n",
      "sepal length (cm)    0.685694\n",
      "sepal width (cm)     0.189979\n",
      "petal length (cm)    3.116278\n",
      "petal width (cm)     0.581006\n",
      "dtype: float64\n",
      "\n",
      "=========== 표준화 ==============\n",
      "\n",
      "feature 들의 평균 값\n",
      "sepal length (cm)   -1.690315e-15\n",
      "sepal width (cm)    -1.842970e-15\n",
      "petal length (cm)   -1.698641e-15\n",
      "petal width (cm)    -1.409243e-15\n",
      "dtype: float64\n",
      "\n",
      "feature 들의 분산 값\n",
      "sepal length (cm)    1.006711\n",
      "sepal width (cm)     1.006711\n",
      "petal length (cm)    1.006711\n",
      "petal width (cm)     1.006711\n",
      "dtype: float64\n"
     ]
    }
   ],
   "source": [
    "# 원래 데이터들의 평균과 분산 확인 \n",
    "print('feature 들의 평균 값')\n",
    "print(iris_df.mean())\n",
    "print('\\nfeature 들의 분산 값')\n",
    "print(iris_df.var())\n",
    "\n",
    "# StandardScaler객체 생성\n",
    "scaler = StandardScaler()\n",
    "# StandardScaler 로 데이터 셋 변환. fit( ) 과 transform( ) 호출.  \n",
    "scaler.fit(iris_df)\n",
    "iris_scaled = scaler.transform(iris_df)\n",
    "\n",
    "print(\"\\n=========== 표준화 ==============\\n\")\n",
    "\n",
    "#transform( )시 scale 변환된 데이터 셋이 numpy ndarry로 반환되어 이를 DataFrame으로 변환\n",
    "iris_df_scaled = pd.DataFrame(data=iris_scaled, columns=iris.feature_names)\n",
    "print('feature 들의 평균 값')\n",
    "print(iris_df_scaled.mean())\n",
    "print('\\nfeature 들의 분산 값')\n",
    "print(iris_df_scaled.var())"
   ]
  },
  {
   "cell_type": "code",
   "execution_count": 43,
   "metadata": {},
   "outputs": [
    {
     "data": {
      "image/png": "[encoded data removed]",
      "text/plain": [
       "<Figure size 576x360 with 2 Axes>"
      ]
     },
     "metadata": {
      "needs_background": "light"
     },
     "output_type": "display_data"
    }
   ],
   "source": [
    "# 각 값들의 정규 분포 모양 비교\n",
    "f,ax = plt.subplots(1,2,figsize=(8,5))\n",
    "\n",
    "# 표준화 전 정규분포 \n",
    "x0 = iris_df['petal length (cm)'].dropna().values\n",
    "sns.distplot(x0, kde=False, rug=False, fit =sp.stats.norm, ax = ax[0]) #커널 밀도 함수, 러그밀도함수 는 안보이고(False) / 정규분포만 보이게(Fit)\n",
    "\n",
    "# 표준화 이후 정규 분포 \n",
    "x1 = iris_df_scaled['petal length (cm)'].values\n",
    "sns.distplot(x1, kde=False, rug=False, fit =sp.stats.norm, ax = ax[1]) \n",
    "plt.show()"
   ]
  },
  {
   "cell_type": "markdown",
   "metadata": {},
   "source": [
    "### 2.이상치 발견 및 제거과정\n"
   ]
  },
  {
   "cell_type": "code",
   "execution_count": 44,
   "metadata": {},
   "outputs": [
    {
     "name": "stdout",
     "output_type": "stream",
     "text": [
      "Check sepal length (cm)\n",
      "sepal length (cm) Has outliers\n",
      " 105    2.128516\n",
      "117    2.249683\n",
      "118    2.249683\n",
      "122    2.249683\n",
      "131    2.492019\n",
      "135    2.249683\n",
      "Name: sepal length (cm)_Zscore, dtype: float64\n",
      "\n",
      "Check sepal width (cm)\n",
      "sepal width (cm) Has outliers\n",
      " 14    2.169988\n",
      "15    3.090775\n",
      "32    2.400185\n",
      "33    2.630382\n",
      "60   -2.433947\n",
      "Name: sepal width (cm)_Zscore, dtype: float64\n",
      "\n",
      "Check petal length (cm)\n",
      "petal length (cm) Has Not outlier\n",
      "\n",
      "Check petal width (cm)\n",
      "petal width (cm) Has Not outlier\n",
      "\n",
      "Before (150, 4)\n",
      "After (drop outlier) (139, 4)\n"
     ]
    }
   ],
   "source": [
    "# check Z score \n",
    "df_Zscore = pd.DataFrame()\n",
    "outlier_dict = {}\n",
    "outlier_idx_list = []\n",
    "\n",
    "for one_col in iris_df_scaled.columns:\n",
    "    print(\"Check\",one_col)\n",
    "    df_Zscore[f'{one_col}_Zscore'] = sp.stats.zscore(iris_df_scaled[one_col])\n",
    "    outlier_dict[one_col] = df_Zscore[f'{one_col}_Zscore'][(df_Zscore[f'{one_col}_Zscore']>2)|(df_Zscore[f'{one_col}_Zscore']<-2)]\n",
    "    outlier_idx_list.append(list(outlier_dict[one_col].index))\n",
    "    if len(outlier_dict[one_col]):\n",
    "        print(one_col,'Has outliers\\n', outlier_dict[one_col])\n",
    "    else:\n",
    "        print(one_col,\"Has Not outlier\")\n",
    "    print()\n",
    "\n",
    "\n",
    "print(\"Before\", iris_df_scaled.shape)\n",
    "all_outlier_idx = sum(outlier_idx_list,[])\n",
    "iris_df_scaled = iris_df_scaled.drop(all_outlier_idx)\n",
    "print(\"After (drop outlier)\", iris_df_scaled.shape)"
   ]
  },
  {
   "cell_type": "markdown",
   "metadata": {},
   "source": [
    "### 3. 정규화 작업 \n"
   ]
  },
  {
   "cell_type": "code",
   "execution_count": 45,
   "metadata": {},
   "outputs": [
    {
     "name": "stdout",
     "output_type": "stream",
     "text": [
      "feature들의 최소 값\n",
      "sepal length (cm)    0.0\n",
      "sepal width (cm)     0.0\n",
      "petal length (cm)    0.0\n",
      "petal width (cm)     0.0\n",
      "dtype: float64\n",
      "\n",
      "feature들의 최대 값\n",
      "sepal length (cm)    1.0\n",
      "sepal width (cm)     1.0\n",
      "petal length (cm)    1.0\n",
      "petal width (cm)     1.0\n",
      "dtype: float64\n"
     ]
    }
   ],
   "source": [
    "from sklearn.preprocessing import MinMaxScaler\n",
    "\n",
    "# MinMaxScaler객체 생성\n",
    "scaler = MinMaxScaler()\n",
    "# MinMaxScaler 로 데이터 셋 변환. fit() 과 transform() 호출.  \n",
    "scaler.fit(iris_df)\n",
    "iris_scaled = scaler.transform(iris_df)\n",
    "\n",
    "# transform()시 scale 변환된 데이터 셋이 numpy ndarry로 반환되어 이를 DataFrame으로 변환\n",
    "iris_df_scaled = pd.DataFrame(data=iris_scaled, columns=iris.feature_names)\n",
    "print('feature들의 최소 값')\n",
    "print(iris_df_scaled.min())\n",
    "print('\\nfeature들의 최대 값')\n",
    "print(iris_df_scaled.max())"
   ]
  },
  {
   "cell_type": "code",
   "execution_count": null,
   "metadata": {},
   "outputs": [],
   "source": []
  }
 ],
 "metadata": {
  "kernelspec": {
   "display_name": "Python 3",
   "language": "python",
   "name": "python3"
  },
  "language_info": {
   "codemirror_mode": {
    "name": "ipython",
    "version": 3
   },
   "file_extension": ".py",
   "mimetype": "text/x-python",
   "name": "python",
   "nbconvert_exporter": "python",
   "pygments_lexer": "ipython3",
   "version": "3.7.4"
  }
 },
 "nbformat": 4,
 "nbformat_minor": 4
}
